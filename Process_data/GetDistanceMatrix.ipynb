{
 "cells": [
  {
   "cell_type": "code",
   "execution_count": null,
   "metadata": {},
   "outputs": [],
   "source": [
    "#得到原始IDList, fileList (遍历scop-2.07-40文件夹)\n",
    "#结合errorList 做差集得到 IDList\n",
    "import os\n",
    "from pathlib import Path\n",
    "\n",
    "dir_path = \"/home/wngys/scop/scope-2.07-40\"\n",
    "\n",
    "IDList = []\n",
    "\n",
    "fileList = []\n",
    "\n",
    "for child_path in os.listdir(dir_path):\n",
    "    child_path = os.path.join(dir_path, child_path)\n",
    "    files = sorted([os.path.join(child_path, f_path) for f_path in os.listdir(child_path) if f_path.endswith(\".ent\")])\n",
    "    for f_path in os.listdir(child_path):\n",
    "        if f_path.endswith(\".ent\"):\n",
    "            IDList.append(f_path.split('.')[0])\n",
    "            fileList.append(os.path.join(child_path, f_path))\n",
    "IDset = set(IDList)\n",
    "print(len(IDset))\n",
    "# print(f\"total_num:{total_num}\")\n",
    "# print(fileList[:10])"
   ]
  },
  {
   "cell_type": "code",
   "execution_count": null,
   "metadata": {},
   "outputs": [],
   "source": [
    "# 根据蛋白质ID得到具体文件路径\n",
    "idx = IDList.index(\"d3m2pa1\")\n",
    "print(fileList[idx])"
   ]
  },
  {
   "cell_type": "code",
   "execution_count": null,
   "metadata": {},
   "outputs": [],
   "source": [
    "print(list(IDset)[:10])"
   ]
  },
  {
   "cell_type": "code",
   "execution_count": null,
   "metadata": {},
   "outputs": [],
   "source": [
    "# 验证 AB = BA\n",
    "# file_name = \"valid_pair.txt\"\n",
    "file_name = \"/home/wngys/scop/TMalign/tmalign.txt\"\n",
    "# file_name = \"test.txt\"\n",
    "\n",
    "ABdic = {}\n",
    "\n",
    "with open(file_name, \"r\") as f_r:\n",
    "    while True:\n",
    "        lines = f_r.readline()\n",
    "        if not lines:\n",
    "            break\n",
    "        id1 = lines.split('\\t')[0]\n",
    "        id2 = lines.split('\\t')[1]\n",
    "        scor1 = lines.split('\\t')[2]\n",
    "        scor2 = lines.split('\\t')[3]\n",
    "        scor3 = lines.split('\\t')[4]\n",
    "        scor4 = lines.split('\\t')[5]\n",
    "        scor5 = lines.split('\\t')[6]\n",
    "\n",
    "        if id2 + \" \" + id1 in ABdic:\n",
    "            print(id2, id1, ABdic[id2 + \" \" + id1], \"|\",  id1, id2, scor1, scor2, scor3, scor4, scor5)\n",
    "        \n",
    "        ABdic[id1 + \" \" + id2] = scor1 + \" \" + scor2 + \" \" + scor3 + \" \" + scor4 + \" \" + scor5\n",
    "# print(Hash)"
   ]
  },
  {
   "cell_type": "code",
   "execution_count": null,
   "metadata": {},
   "outputs": [],
   "source": [
    "# GitHub 原代码 生成距离矩阵\n",
    "import sys\n",
    "import os\n",
    "import numpy\n",
    "import scipy\n",
    "import scipy.spatial\n",
    "\n",
    "from Bio.PDB import PDBParser\n",
    "\n",
    "\n",
    "def get_distance_matrix(pdb_path):\n",
    "    parser = PDBParser()\n",
    "    structure = parser.get_structure('structure', pdb_path).get_list()[0]\n",
    "    residue_positions = get_residue_positions(structure)\n",
    "    pdb_dist_mat = scipy.spatial.distance.squareform(scipy.spatial.distance.pdist(residue_positions, 'euclidean'))\n",
    "    pdb_dist_mat[numpy.isnan(pdb_dist_mat)] = float('inf')\n",
    "    return pdb_dist_mat\n",
    "\n",
    "\n",
    "def get_residue_ids(structure):\n",
    "    ids = [r.get_id()[1] for r in structure.get_residues()]\n",
    "    return ids\n",
    "\n",
    "\n",
    "def get_residue_positions(structure):\n",
    "    residue_ids = get_residue_ids(structure)\n",
    "    positions = numpy.ones((residue_ids[-1] - residue_ids[0] + 1, 3)) * float('inf')\n",
    "    for residue in structure.get_residues():\n",
    "        atoms = residue.get_atoms()\n",
    "        for a in atoms:\n",
    "            if a.get_name() == 'CA':\n",
    "                positions[residue.get_id()[1] - residue_ids[0]] = a.get_coord()\n",
    "\n",
    "    return positions"
   ]
  },
  {
   "cell_type": "code",
   "execution_count": null,
   "metadata": {},
   "outputs": [],
   "source": [
    "# 修改的 GitHub 原代码 生成距离矩阵\n",
    "import sys\n",
    "import os\n",
    "import numpy\n",
    "import scipy\n",
    "import scipy.spatial\n",
    "\n",
    "from Bio.PDB import PDBParser\n",
    "\n",
    "\n",
    "def get_distance_matrix_modified(pdb_path):\n",
    "    parser = PDBParser()\n",
    "    structure = parser.get_structure('structure', pdb_path).get_list()[0]\n",
    "    residue_positions = get_residue_positions(structure)\n",
    "    pdb_dist_mat = scipy.spatial.distance.squareform(scipy.spatial.distance.pdist(residue_positions, 'euclidean'))\n",
    "    pdb_dist_mat[numpy.isnan(pdb_dist_mat)] = float('inf')\n",
    "    return pdb_dist_mat\n",
    "\n",
    "\n",
    "def get_residue_ids(structure):\n",
    "    ids = [r.get_id()[1] for r in structure.get_residues()]\n",
    "    return ids\n",
    "\n",
    "\n",
    "def get_residue_positions(structure):\n",
    "    residue_ids = get_residue_ids(structure)\n",
    "    positions = numpy.ones((len(residue_ids), 3)) * float('inf')\n",
    "    i = 0\n",
    "    for residue in structure.get_residues():\n",
    "        atoms = residue.get_atoms()\n",
    "        for a in atoms:\n",
    "            if a.get_name() == 'CA':\n",
    "                positions[i] = a.get_coord()\n",
    "                i = i + 1\n",
    "    return positions"
   ]
  },
  {
   "cell_type": "code",
   "execution_count": null,
   "metadata": {},
   "outputs": [],
   "source": [
    "# # 自己解析 ent文件 生成距离矩阵 without inf（有bug）\n",
    "# import sys\n",
    "# import os\n",
    "# import numpy\n",
    "# import scipy\n",
    "# import scipy.spatial\n",
    "\n",
    "# def get_distance_matrix_without_inf(pdb_path):\n",
    "#     CA_positions = []\n",
    "#     with open(pdb_path, 'r') as f:\n",
    "#         while True:\n",
    "#             line = f.readline()\n",
    "#             if not line:\n",
    "#                 break\n",
    "#             if line[:4] != \"ATOM\":\n",
    "#                 continue\n",
    "#             line_split = line.split()\n",
    "#             if line_split[2] == \"CA\":\n",
    "#                 position = [float(line_split[6]), float(line_split[7]), float(line_split[8])]\n",
    "#                 CA_positions.append(position)\n",
    "#     pdb_dist_mat = scipy.spatial.distance.squareform(scipy.spatial.distance.pdist(CA_positions, 'euclidean'))\n",
    "#     return pdb_dist_mat"
   ]
  },
  {
   "cell_type": "code",
   "execution_count": 13,
   "metadata": {},
   "outputs": [],
   "source": [
    "# 自己解析 ent文件 生成距离矩阵 without inf\n",
    "import sys\n",
    "import os\n",
    "import numpy\n",
    "import scipy\n",
    "import scipy.spatial\n",
    "\n",
    "def get_distance_matrix_without_inf(pdb_path):\n",
    "    CA_positions = []\n",
    "    with open(pdb_path, 'r') as f:\n",
    "        while True:\n",
    "            line = f.readline()\n",
    "            if not line:\n",
    "                break\n",
    "            if line[:4] != \"ATOM\":\n",
    "                continue\n",
    "            if line[13:15] == \"CA\":\n",
    "                position = [float(line[30:38].strip()), float(line[38:46].strip()), float(line[46:54].strip())]\n",
    "                CA_positions.append(position)\n",
    "    pdb_dist_mat = scipy.spatial.distance.squareform(scipy.spatial.distance.pdist(CA_positions, 'euclidean'))\n",
    "    return pdb_dist_mat"
   ]
  },
  {
   "cell_type": "code",
   "execution_count": null,
   "metadata": {},
   "outputs": [],
   "source": [
    "# 生成14000多个距离矩阵并保存\n",
    "import warnings\n",
    "warnings.filterwarnings('ignore')\n",
    "import numpy as np\n",
    "\n",
    "errorList = []\n",
    "errorFile = []\n",
    "save_dir = \"distance_matrix/\"\n",
    "# save_dir = \"\"\n",
    "\n",
    "for file_n in fileList:\n",
    "    ID = file_n.split(\"/\")[-1].split(\".\")[0]\n",
    "    try:\n",
    "        # M = get_distance_matrix(file_n)\n",
    "        # M = get_distance_matrix_modified(file_n)\n",
    "        M = get_distance_matrix_without_inf(file_n)\n",
    "    except:\n",
    "        errorList.append(ID)\n",
    "        errorFile.append(file_n)\n",
    "        print(\"error: \" + ID)\n",
    "    else:\n",
    "        np.save(save_dir+ID+\".npy\", M)\n",
    "        # print(\"done: \" + ID)"
   ]
  },
  {
   "cell_type": "code",
   "execution_count": null,
   "metadata": {},
   "outputs": [],
   "source": [
    "print(errorList)\n",
    "print(errorFile)"
   ]
  },
  {
   "cell_type": "code",
   "execution_count": null,
   "metadata": {},
   "outputs": [],
   "source": [
    "# 测试：加载举例矩阵\n",
    "M_2 = np.load(\"distance_matrix/d1e2aa_.npy\", allow_pickle=True)\n",
    "print(M_2.shape)\n",
    "print(M_2)"
   ]
  },
  {
   "cell_type": "code",
   "execution_count": null,
   "metadata": {},
   "outputs": [],
   "source": [
    "%pip install biopython"
   ]
  },
  {
   "cell_type": "code",
   "execution_count": null,
   "metadata": {},
   "outputs": [],
   "source": [
    "# 找出所有存在inf的距离矩阵\n",
    "import os\n",
    "\n",
    "dir_path = \"distance_matrix\"\n",
    "\n",
    "inf_List = []\n",
    "for child_path in os.listdir(dir_path):\n",
    "    child_path = os.path.join(dir_path, child_path)\n",
    "    M_2 = np.load(child_path, allow_pickle=True)\n",
    "    inf_n = numpy.sum(numpy.isinf(M_2))\n",
    "    if inf_n != 0:\n",
    "        # print(child_path, inf_n)\n",
    "        inf_List.append((child_path, inf_n))"
   ]
  },
  {
   "cell_type": "code",
   "execution_count": null,
   "metadata": {},
   "outputs": [],
   "source": [
    "print(len(inf_List))\n",
    "print(inf_List[:10])"
   ]
  },
  {
   "cell_type": "code",
   "execution_count": null,
   "metadata": {},
   "outputs": [],
   "source": [
    "dir_path = \"distance_matrix/\"\n",
    "\n",
    "print(len(os.listdir(dir_path)))\n",
    "print(os.listdir(dir_path)[0:10])"
   ]
  },
  {
   "cell_type": "code",
   "execution_count": null,
   "metadata": {},
   "outputs": [],
   "source": [
    "# 矩阵对比\n",
    "\n",
    "\n"
   ]
  },
  {
   "cell_type": "code",
   "execution_count": null,
   "metadata": {},
   "outputs": [],
   "source": []
  },
  {
   "cell_type": "code",
   "execution_count": null,
   "metadata": {},
   "outputs": [],
   "source": []
  },
  {
   "cell_type": "code",
   "execution_count": null,
   "metadata": {},
   "outputs": [],
   "source": []
  }
 ],
 "metadata": {
  "kernelspec": {
   "display_name": "Python 3 (ipykernel)",
   "language": "python",
   "name": "python3"
  },
  "language_info": {
   "codemirror_mode": {
    "name": "ipython",
    "version": 3
   },
   "file_extension": ".py",
   "mimetype": "text/x-python",
   "name": "python",
   "nbconvert_exporter": "python",
   "pygments_lexer": "ipython3",
   "version": "3.8.0"
  },
  "vscode": {
   "interpreter": {
    "hash": "474a727007314fe946f45bbc9b266c6bb0e4e19682495744a6293558354c7c6e"
   }
  }
 },
 "nbformat": 4,
 "nbformat_minor": 2
}
