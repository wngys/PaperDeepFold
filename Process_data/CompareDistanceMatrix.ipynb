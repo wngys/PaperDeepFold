{
 "cells": [
  {
   "cell_type": "code",
   "execution_count": null,
   "id": "e79afd0a",
   "metadata": {},
   "outputs": [],
   "source": [
    "# 找出所有存在inf的距离矩阵\n",
    "import os\n",
    "\n",
    "dir_path = \"distance_matrix\"\n",
    "\n",
    "inf_List = []\n",
    "for child_path in os.listdir(dir_path):\n",
    "    child_path = os.path.join(dir_path, child_path)\n",
    "    M_2 = np.load(child_path, allow_pickle=True)\n",
    "    inf_n = numpy.sum(numpy.isinf(M_2))\n",
    "    if inf_n != 0:\n",
    "        # print(child_path, inf_n)\n",
    "        inf_List.append((child_path, inf_n))"
   ]
  },
  {
   "cell_type": "code",
   "execution_count": null,
   "id": "02dbb1f9",
   "metadata": {},
   "outputs": [],
   "source": [
    "print(len(inf_List))\n",
    "print(inf_List[:10])"
   ]
  },
  {
   "cell_type": "code",
   "execution_count": null,
   "id": "3a2ee640",
   "metadata": {},
   "outputs": [],
   "source": [
    "dir_path = \"distance_matrix/\"\n",
    "\n",
    "print(len(os.listdir(dir_path)))\n",
    "print(os.listdir(dir_path)[0:10])"
   ]
  },
  {
   "cell_type": "code",
   "execution_count": null,
   "id": "7e881abb",
   "metadata": {},
   "outputs": [],
   "source": [
    "# 矩阵对比\n",
    "\n",
    "\n"
   ]
  },
  {
   "cell_type": "code",
   "execution_count": null,
   "id": "266ef533",
   "metadata": {},
   "outputs": [],
   "source": []
  }
 ],
 "metadata": {
  "kernelspec": {
   "display_name": "Python 3 (ipykernel)",
   "language": "python",
   "name": "python3"
  },
  "language_info": {
   "codemirror_mode": {
    "name": "ipython",
    "version": 3
   },
   "file_extension": ".py",
   "mimetype": "text/x-python",
   "name": "python",
   "nbconvert_exporter": "python",
   "pygments_lexer": "ipython3",
   "version": "3.8.0"
  }
 },
 "nbformat": 4,
 "nbformat_minor": 5
}
