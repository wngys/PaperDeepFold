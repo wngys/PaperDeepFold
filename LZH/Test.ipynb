{
 "cells": [
  {
   "cell_type": "code",
   "execution_count": 1,
   "id": "330e6510",
   "metadata": {},
   "outputs": [],
   "source": [
    "# 自己解析 ent文件 生成距离矩阵 without inf\n",
    "import sys\n",
    "import os\n",
    "import numpy\n",
    "import scipy\n",
    "import scipy.spatial\n",
    "\n",
    "def get_distance_matrix_without_inf(pdb_path):\n",
    "    CA_positions = []\n",
    "    with open(pdb_path, 'r') as f:\n",
    "        while True:\n",
    "            line = f.readline()\n",
    "            if not line:\n",
    "                break\n",
    "            if line[:4] != \"ATOM\":\n",
    "                continue\n",
    "            if line[13:15] == \"CA\":\n",
    "                position = [float(line[30:38].strip()), float(line[38:46].strip()), float(line[46:54].strip())]\n",
    "                CA_positions.append(position)\n",
    "    pdb_dist_mat = scipy.spatial.distance.squareform(scipy.spatial.distance.pdist(CA_positions, 'euclidean'))\n",
    "    return pdb_dist_mat"
   ]
  },
  {
   "cell_type": "code",
   "execution_count": 2,
   "id": "e5ff2971",
   "metadata": {},
   "outputs": [],
   "source": [
    "# 修改的 GitHub 原代码 生成距离矩阵\n",
    "import sys\n",
    "import os\n",
    "import numpy\n",
    "import scipy\n",
    "import scipy.spatial\n",
    "\n",
    "from Bio.PDB import PDBParser\n",
    "\n",
    "\n",
    "def get_distance_matrix_modified(pdb_path):\n",
    "    parser = PDBParser()\n",
    "    structure = parser.get_structure('structure', pdb_path).get_list()[0]\n",
    "    residue_positions = get_residue_positions_modified(structure)\n",
    "    pdb_dist_mat = scipy.spatial.distance.squareform(scipy.spatial.distance.pdist(residue_positions, 'euclidean'))\n",
    "    pdb_dist_mat[numpy.isnan(pdb_dist_mat)] = float('inf')\n",
    "    return pdb_dist_mat\n",
    "\n",
    "\n",
    "def get_residue_ids(structure):\n",
    "    ids = [r.get_id()[1] for r in structure.get_residues()]\n",
    "    return ids\n",
    "\n",
    "\n",
    "def get_residue_positions_modified(structure):\n",
    "    residue_ids = get_residue_ids(structure)\n",
    "    positions = numpy.ones((len(residue_ids), 3)) * float('inf')\n",
    "    i = 0\n",
    "    for residue in structure.get_residues():\n",
    "        atoms = residue.get_atoms()\n",
    "        for a in atoms:\n",
    "            if a.get_name() == 'CA':\n",
    "                positions[i] = a.get_coord()\n",
    "                i = i + 1\n",
    "    return positions"
   ]
  },
  {
   "cell_type": "code",
   "execution_count": 3,
   "id": "41bf5194",
   "metadata": {},
   "outputs": [],
   "source": [
    "# GitHub 原代码 生成距离矩阵\n",
    "import sys\n",
    "import os\n",
    "import numpy\n",
    "import scipy\n",
    "import scipy.spatial\n",
    "\n",
    "from Bio.PDB import PDBParser\n",
    "\n",
    "\n",
    "def get_distance_matrix(pdb_path):\n",
    "    parser = PDBParser()\n",
    "    structure = parser.get_structure('structure', pdb_path).get_list()[0]\n",
    "    residue_positions = get_residue_positions(structure)\n",
    "    pdb_dist_mat = scipy.spatial.distance.squareform(scipy.spatial.distance.pdist(residue_positions, 'euclidean'))\n",
    "    pdb_dist_mat[numpy.isnan(pdb_dist_mat)] = float('inf')\n",
    "    return pdb_dist_mat\n",
    "\n",
    "\n",
    "def get_residue_ids(structure):\n",
    "    ids = [r.get_id()[1] for r in structure.get_residues()]\n",
    "    return ids\n",
    "\n",
    "\n",
    "def get_residue_positions(structure):\n",
    "    residue_ids = get_residue_ids(structure)\n",
    "    positions = numpy.ones((residue_ids[-1] - residue_ids[0] + 1, 3)) * float('inf')\n",
    "    for residue in structure.get_residues():\n",
    "        atoms = residue.get_atoms()\n",
    "        for a in atoms:\n",
    "            if a.get_name() == 'CA':\n",
    "                positions[residue.get_id()[1] - residue_ids[0]] = a.get_coord()\n",
    "\n",
    "    return positions"
   ]
  },
  {
   "cell_type": "code",
   "execution_count": 4,
   "id": "05b46392",
   "metadata": {},
   "outputs": [],
   "source": [
    "# pdb_path = \"../test_ent/d3m2pa1.ent\"\n",
    "pdb_path = \"../test_ent/d12asa_.ent\""
   ]
  },
  {
   "cell_type": "code",
   "execution_count": 5,
   "id": "4422f896",
   "metadata": {},
   "outputs": [
    {
     "name": "stderr",
     "output_type": "stream",
     "text": [
      "d:\\install\\python\\python38\\lib\\site-packages\\Bio\\PDB\\PDBParser.py:395: PDBConstructionWarning: Ignoring unrecognized record 'END' at line 2573\n",
      "  warnings.warn(\n",
      "d:\\install\\python\\python38\\lib\\site-packages\\Bio\\PDB\\PDBParser.py:395: PDBConstructionWarning: Ignoring unrecognized record 'END' at line 2573\n",
      "  warnings.warn(\n"
     ]
    }
   ],
   "source": [
    "M1 = get_distance_matrix_without_inf(pdb_path)\n",
    "M2 = get_distance_matrix_modified(pdb_path)\n",
    "M3 = get_distance_matrix(pdb_path)"
   ]
  },
  {
   "cell_type": "code",
   "execution_count": 6,
   "id": "bf0665c3",
   "metadata": {},
   "outputs": [
    {
     "name": "stdout",
     "output_type": "stream",
     "text": [
      "(327, 327)\n",
      "(327, 327)\n",
      "(327, 327)\n"
     ]
    }
   ],
   "source": [
    "print(M1.shape)\n",
    "print(M2.shape)\n",
    "print(M3.shape)"
   ]
  },
  {
   "cell_type": "code",
   "execution_count": 7,
   "id": "de2fa0e6",
   "metadata": {},
   "outputs": [],
   "source": [
    "# numpy.save(\"../test_dist_mat/d3m2pa1.npy\", M1)\n",
    "# numpy.save(\"../test_dist_mat/test/d3m2pa1.npy\", M2)\n",
    "# numpy.save(\"../test_dist_mat/test_inf/d3m2pa1.npy\", M3)\n",
    "\n",
    "numpy.save(\"../test_dist_mat/d12asa_.npy\", M1)\n",
    "numpy.save(\"../test_dist_mat/test/d12asa_.npy\", M2)\n",
    "numpy.save(\"../test_dist_mat/test_inf/d12asa_.npy\", M3)"
   ]
  },
  {
   "cell_type": "code",
   "execution_count": null,
   "id": "27fa91ea",
   "metadata": {},
   "outputs": [],
   "source": []
  },
  {
   "cell_type": "code",
   "execution_count": 8,
   "id": "7cd1a17c",
   "metadata": {},
   "outputs": [],
   "source": [
    "import numpy as np"
   ]
  },
  {
   "cell_type": "code",
   "execution_count": 18,
   "id": "39266d2e",
   "metadata": {},
   "outputs": [],
   "source": [
    "shapeList = []\n",
    "infList = []\n",
    "nanList = []\n",
    "\n",
    "dir_path1 = \"../test_dist_mat/\"\n",
    "dir_path2 = \"../test_dist_mat/test/\"\n",
    "\n",
    "mat_id = \"d12asa_.npy\"\n",
    "\n",
    "dist_mat_path1 = dir_path1 + mat_id\n",
    "dist_mat_path2 = dir_path2 + mat_id\n",
    "\n",
    "dist_mat1 = np.load(dist_mat_path1, allow_pickle=True)\n",
    "dist_mat2 = np.load(dist_mat_path2, allow_pickle=True)\n",
    "\n",
    "shape_flag = False\n",
    "inf_flag = False\n",
    "nan_flag = False\n",
    "\n",
    "if not ((dist_mat1.shape[0] == dist_mat2.shape[0]) and (dist_mat1.shape[1] == dist_mat2.shape[1])):\n",
    "    print(mat_id, \"shapes are different:\", dist_mat1.shape, \",\", dist_mat2.shape)\n",
    "    shape_flag = True\n",
    "if (np.sum(np.isinf(dist_mat1)) != 0) or (np.sum(np.isinf(dist_mat2)) != 0):\n",
    "    print(mat_id, \"have inf:\", np.sum(np.isinf(dist_mat1)), \",\", np.sum(np.isinf(dist_mat2)))\n",
    "    inf_flag = True\n",
    "if (np.sum(np.isnan(dist_mat1)) != 0) or (np.sum(np.isnan(dist_mat2)) != 0):\n",
    "    print(mat_id, \"have nan:\", np.sum(np.isnan(dist_mat1)), \",\", np.sum(np.isnan(dist_mat2)))\n",
    "    nan_flag = True\n",
    "if not (shape_flag or inf_flag or nan_flag):\n",
    "    diff = np.sum(np.square(dist_mat1 - dist_mat2))\n",
    "    if diff > 0.1:\n",
    "        print(mat_id, \"difference too large:\", diff)"
   ]
  },
  {
   "cell_type": "code",
   "execution_count": null,
   "id": "0bf94f52",
   "metadata": {},
   "outputs": [],
   "source": []
  }
 ],
 "metadata": {
  "kernelspec": {
   "display_name": "Python 3 (ipykernel)",
   "language": "python",
   "name": "python3"
  },
  "language_info": {
   "codemirror_mode": {
    "name": "ipython",
    "version": 3
   },
   "file_extension": ".py",
   "mimetype": "text/x-python",
   "name": "python",
   "nbconvert_exporter": "python",
   "pygments_lexer": "ipython3",
   "version": "3.8.0"
  }
 },
 "nbformat": 4,
 "nbformat_minor": 5
}
