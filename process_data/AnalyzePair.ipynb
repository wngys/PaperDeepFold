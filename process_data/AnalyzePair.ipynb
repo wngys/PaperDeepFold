{
 "cells": [
  {
   "cell_type": "code",
   "execution_count": null,
   "id": "feb6c1ba",
   "metadata": {},
   "outputs": [],
   "source": [
    "import os\n",
    "from math import floor\n",
    "import matplotlib.pyplot as plt"
   ]
  },
  {
   "cell_type": "code",
   "execution_count": null,
   "id": "0d36db72",
   "metadata": {},
   "outputs": [],
   "source": [
    "def get_label_count(file_path):\n",
    "    with open(file_path, 'r') as f:\n",
    "        count_dict = {}\n",
    "        while True:\n",
    "            line = f.readline()\n",
    "            if not line:\n",
    "                break\n",
    "            line_split = line.split()\n",
    "            label = line_split[1]\n",
    "            if label in count_dict:\n",
    "                count_dict[label] += 1\n",
    "            else:\n",
    "                count_dict[label] = 1\n",
    "        return count_dict"
   ]
  },
  {
   "cell_type": "code",
   "execution_count": null,
   "id": "e944750e",
   "metadata": {},
   "outputs": [],
   "source": [
    "dir_pair = \"/home/wngys/lab/DeepFold/pair/pair_bool_90/\"\n",
    "\n",
    "backet = [0, 0, 0, 0, 0, 0, 0, 0, 0 ,0 ,0]\n",
    "\n",
    "label_dict = {}\n",
    "\n",
    "for file_path in os.listdir(dir_pair):\n",
    "    ID = file_path.split('/')[-1].split('.')[0]\n",
    "    count = get_label_count(file_path)\n",
    "    ratio = count['1'] / (count['0'] + count['1'])\n",
    "    idx = floor(ratio * 1000)\n",
    "    backet[idx] += 1\n",
    "    label_dict[ID] = {'count': count, 'ratio': ratio}"
   ]
  },
  {
   "cell_type": "code",
   "execution_count": null,
   "id": "a600ebbd",
   "metadata": {},
   "outputs": [],
   "source": [
    "print(backet)\n",
    "print(len(label_dict.keys()))"
   ]
  },
  {
   "cell_type": "code",
   "execution_count": null,
   "id": "90892b05",
   "metadata": {},
   "outputs": [],
   "source": [
    "plt.bar(range(len(backet)), backet)\n",
    "plt.show()"
   ]
  },
  {
   "cell_type": "code",
   "execution_count": null,
   "id": "33b6153e",
   "metadata": {},
   "outputs": [],
   "source": [
    "import numpy as np\n",
    "\n",
    "np.save(\"/home/wngys/lab/DeepFold/protein_infor/labelCountRatio90.npy\", label_dict)"
   ]
  },
  {
   "cell_type": "code",
   "execution_count": null,
   "id": "94250706",
   "metadata": {},
   "outputs": [],
   "source": []
  },
  {
   "cell_type": "code",
   "execution_count": null,
   "id": "b6d41bf7",
   "metadata": {},
   "outputs": [],
   "source": []
  }
 ],
 "metadata": {
  "kernelspec": {
   "display_name": "Python 3 (ipykernel)",
   "language": "python",
   "name": "python3"
  },
  "language_info": {
   "codemirror_mode": {
    "name": "ipython",
    "version": 3
   },
   "file_extension": ".py",
   "mimetype": "text/x-python",
   "name": "python",
   "nbconvert_exporter": "python",
   "pygments_lexer": "ipython3",
   "version": "3.8.0"
  }
 },
 "nbformat": 4,
 "nbformat_minor": 5
}
