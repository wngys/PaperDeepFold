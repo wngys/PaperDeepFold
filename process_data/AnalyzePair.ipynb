{
 "cells": [
  {
   "cell_type": "code",
   "execution_count": 1,
   "id": "feb6c1ba",
   "metadata": {},
   "outputs": [],
   "source": [
    "import os\n",
    "from math import floor\n",
    "import matplotlib.pyplot as plt\n",
    "import numpy as np"
   ]
  },
  {
   "cell_type": "code",
   "execution_count": 2,
   "id": "0d36db72",
   "metadata": {},
   "outputs": [],
   "source": [
    "# 输入文件的路径，获得正负例个数的情况\n",
    "def get_label_count(file_path):\n",
    "    with open(file_path, 'r') as f:\n",
    "        count_dict = {}\n",
    "        while True:\n",
    "            line = f.readline()\n",
    "            if not line:\n",
    "                break\n",
    "            line_split = line.split()\n",
    "            label = line_split[1]\n",
    "            if label in count_dict:\n",
    "                count_dict[label] += 1\n",
    "            else:\n",
    "                count_dict[label] = 1\n",
    "        return count_dict"
   ]
  },
  {
   "cell_type": "code",
   "execution_count": 3,
   "id": "e944750e",
   "metadata": {},
   "outputs": [],
   "source": [
    "# 获得所有蛋白质的正负例的情况\n",
    "dir_path = \"/home/wngys/lab/DeepFold/pair/pair_bool_90/\"\n",
    "\n",
    "label_dict = {}\n",
    "\n",
    "for file_path in os.listdir(dir_path):\n",
    "    file_path = os.path.join(dir_path, file_path)\n",
    "    ID = file_path.split('/')[-1].split('.')[0]\n",
    "    # print(ID)\n",
    "    count = get_label_count(file_path)\n",
    "    label_dict[ID] = count"
   ]
  },
  {
   "cell_type": "code",
   "execution_count": 4,
   "id": "0ce95754",
   "metadata": {},
   "outputs": [
    {
     "name": "stdout",
     "output_type": "stream",
     "text": [
      "14244\n"
     ]
    }
   ],
   "source": [
    "print(len(label_dict.keys()))"
   ]
  },
  {
   "cell_type": "code",
   "execution_count": 5,
   "id": "8a4e6686",
   "metadata": {},
   "outputs": [
    {
     "name": "stdout",
     "output_type": "stream",
     "text": [
      "1001\n"
     ]
    }
   ],
   "source": [
    "# 画出直方图\n",
    "backet_num = 1000\n",
    "backet = np.zeros(backet_num + 1).tolist()\n",
    "backet_dict = {}\n",
    "print(len(backet))"
   ]
  },
  {
   "cell_type": "code",
   "execution_count": 6,
   "id": "b9329209",
   "metadata": {},
   "outputs": [],
   "source": [
    "for ID in label_dict.keys():\n",
    "    count = label_dict[ID]\n",
    "    ratio = 0.0\n",
    "    if '0' not in count.keys():\n",
    "        ratio = count['1'] / count['1']\n",
    "    elif '1' not in count.keys():\n",
    "        ratio = 0 / count['0']\n",
    "    else:\n",
    "        ratio = count['1'] / (count['0'] + count['1'])\n",
    "    idx = floor(ratio * 1000)\n",
    "    if idx > backet_num:\n",
    "        idx = backet_num\n",
    "    backet[idx] += 1\n",
    "    if idx in backet_dict:\n",
    "        backet_dict[idx].append(ID)\n",
    "    else:\n",
    "        backet_dict[idx] = [ID]"
   ]
  },
  {
   "cell_type": "code",
   "execution_count": 7,
   "id": "b9ca3c66",
   "metadata": {},
   "outputs": [
    {
     "name": "stdout",
     "output_type": "stream",
     "text": [
      "297\n"
     ]
    }
   ],
   "source": [
    "print(len(backet_dict.keys()))"
   ]
  },
  {
   "cell_type": "code",
   "execution_count": 8,
   "id": "078c72cc",
   "metadata": {},
   "outputs": [
    {
     "name": "stdout",
     "output_type": "stream",
     "text": [
      "17.0\n"
     ]
    }
   ],
   "source": [
    "print(backet[200])"
   ]
  },
  {
   "cell_type": "code",
   "execution_count": 9,
   "id": "9d16c6be",
   "metadata": {},
   "outputs": [
    {
     "name": "stdout",
     "output_type": "stream",
     "text": [
      "['d4ogca4', 'd5dgja1', 'd5b7ha1', 'd4ycub1', 'd5ubmb1', 'd1s7ma_', 'd4eqma_', 'd2d8ra1', 'd5opfa_', 'd5h20a_', 'd5vj0a_', 'd4ybna_', 'd3d9ra1', 'd1ocya_', 'd5mxca1', 'd2v8qe2', 'd5xbob_', 'd4laya2', 'd3jb9y1', 'd2qamh1', 'd3axaa_', 'd5xtfa_', 'd2w2db1', 'd1iyca_', 'd5ufta1', 'd5svva_']\n"
     ]
    }
   ],
   "source": [
    "print(backet_dict[100])"
   ]
  },
  {
   "cell_type": "code",
   "execution_count": 26,
   "id": "90892b05",
   "metadata": {},
   "outputs": [
    {
     "data": {
      "image/png": "[encoded data removed]",
      "text/plain": [
       "<Figure size 432x288 with 1 Axes>"
      ]
     },
     "metadata": {},
     "output_type": "display_data"
    }
   ],
   "source": [
    "ln = 0\n",
    "rn = 100\n",
    "plt.bar(range(ln, rn+1), backet[ln:rn+1])\n",
    "plt.show()"
   ]
  },
  {
   "cell_type": "code",
   "execution_count": 11,
   "id": "94250706",
   "metadata": {},
   "outputs": [],
   "source": [
    "# 找出负例个数小于thres个的蛋白质\n",
    "thres = 10\n",
    "\n",
    "neg_less_label_dict = {}\n",
    "\n",
    "for ID in label_dict.keys():\n",
    "    count = label_dict[ID]\n",
    "    if ('0' not in count) or (count['0'] < thres):\n",
    "        neg_less_label_dict[ID] = count"
   ]
  },
  {
   "cell_type": "code",
   "execution_count": 12,
   "id": "b6d41bf7",
   "metadata": {},
   "outputs": [
    {
     "name": "stdout",
     "output_type": "stream",
     "text": [
      "226\n",
      "['d5axwa4', 'd4oita1', 'd5w7za2', 'd5ohka_', 'd5ts9a_', 'd5x7va_', 'd1sg1x4', 'd5y3ca1', 'd4zohb1', 'd4i9xc3', 'd4lmsa_', 'd5mkka1', 'd5hk3a_', 'd2i9wa3', 'd5dgja1', 'd5y1fa1', 'd5tuvb_', 'd5w83b_', 'd5odua_', 'd1ogyb_', 'd5k3ha3', 'd5erqa1', 'd4xfja2', 'd5wb8c_', 'd5ws7a_', 'd5xopa1', 'd5ompa3', 'd6bmaa1', 'd5ie8a_', 'd4cr2h3', 'd5gvya_', 'd5x3pa_', 'd5ubmb1', 'd5lj3n2', 'd2kraa1', 'd6b9xb1', 'd5uyja1', 'd5um2a1', 'd5wl1a1', 'd6bk0a_', 'd5v0za_', 'd4cpai_', 'd5urna1', 'd5n92f_', 'd1ixta_', 'd2z7fi_', 'd4r5ra_', 'd5xn9a1', 'd4qf3a1', 'd4mt2a_', 'd1omca_', 'd4pj11_', 'd5troa1', 'd5o9ma1', 'd5muaa1', 'd1s7ma_', 'd6b8sa1', 'd1t2ya_', 'd5nbfa_', 'd5tkwa1', 'd5e4ga_', 'd5xdta2', 'd1jhna3', 'd5hrja_', 'd2cqea2', 'd5szva_', 'd5itqa1', 'd1a6bb_', 'd5cula_', 'd5gmkf_', 'd6bkva1', 'd5jn5a4', 'd5xeca_', 'd5mu9a1', 'd5k28a1', 'd1rjuv_', 'd5uj5a1', 'd1rmka_', 'd5vg0a_', 'd5opfa_', 'd2j01p1', 'd5tv2a2', 'd3ag3f_', 'd1pxea_', 'd5wtza1', 'd2nwta1', 'd3pt6a1', 'd5bnza2', 'd1dsqa_', 'd5jsca1', 'd5x3ya1', 'd1dsva_', 'd5vn6a_', 'd5ldqa_', 'd5ut3a_', 'd5wcea2', 'd5tk8a_', 'd5y4za2', 'd5w7za3', 'd5erqa3', 'd5l8r1_', 'd5hjza_', 'd5us1a1', 'd6azia_', 'd5y4za1', 'd4aoga1', 'd4ubpb_', 'd5w83a_', 'd5vj0a_', 'd5viqa1', 'd2k7va1', 'd1m0ga_', 'd4g3qa2', 'd5vt9a_', 'd4ntwb_', 'd1oiga_', 'd4rku3_', 'd5w7za1', 'd6blga_', 'd5c6ka_', 'd5xjna_', 'd2ffta1', 'd6bmea_', 'd5w3xd_', 'd5lp9a_', 'd5wcea3', 'd4pdxa2', 'd5teaa_', 'd5nopa_', 'd1frea_', 'd5nl9a1', 'd5d8va_', 'd5b7xa1', 'd5x7ka_', 'd4i9xc1', 'd2h9ec_', 'd5ll1a2', 'd4pqda_', 'd4jpbw_', 'd2pw8i1', 'd5m1ea2', 'd5y4fa_', 'd5m12a1', 'd4tkca_', 'd5l0na_', 'd1kala_', 'd4o1ra1', 'd5u4ha1', 'd5vf5a1', 'd5xzta_', 'd1ocya_', 'd5wjpa1', 'd4ubpc1', 'd5mu9a2', 'd5tr9a1', 'd5vx1a1', 'd2xhlb1', 'd1m0ja_', 'd2cmea1', 'd1dmea_', 'd2l4la_', 'd6b9xc_', 'd1ansa_', 'd5mxca1', 'd5xd7a2', 'd1hn6a_', 'd5n4fa2', 'd3nfga_', 'd2j0141', 'd5m1ea1', 'd6blma2', 'd1sopa_', 'd1zrua2', 'd5e4xa_', 'd5m3na2', 'd5u8ja2', 'd5w3ra1', 'd6ao9a_', 'd7a3ha_', 'd5o9zv_', 'd4r3fa_', 'd5wsfa_', 'd5u1ma_', 'd2uvoa1', 'd4iaua_', 'd6b1pa2', 'd6b10a1', 'd5k8sa1', 'd5suza1', 'd5vf5a2', 'd4xxbb_', 'd5vz3a_', 'd5mpra1', 'd5hpja_', 'd5dvha_', 'd5x8fa_', 'd5m3na1', 'd5umha_', 'd5x14a1', 'd2xdpa1', 'd3h3ba2', 'd3jb9y1', 'd2baia1', 'd5mp0d_', 'd5gpga1', 'd5h6za_', 'd5xgta_', 'd5xtfa_', 'd5d0ib_', 'd4xsgb_', 'd1qjla_', 'd5suva1', 'd4uafe_', 'd2w2db1', 'd5ltra_', 'd5itqa2', 'd1iyca_', 'd5hgwa1', 'd5viqa2', 'd5o9zg_', 'd5ks7a_', 'd5xb0a_', 'd6blma1', 'd5ufta1', 'd5svva_', 'd2fc6a1']\n"
     ]
    }
   ],
   "source": [
    "print(len(neg_less_label_dict.keys()))\n",
    "print(list(neg_less_label_dict.keys()))"
   ]
  },
  {
   "cell_type": "code",
   "execution_count": 13,
   "id": "187f7862",
   "metadata": {},
   "outputs": [],
   "source": [
    "import numpy as np\n",
    "\n",
    "np.save(\"/home/wngys/lab/DeepFold/protein_infor/negLess10IDArray.npy\", list(neg_less_label_dict.keys()))"
   ]
  },
  {
   "cell_type": "code",
   "execution_count": 14,
   "id": "823b24f7",
   "metadata": {},
   "outputs": [
    {
     "name": "stdout",
     "output_type": "stream",
     "text": [
      "226\n"
     ]
    }
   ],
   "source": [
    "ll = np.load(\"/home/wngys/lab/DeepFold/protein_infor/negLess10IDArray.npy\", allow_pickle=True).tolist()\n",
    "print(len(ll))"
   ]
  },
  {
   "cell_type": "code",
   "execution_count": 15,
   "id": "e4d5e3d6",
   "metadata": {},
   "outputs": [
    {
     "name": "stdout",
     "output_type": "stream",
     "text": [
      "1001\n"
     ]
    }
   ],
   "source": [
    "# 画出直方图\n",
    "neg_less_backet_num = 1000\n",
    "neg_less_backet = np.zeros(neg_less_backet_num + 1).tolist()\n",
    "neg_less_backet_dict = {}\n",
    "print(len(neg_less_backet))"
   ]
  },
  {
   "cell_type": "code",
   "execution_count": 16,
   "id": "5414a673",
   "metadata": {},
   "outputs": [],
   "source": [
    "for ID in neg_less_label_dict.keys():\n",
    "    count = neg_less_label_dict[ID]\n",
    "    ratio = 0.0\n",
    "    if '0' not in count.keys():\n",
    "        ratio = count['1'] / count['1']\n",
    "    elif '1' not in count.keys():\n",
    "        ratio = 0 / count['0']\n",
    "    else:\n",
    "        ratio = count['1'] / (count['0'] + count['1'])\n",
    "    idx = floor(ratio * 1000)\n",
    "    if idx > neg_less_backet_num:\n",
    "        idx = neg_less_backet_num\n",
    "    neg_less_backet[idx] += 1\n",
    "    if idx in neg_less_backet_dict:\n",
    "        neg_less_backet_dict[idx].append(ID)\n",
    "    else:\n",
    "        neg_less_backet_dict[idx] = [ID]"
   ]
  },
  {
   "cell_type": "code",
   "execution_count": 17,
   "id": "dc2ddb51",
   "metadata": {},
   "outputs": [
    {
     "name": "stdout",
     "output_type": "stream",
     "text": [
      "44\n",
      "dict_keys([200, 250, 636, 300, 1000, 666, 400, 222, 100, 800, 166, 600, 181, 909, 500, 125, 333, 923, 111, 750, 461, 684, 428, 915, 142, 555, 375, 384, 733, 363, 272, 307, 611, 454, 357, 857, 470, 533, 545, 695, 714, 615, 285, 687])\n"
     ]
    }
   ],
   "source": [
    "print(len(neg_less_backet_dict.keys()))\n",
    "print(neg_less_backet_dict.keys())"
   ]
  },
  {
   "cell_type": "code",
   "execution_count": 25,
   "id": "994ab396",
   "metadata": {},
   "outputs": [
    {
     "data": {
      "image/png": "[encoded data removed]",
      "text/plain": [
       "<Figure size 432x288 with 1 Axes>"
      ]
     },
     "metadata": {},
     "output_type": "display_data"
    }
   ],
   "source": [
    "ln = 0\n",
    "rn = 1000\n",
    "plt.bar(range(ln, rn+1), neg_less_backet[ln:rn+1])\n",
    "plt.show()"
   ]
  },
  {
   "cell_type": "code",
   "execution_count": null,
   "id": "6fe8ff6b",
   "metadata": {},
   "outputs": [],
   "source": []
  }
 ],
 "metadata": {
  "kernelspec": {
   "display_name": "Python 3.8.12 64-bit ('miniconda38')",
   "language": "python",
   "name": "python3"
  },
  "language_info": {
   "codemirror_mode": {
    "name": "ipython",
    "version": 3
   },
   "file_extension": ".py",
   "mimetype": "text/x-python",
   "name": "python",
   "nbconvert_exporter": "python",
   "pygments_lexer": "ipython3",
   "version": "3.8.12"
  },
  "vscode": {
   "interpreter": {
    "hash": "474a727007314fe946f45bbc9b266c6bb0e4e19682495744a6293558354c7c6e"
   }
  }
 },
 "nbformat": 4,
 "nbformat_minor": 5
}
