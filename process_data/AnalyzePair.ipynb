{
 "cells": [
  {
   "cell_type": "code",
   "execution_count": 1,
   "id": "feb6c1ba",
   "metadata": {},
   "outputs": [],
   "source": [
    "import os\n",
    "from math import floor\n",
    "import matplotlib.pyplot as plt\n",
    "import numpy as np"
   ]
  },
  {
   "cell_type": "code",
   "execution_count": 2,
   "id": "0d36db72",
   "metadata": {},
   "outputs": [],
   "source": [
    "# 输入文件的路径，获得正负例个数的情况\n",
    "def get_label_count(file_path):\n",
    "    with open(file_path, 'r') as f:\n",
    "        count_dict = {}\n",
    "        while True:\n",
    "            line = f.readline()\n",
    "            if not line:\n",
    "                break\n",
    "            line_split = line.split()\n",
    "            label = line_split[1]\n",
    "            if label in count_dict:\n",
    "                count_dict[label] += 1\n",
    "            else:\n",
    "                count_dict[label] = 1\n",
    "        return count_dict"
   ]
  },
  {
   "cell_type": "code",
   "execution_count": 3,
   "id": "e944750e",
   "metadata": {},
   "outputs": [],
   "source": [
    "# 获得所有蛋白质的正负例的情况\n",
    "dir_path = \"/home/wngys/lab/DeepFold/pair/pair_bool_90/\"\n",
    "\n",
    "label_dict = {}\n",
    "\n",
    "for file_path in os.listdir(dir_path):\n",
    "    file_path = os.path.join(dir_path, file_path)\n",
    "    ID = file_path.split('/')[-1].split('.')[0]\n",
    "    # print(ID)\n",
    "    count = get_label_count(file_path)\n",
    "    label_dict[ID] = count"
   ]
  },
  {
   "cell_type": "code",
   "execution_count": 4,
   "id": "fc2d4c24",
   "metadata": {},
   "outputs": [
    {
     "data": {
      "text/plain": [
       "{'0': 1049, '1': 5}"
      ]
     },
     "execution_count": 4,
     "metadata": {},
     "output_type": "execute_result"
    }
   ],
   "source": [
    "label_dict['d1qqp3_']"
   ]
  },
  {
   "cell_type": "code",
   "execution_count": 5,
   "id": "0ce95754",
   "metadata": {},
   "outputs": [
    {
     "name": "stdout",
     "output_type": "stream",
     "text": [
      "14244\n"
     ]
    }
   ],
   "source": [
    "print(len(label_dict.keys()))"
   ]
  },
  {
   "cell_type": "code",
   "execution_count": 6,
   "id": "8a4e6686",
   "metadata": {},
   "outputs": [
    {
     "name": "stdout",
     "output_type": "stream",
     "text": [
      "1001\n"
     ]
    }
   ],
   "source": [
    "# 画出直方图\n",
    "backet_num = 1000\n",
    "backet = np.zeros(backet_num + 1).tolist()\n",
    "backet_dict = {}\n",
    "print(len(backet))"
   ]
  },
  {
   "cell_type": "code",
   "execution_count": 7,
   "id": "b9329209",
   "metadata": {},
   "outputs": [],
   "source": [
    "for ID in label_dict.keys():\n",
    "    count = label_dict[ID]\n",
    "    ratio = 0.0\n",
    "    if '0' not in count.keys():\n",
    "        ratio = count['1'] / count['1']\n",
    "    elif '1' not in count.keys():\n",
    "        ratio = 0 / count['0']\n",
    "    else:\n",
    "        ratio = count['1'] / (count['0'] + count['1'])\n",
    "    idx = floor(ratio * 1000)\n",
    "    if idx > backet_num:\n",
    "        idx = backet_num\n",
    "    backet[idx] += 1\n",
    "    if idx in backet_dict:\n",
    "        backet_dict[idx].append(ID)\n",
    "    else:\n",
    "        backet_dict[idx] = [ID]"
   ]
  },
  {
   "cell_type": "code",
   "execution_count": 8,
   "id": "b9ca3c66",
   "metadata": {},
   "outputs": [
    {
     "name": "stdout",
     "output_type": "stream",
     "text": [
      "297\n",
      "[0, 1, 2, 3, 4, 5, 6, 7, 8, 9, 10, 11, 12, 13, 14, 15, 16, 17, 18, 19, 20, 21, 22, 23, 24, 25, 26, 27, 28, 29, 30, 31, 32, 33, 34, 35, 36, 37, 38, 39, 40, 41, 42, 43, 44, 45, 46, 47, 48, 49, 50, 51, 52, 53, 54, 55, 56, 57, 58, 59, 60, 61, 62, 63, 64, 65, 66, 67, 68, 69, 70, 71, 72, 73, 74, 75, 76, 77, 78, 79, 80, 81, 82, 83, 84, 85, 86, 87, 88, 89, 90, 91, 92, 93, 94, 95, 96, 97, 98, 99, 100, 101, 102, 103, 104, 105, 106, 107, 108, 110, 111, 112, 113, 114, 115, 116, 117, 118, 119, 120, 122, 123, 124, 125, 126, 128, 129, 130, 131, 133, 134, 135, 136, 137, 138, 139, 140, 141, 142, 144, 145, 146, 147, 148, 149, 150, 151, 152, 153, 155, 156, 157, 158, 159, 160, 161, 162, 163, 164, 166, 168, 170, 171, 172, 173, 175, 176, 177, 178, 180, 181, 183, 185, 186, 187, 188, 190, 191, 192, 194, 195, 198, 200, 204, 205, 208, 212, 214, 216, 217, 222, 225, 227, 228, 229, 230, 232, 235, 238, 240, 242, 243, 246, 250, 255, 258, 260, 261, 263, 264, 265, 267, 269, 270, 272, 277, 280, 281, 282, 285, 291, 292, 293, 294, 296, 300, 304, 305, 306, 307, 308, 310, 312, 314, 318, 320, 323, 324, 325, 326, 327, 333, 340, 341, 357, 360, 363, 366, 368, 372, 375, 377, 380, 384, 386, 387, 400, 409, 411, 416, 423, 428, 448, 454, 457, 460, 461, 470, 485, 500, 521, 523, 533, 545, 555, 565, 586, 600, 611, 615, 617, 636, 666, 675, 676, 684, 687, 695, 714, 733, 750, 800, 857, 909, 915, 923, 1000]\n"
     ]
    }
   ],
   "source": [
    "backet_dict_keys = list(backet_dict.keys())\n",
    "backet_dict_keys.sort()\n",
    "print(len(backet_dict_keys))\n",
    "print(backet_dict_keys)"
   ]
  },
  {
   "cell_type": "code",
   "execution_count": 9,
   "id": "078c72cc",
   "metadata": {},
   "outputs": [
    {
     "name": "stdout",
     "output_type": "stream",
     "text": [
      "17.0\n"
     ]
    }
   ],
   "source": [
    "print(backet[200])"
   ]
  },
  {
   "cell_type": "code",
   "execution_count": 10,
   "id": "9d16c6be",
   "metadata": {},
   "outputs": [
    {
     "name": "stdout",
     "output_type": "stream",
     "text": [
      "['d4ogca4', 'd5dgja1', 'd5b7ha1', 'd4ycub1', 'd5ubmb1', 'd1s7ma_', 'd4eqma_', 'd2d8ra1', 'd5opfa_', 'd5h20a_', 'd5vj0a_', 'd4ybna_', 'd3d9ra1', 'd1ocya_', 'd5mxca1', 'd2v8qe2', 'd5xbob_', 'd4laya2', 'd3jb9y1', 'd2qamh1', 'd3axaa_', 'd5xtfa_', 'd2w2db1', 'd1iyca_', 'd5ufta1', 'd5svva_']\n"
     ]
    }
   ],
   "source": [
    "print(backet_dict[100])"
   ]
  },
  {
   "cell_type": "code",
   "execution_count": 13,
   "id": "90892b05",
   "metadata": {},
   "outputs": [
    {
     "data": {
      "image/png": "[encoded data removed]",
      "text/plain": [
       "<Figure size 432x288 with 1 Axes>"
      ]
     },
     "metadata": {},
     "output_type": "display_data"
    }
   ],
   "source": [
    "ln = 0\n",
    "rn = 100\n",
    "plt.bar(range(ln, rn+1), backet[ln:rn+1])\n",
    "plt.show()"
   ]
  },
  {
   "cell_type": "code",
   "execution_count": 17,
   "id": "94250706",
   "metadata": {},
   "outputs": [],
   "source": [
    "# 找出负例个数小于thres个的蛋白质\n",
    "thres = 10\n",
    "\n",
    "neg_less_label_dict = {}\n",
    "\n",
    "for ID in label_dict.keys():\n",
    "    count = label_dict[ID]\n",
    "    if ('0' not in count) or (count['0'] < thres):\n",
    "        neg_less_label_dict[ID] = count"
   ]
  },
  {
   "cell_type": "code",
   "execution_count": 18,
   "id": "b6d41bf7",
   "metadata": {},
   "outputs": [
    {
     "name": "stdout",
     "output_type": "stream",
     "text": [
      "226\n",
      "['d5axwa4', 'd4oita1', 'd5w7za2', 'd5ohka_', 'd5ts9a_', 'd5x7va_', 'd1sg1x4', 'd5y3ca1', 'd4zohb1', 'd4i9xc3', 'd4lmsa_', 'd5mkka1', 'd5hk3a_', 'd2i9wa3', 'd5dgja1', 'd5y1fa1', 'd5tuvb_', 'd5w83b_', 'd5odua_', 'd1ogyb_', 'd5k3ha3', 'd5erqa1', 'd4xfja2', 'd5wb8c_', 'd5ws7a_', 'd5xopa1', 'd5ompa3', 'd6bmaa1', 'd5ie8a_', 'd4cr2h3', 'd5gvya_', 'd5x3pa_', 'd5ubmb1', 'd5lj3n2', 'd2kraa1', 'd6b9xb1', 'd5uyja1', 'd5um2a1', 'd5wl1a1', 'd6bk0a_', 'd5v0za_', 'd4cpai_', 'd5urna1', 'd5n92f_', 'd1ixta_', 'd2z7fi_', 'd4r5ra_', 'd5xn9a1', 'd4qf3a1', 'd4mt2a_', 'd1omca_', 'd4pj11_', 'd5troa1', 'd5o9ma1', 'd5muaa1', 'd1s7ma_', 'd6b8sa1', 'd1t2ya_', 'd5nbfa_', 'd5tkwa1', 'd5e4ga_', 'd5xdta2', 'd1jhna3', 'd5hrja_', 'd2cqea2', 'd5szva_', 'd5itqa1', 'd1a6bb_', 'd5cula_', 'd5gmkf_', 'd6bkva1', 'd5jn5a4', 'd5xeca_', 'd5mu9a1', 'd5k28a1', 'd1rjuv_', 'd5uj5a1', 'd1rmka_', 'd5vg0a_', 'd5opfa_', 'd2j01p1', 'd5tv2a2', 'd3ag3f_', 'd1pxea_', 'd5wtza1', 'd2nwta1', 'd3pt6a1', 'd5bnza2', 'd1dsqa_', 'd5jsca1', 'd5x3ya1', 'd1dsva_', 'd5vn6a_', 'd5ldqa_', 'd5ut3a_', 'd5wcea2', 'd5tk8a_', 'd5y4za2', 'd5w7za3', 'd5erqa3', 'd5l8r1_', 'd5hjza_', 'd5us1a1', 'd6azia_', 'd5y4za1', 'd4aoga1', 'd4ubpb_', 'd5w83a_', 'd5vj0a_', 'd5viqa1', 'd2k7va1', 'd1m0ga_', 'd4g3qa2', 'd5vt9a_', 'd4ntwb_', 'd1oiga_', 'd4rku3_', 'd5w7za1', 'd6blga_', 'd5c6ka_', 'd5xjna_', 'd2ffta1', 'd6bmea_', 'd5w3xd_', 'd5lp9a_', 'd5wcea3', 'd4pdxa2', 'd5teaa_', 'd5nopa_', 'd1frea_', 'd5nl9a1', 'd5d8va_', 'd5b7xa1', 'd5x7ka_', 'd4i9xc1', 'd2h9ec_', 'd5ll1a2', 'd4pqda_', 'd4jpbw_', 'd2pw8i1', 'd5m1ea2', 'd5y4fa_', 'd5m12a1', 'd4tkca_', 'd5l0na_', 'd1kala_', 'd4o1ra1', 'd5u4ha1', 'd5vf5a1', 'd5xzta_', 'd1ocya_', 'd5wjpa1', 'd4ubpc1', 'd5mu9a2', 'd5tr9a1', 'd5vx1a1', 'd2xhlb1', 'd1m0ja_', 'd2cmea1', 'd1dmea_', 'd2l4la_', 'd6b9xc_', 'd1ansa_', 'd5mxca1', 'd5xd7a2', 'd1hn6a_', 'd5n4fa2', 'd3nfga_', 'd2j0141', 'd5m1ea1', 'd6blma2', 'd1sopa_', 'd1zrua2', 'd5e4xa_', 'd5m3na2', 'd5u8ja2', 'd5w3ra1', 'd6ao9a_', 'd7a3ha_', 'd5o9zv_', 'd4r3fa_', 'd5wsfa_', 'd5u1ma_', 'd2uvoa1', 'd4iaua_', 'd6b1pa2', 'd6b10a1', 'd5k8sa1', 'd5suza1', 'd5vf5a2', 'd4xxbb_', 'd5vz3a_', 'd5mpra1', 'd5hpja_', 'd5dvha_', 'd5x8fa_', 'd5m3na1', 'd5umha_', 'd5x14a1', 'd2xdpa1', 'd3h3ba2', 'd3jb9y1', 'd2baia1', 'd5mp0d_', 'd5gpga1', 'd5h6za_', 'd5xgta_', 'd5xtfa_', 'd5d0ib_', 'd4xsgb_', 'd1qjla_', 'd5suva1', 'd4uafe_', 'd2w2db1', 'd5ltra_', 'd5itqa2', 'd1iyca_', 'd5hgwa1', 'd5viqa2', 'd5o9zg_', 'd5ks7a_', 'd5xb0a_', 'd6blma1', 'd5ufta1', 'd5svva_', 'd2fc6a1']\n"
     ]
    }
   ],
   "source": [
    "print(len(neg_less_label_dict.keys()))\n",
    "print(list(neg_less_label_dict.keys()))"
   ]
  },
  {
   "cell_type": "code",
   "execution_count": 13,
   "id": "187f7862",
   "metadata": {},
   "outputs": [],
   "source": [
    "# import numpy as np\n",
    "\n",
    "# np.save(\"/home/wngys/lab/DeepFold/protein_infor/negLess10IDArray.npy\", list(neg_less_label_dict.keys()))"
   ]
  },
  {
   "cell_type": "code",
   "execution_count": 14,
   "id": "823b24f7",
   "metadata": {},
   "outputs": [
    {
     "name": "stdout",
     "output_type": "stream",
     "text": [
      "226\n"
     ]
    }
   ],
   "source": [
    "# ll = np.load(\"/home/wngys/lab/DeepFold/protein_infor/negLess10IDArray.npy\", allow_pickle=True).tolist()\n",
    "# print(len(ll))"
   ]
  },
  {
   "cell_type": "code",
   "execution_count": 19,
   "id": "e4d5e3d6",
   "metadata": {},
   "outputs": [
    {
     "name": "stdout",
     "output_type": "stream",
     "text": [
      "1001\n"
     ]
    }
   ],
   "source": [
    "# 画出直方图\n",
    "neg_less_backet_num = 1000\n",
    "neg_less_backet = np.zeros(neg_less_backet_num + 1).tolist()\n",
    "neg_less_backet_dict = {}\n",
    "print(len(neg_less_backet))"
   ]
  },
  {
   "cell_type": "code",
   "execution_count": 20,
   "id": "5414a673",
   "metadata": {},
   "outputs": [],
   "source": [
    "for ID in neg_less_label_dict.keys():\n",
    "    count = neg_less_label_dict[ID]\n",
    "    ratio = 0.0\n",
    "    if '0' not in count.keys():\n",
    "        ratio = count['1'] / count['1']\n",
    "    elif '1' not in count.keys():\n",
    "        ratio = 0 / count['0']\n",
    "    else:\n",
    "        ratio = count['1'] / (count['0'] + count['1'])\n",
    "    idx = floor(ratio * 1000)\n",
    "    if idx > neg_less_backet_num:\n",
    "        idx = neg_less_backet_num\n",
    "    neg_less_backet[idx] += 1\n",
    "    if idx in neg_less_backet_dict:\n",
    "        neg_less_backet_dict[idx].append(ID)\n",
    "    else:\n",
    "        neg_less_backet_dict[idx] = [ID]"
   ]
  },
  {
   "cell_type": "code",
   "execution_count": 22,
   "id": "dc2ddb51",
   "metadata": {},
   "outputs": [
    {
     "name": "stdout",
     "output_type": "stream",
     "text": [
      "44\n",
      "[100, 111, 125, 142, 166, 181, 200, 222, 250, 272, 285, 300, 307, 333, 357, 363, 375, 384, 400, 428, 454, 461, 470, 500, 533, 545, 555, 600, 611, 615, 636, 666, 684, 687, 695, 714, 733, 750, 800, 857, 909, 915, 923, 1000]\n"
     ]
    }
   ],
   "source": [
    "neg_less_backet_dict_keys = list(neg_less_backet_dict.keys())\n",
    "neg_less_backet_dict_keys.sort()\n",
    "print(len(neg_less_backet_dict_keys))\n",
    "print(neg_less_backet_dict_keys)"
   ]
  },
  {
   "cell_type": "code",
   "execution_count": 32,
   "id": "990384e1",
   "metadata": {},
   "outputs": [
    {
     "data": {
      "text/plain": [
       "['d5dgja1',\n",
       " 'd5ubmb1',\n",
       " 'd1s7ma_',\n",
       " 'd5opfa_',\n",
       " 'd5vj0a_',\n",
       " 'd1ocya_',\n",
       " 'd5mxca1',\n",
       " 'd3jb9y1',\n",
       " 'd5xtfa_',\n",
       " 'd2w2db1',\n",
       " 'd1iyca_',\n",
       " 'd5ufta1',\n",
       " 'd5svva_']"
      ]
     },
     "execution_count": 32,
     "metadata": {},
     "output_type": "execute_result"
    }
   ],
   "source": [
    "neg_less_backet_dict[100]"
   ]
  },
  {
   "cell_type": "code",
   "execution_count": 25,
   "id": "994ab396",
   "metadata": {},
   "outputs": [
    {
     "data": {
      "image/png": "[encoded data removed]",
      "text/plain": [
       "<Figure size 432x288 with 1 Axes>"
      ]
     },
     "metadata": {},
     "output_type": "display_data"
    }
   ],
   "source": [
    "ln = 0\n",
    "rn = 1000\n",
    "plt.bar(range(ln, rn+1), neg_less_backet[ln:rn+1])\n",
    "plt.show()"
   ]
  },
  {
   "cell_type": "code",
   "execution_count": 23,
   "id": "80795e9d",
   "metadata": {},
   "outputs": [],
   "source": [
    "# 找出负例个数大于等于thres个的蛋白质\n",
    "thres = 10\n",
    "\n",
    "neg_more_label_dict = {}\n",
    "\n",
    "for ID in label_dict.keys():\n",
    "    count = label_dict[ID]\n",
    "    if ('0' in count) and (count['0'] > thres):\n",
    "        neg_more_label_dict[ID] = count"
   ]
  },
  {
   "cell_type": "code",
   "execution_count": 25,
   "id": "9ee39407",
   "metadata": {},
   "outputs": [
    {
     "name": "stdout",
     "output_type": "stream",
     "text": [
      "14004\n"
     ]
    }
   ],
   "source": [
    "print(len(neg_more_label_dict.keys()))"
   ]
  },
  {
   "cell_type": "code",
   "execution_count": 26,
   "id": "78733b5e",
   "metadata": {},
   "outputs": [
    {
     "name": "stdout",
     "output_type": "stream",
     "text": [
      "1001\n"
     ]
    }
   ],
   "source": [
    "# 画出直方图\n",
    "neg_more_backet_num = 1000\n",
    "neg_more_backet = np.zeros(neg_more_backet_num + 1).tolist()\n",
    "neg_more_backet_dict = {}\n",
    "print(len(neg_more_backet))"
   ]
  },
  {
   "cell_type": "code",
   "execution_count": 27,
   "id": "a77271f6",
   "metadata": {},
   "outputs": [],
   "source": [
    "for ID in neg_more_label_dict.keys():\n",
    "    count = neg_more_label_dict[ID]\n",
    "    ratio = 0.0\n",
    "    if '0' not in count.keys():\n",
    "        ratio = count['1'] / count['1']\n",
    "    elif '1' not in count.keys():\n",
    "        ratio = 0 / count['0']\n",
    "    else:\n",
    "        ratio = count['1'] / (count['0'] + count['1'])\n",
    "    idx = floor(ratio * 1000)\n",
    "    if idx > neg_more_backet_num:\n",
    "        idx = neg_more_backet_num\n",
    "    neg_more_backet[idx] += 1\n",
    "    if idx in neg_more_backet_dict:\n",
    "        neg_more_backet_dict[idx].append(ID)\n",
    "    else:\n",
    "        neg_more_backet_dict[idx] = [ID]"
   ]
  },
  {
   "cell_type": "code",
   "execution_count": 28,
   "id": "126a127f",
   "metadata": {},
   "outputs": [
    {
     "name": "stdout",
     "output_type": "stream",
     "text": [
      "271\n",
      "[0, 1, 2, 3, 4, 5, 6, 7, 8, 9, 10, 11, 12, 13, 14, 15, 16, 17, 18, 19, 20, 21, 22, 23, 24, 25, 26, 27, 28, 29, 30, 31, 32, 33, 34, 35, 36, 37, 38, 39, 40, 41, 42, 43, 44, 45, 46, 47, 48, 49, 50, 51, 52, 53, 54, 55, 56, 57, 58, 59, 60, 61, 62, 63, 64, 65, 66, 67, 68, 69, 70, 71, 72, 73, 74, 75, 76, 77, 78, 79, 80, 81, 82, 83, 84, 85, 86, 87, 88, 89, 90, 91, 92, 93, 94, 95, 96, 97, 98, 99, 100, 101, 102, 103, 104, 105, 106, 107, 108, 110, 111, 112, 113, 114, 115, 116, 117, 118, 119, 120, 122, 123, 124, 125, 126, 128, 129, 130, 131, 133, 134, 135, 136, 137, 138, 139, 140, 141, 142, 144, 145, 146, 147, 148, 149, 150, 151, 152, 153, 155, 156, 157, 158, 159, 160, 161, 162, 163, 164, 166, 168, 170, 171, 172, 173, 175, 176, 177, 178, 180, 181, 183, 185, 186, 187, 188, 190, 191, 192, 194, 195, 198, 200, 204, 205, 208, 212, 214, 216, 217, 222, 225, 227, 228, 229, 230, 232, 235, 238, 240, 242, 243, 246, 250, 255, 258, 260, 261, 263, 264, 265, 267, 269, 270, 272, 277, 280, 281, 282, 291, 292, 293, 294, 296, 300, 304, 305, 306, 307, 308, 310, 312, 314, 318, 320, 323, 324, 325, 326, 327, 333, 340, 341, 360, 363, 366, 368, 372, 375, 377, 380, 384, 386, 387, 400, 409, 411, 416, 423, 428, 448, 457, 460, 485, 500, 521, 586, 615, 617, 675, 676]\n"
     ]
    }
   ],
   "source": [
    "neg_more_backet_dict_keys = list(neg_more_backet_dict.keys())\n",
    "neg_more_backet_dict_keys.sort()\n",
    "print(len(neg_more_backet_dict_keys))\n",
    "print(neg_more_backet_dict_keys)"
   ]
  },
  {
   "cell_type": "code",
   "execution_count": 34,
   "id": "c7fed002",
   "metadata": {},
   "outputs": [
    {
     "data": {
      "text/plain": [
       "['d4lnia1']"
      ]
     },
     "execution_count": 34,
     "metadata": {},
     "output_type": "execute_result"
    }
   ],
   "source": [
    "neg_more_backet_dict[460]"
   ]
  },
  {
   "cell_type": "code",
   "execution_count": 31,
   "id": "aba8ccfd",
   "metadata": {},
   "outputs": [
    {
     "data": {
      "image/png": "[encoded data removed]",
      "text/plain": [
       "<Figure size 432x288 with 1 Axes>"
      ]
     },
     "metadata": {
      "needs_background": "light"
     },
     "output_type": "display_data"
    }
   ],
   "source": [
    "ln = 0\n",
    "rn = 100\n",
    "plt.bar(range(ln, rn+1), neg_more_backet[ln:rn+1])\n",
    "plt.show()"
   ]
  },
  {
   "cell_type": "code",
   "execution_count": 2,
   "id": "42fb509b",
   "metadata": {},
   "outputs": [],
   "source": [
    "import os\n",
    "from math import floor\n",
    "import matplotlib.pyplot as plt\n",
    "import numpy as np"
   ]
  },
  {
   "cell_type": "code",
   "execution_count": 3,
   "id": "af482275",
   "metadata": {},
   "outputs": [],
   "source": [
    "# 输入文件的路径，获得正负例个数的情况\n",
    "def get_label_count(file_path):\n",
    "    with open(file_path, 'r') as f:\n",
    "        count_dict = {}\n",
    "        while True:\n",
    "            line = f.readline()\n",
    "            if not line:\n",
    "                break\n",
    "            line_split = line.split()\n",
    "            label = line_split[1]\n",
    "            if label in count_dict:\n",
    "                count_dict[label] += 1\n",
    "            else:\n",
    "                count_dict[label] = 1\n",
    "        return count_dict"
   ]
  },
  {
   "cell_type": "code",
   "execution_count": 4,
   "id": "cb08479d",
   "metadata": {},
   "outputs": [],
   "source": [
    "# 计算平均pair数\n",
    "dir_path = \"/home/wngys/lab/DeepFold/pair/train_pair_bool_90/\"\n",
    "\n",
    "label_dict = {}\n",
    "\n",
    "for file_path in os.listdir(dir_path):\n",
    "    file_path = os.path.join(dir_path, file_path)\n",
    "    ID = file_path.split('/')[-1].split('.')[0]\n",
    "    # print(ID)\n",
    "    count = get_label_count(file_path)\n",
    "    label_dict[ID] = count"
   ]
  },
  {
   "cell_type": "code",
   "execution_count": 8,
   "id": "f3c0438c",
   "metadata": {},
   "outputs": [
    {
     "data": {
      "text/plain": [
       "{'1': 102, '0': 986}"
      ]
     },
     "execution_count": 8,
     "metadata": {},
     "output_type": "execute_result"
    }
   ],
   "source": [
    "label_dict['d1nt2b_']"
   ]
  },
  {
   "cell_type": "code",
   "execution_count": 9,
   "id": "849ecc78",
   "metadata": {},
   "outputs": [
    {
     "name": "stdout",
     "output_type": "stream",
     "text": [
      "8410\n"
     ]
    }
   ],
   "source": [
    "label_dict_keys = list(label_dict.keys())\n",
    "print(len(label_dict_keys))"
   ]
  },
  {
   "cell_type": "code",
   "execution_count": 11,
   "id": "2b50a6b6",
   "metadata": {},
   "outputs": [
    {
     "name": "stdout",
     "output_type": "stream",
     "text": [
      "8631616\n"
     ]
    }
   ],
   "source": [
    "count = 0\n",
    "for ID in label_dict_keys:\n",
    "    count += label_dict[ID]['0'] + label_dict[ID]['1']\n",
    "print(count)"
   ]
  },
  {
   "cell_type": "code",
   "execution_count": 12,
   "id": "201d8235",
   "metadata": {},
   "outputs": [
    {
     "name": "stdout",
     "output_type": "stream",
     "text": [
      "1026.3514863258026\n"
     ]
    }
   ],
   "source": [
    "avg_count = count / len(label_dict_keys)\n",
    "print(avg_count)"
   ]
  },
  {
   "cell_type": "code",
   "execution_count": null,
   "id": "11d81e91",
   "metadata": {},
   "outputs": [],
   "source": []
  },
  {
   "cell_type": "code",
   "execution_count": null,
   "id": "3a7faff3",
   "metadata": {},
   "outputs": [],
   "source": []
  },
  {
   "cell_type": "code",
   "execution_count": null,
   "id": "b5f69b54",
   "metadata": {},
   "outputs": [],
   "source": []
  }
 ],
 "metadata": {
  "kernelspec": {
   "display_name": "Python 3.8.12 64-bit ('miniconda38')",
   "language": "python",
   "name": "python3"
  },
  "language_info": {
   "codemirror_mode": {
    "name": "ipython",
    "version": 3
   },
   "file_extension": ".py",
   "mimetype": "text/x-python",
   "name": "python",
   "nbconvert_exporter": "python",
   "pygments_lexer": "ipython3",
   "version": "3.8.12"
  },
  "vscode": {
   "interpreter": {
    "hash": "474a727007314fe946f45bbc9b266c6bb0e4e19682495744a6293558354c7c6e"
   }
  }
 },
 "nbformat": 4,
 "nbformat_minor": 5
}
