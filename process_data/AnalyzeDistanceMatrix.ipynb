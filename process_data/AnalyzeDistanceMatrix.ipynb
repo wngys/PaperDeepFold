{
 "cells": [
  {
   "cell_type": "code",
   "execution_count": 21,
   "id": "1c8d5b5d",
   "metadata": {},
   "outputs": [
    {
     "name": "stdout",
     "output_type": "stream",
     "text": [
      "(215, 215)\n",
      "[[ 0.          3.75736783  5.10643917 ... 22.67956404 24.48439525\n",
      "  27.72772154]\n",
      " [ 3.75736783  0.          3.81863405 ... 23.72231633 25.64999489\n",
      "  28.66004419]\n",
      " [ 5.10643917  3.81863405  0.         ... 20.7747529  23.05009367\n",
      "  26.11927137]\n",
      " ...\n",
      " [22.67956404 23.72231633 20.7747529  ...  0.          3.74943916\n",
      "   6.78184378]\n",
      " [24.48439525 25.64999489 23.05009367 ...  3.74943916  0.\n",
      "   3.76601925]\n",
      " [27.72772154 28.66004419 26.11927137 ...  6.78184378  3.76601925\n",
      "   0.        ]]\n"
     ]
    }
   ],
   "source": [
    "import numpy as np\n",
    "\n",
    "M_2 = np.load(\"/home/wngys/lab/DeepFold/distance_matrix/distance_matrix_mine/d4q9wa1.npy\", allow_pickle=True)\n",
    "print(M_2.shape)\n",
    "print(M_2)"
   ]
  },
  {
   "cell_type": "code",
   "execution_count": 22,
   "id": "fa77be80",
   "metadata": {},
   "outputs": [
    {
     "name": "stdout",
     "output_type": "stream",
     "text": [
      "(215, 215)\n",
      "[[ 0.          3.75736533  5.10643818 ... 24.48439491 27.72772209\n",
      "          inf]\n",
      " [ 3.75736533  0.          3.8186347  ... 25.64999389 28.66004408\n",
      "          inf]\n",
      " [ 5.10643818  3.8186347   0.         ... 23.05009228 26.11927076\n",
      "          inf]\n",
      " ...\n",
      " [24.48439491 25.64999389 23.05009228 ...  0.          3.76602032\n",
      "          inf]\n",
      " [27.72772209 28.66004408 26.11927076 ...  3.76602032  0.\n",
      "          inf]\n",
      " [        inf         inf         inf ...         inf         inf\n",
      "   0.        ]]\n"
     ]
    }
   ],
   "source": [
    "M_3 = np.load(\"/home/wngys/lab/DeepFold/distance_matrix/distance_matrix_modified/d4q9wa1.npy\", allow_pickle=True)\n",
    "print(M_3.shape)\n",
    "print(M_3)"
   ]
  },
  {
   "cell_type": "code",
   "execution_count": 3,
   "id": "63f75ec1",
   "metadata": {},
   "outputs": [
    {
     "name": "stdout",
     "output_type": "stream",
     "text": [
      "[[0.00000000e+00 1.46691094e-02 4.33343030e-01 ... 3.68833249e-01\n",
      "  4.60224094e-01 4.79599720e-01]\n",
      " [1.46691094e-02 0.00000000e+00 3.99778607e-07 ... 1.38724725e-06\n",
      "  1.07565450e-06 1.12739614e-06]\n",
      " [4.33343030e-01 3.99778607e-07 0.00000000e+00 ... 2.69955247e-07\n",
      "  5.54997104e-07 5.61699338e-07]\n",
      " ...\n",
      " [3.68833249e-01 1.38724725e-06 2.69955247e-07 ... 0.00000000e+00\n",
      "  3.42960178e-07 3.81042468e-07]\n",
      " [4.60224094e-01 1.07565450e-06 5.54997104e-07 ... 3.42960178e-07\n",
      "  0.00000000e+00 1.80570202e-07]\n",
      " [4.79599720e-01 1.12739614e-06 5.61699338e-07 ... 3.81042468e-07\n",
      "  1.80570202e-07 0.00000000e+00]]\n"
     ]
    }
   ],
   "source": [
    "print(np.abs(M_2-M_3))"
   ]
  },
  {
   "cell_type": "code",
   "execution_count": 4,
   "id": "d8d9fb58",
   "metadata": {},
   "outputs": [
    {
     "name": "stdout",
     "output_type": "stream",
     "text": [
      "5.275202881373677\n"
     ]
    }
   ],
   "source": [
    "print(np.max(np.abs(M_2-M_3)))"
   ]
  },
  {
   "cell_type": "code",
   "execution_count": 5,
   "id": "7a5fb379",
   "metadata": {},
   "outputs": [
    {
     "name": "stdout",
     "output_type": "stream",
     "text": [
      "[[False False False ... False False False]\n",
      " [False False False ... False False False]\n",
      " [False False False ... False False False]\n",
      " ...\n",
      " [False False False ... False False False]\n",
      " [False False False ... False False False]\n",
      " [False False False ... False False False]]\n"
     ]
    }
   ],
   "source": [
    "print(np.abs(M_2-M_3) == np.max(np.abs(M_2-M_3)))"
   ]
  },
  {
   "cell_type": "code",
   "execution_count": 6,
   "id": "c19c7253",
   "metadata": {},
   "outputs": [
    {
     "name": "stdout",
     "output_type": "stream",
     "text": [
      "[5.41091711 5.41091711]\n"
     ]
    }
   ],
   "source": [
    "print(M_2[(np.abs(M_2-M_3) == np.max(np.abs(M_2-M_3)))])"
   ]
  },
  {
   "cell_type": "code",
   "execution_count": 7,
   "id": "02c4afb4",
   "metadata": {},
   "outputs": [
    {
     "name": "stdout",
     "output_type": "stream",
     "text": [
      "10.821834225305798\n"
     ]
    }
   ],
   "source": [
    "print(np.sum(M_2 * (np.abs(M_2-M_3) == np.max(np.abs(M_2-M_3)))))"
   ]
  },
  {
   "cell_type": "code",
   "execution_count": 8,
   "id": "5322a9a0",
   "metadata": {},
   "outputs": [
    {
     "name": "stdout",
     "output_type": "stream",
     "text": [
      "[10.68611999 10.68611999]\n"
     ]
    }
   ],
   "source": [
    "print(M_3[(np.abs(M_2-M_3) == np.max(np.abs(M_2-M_3)))])"
   ]
  },
  {
   "cell_type": "code",
   "execution_count": 9,
   "id": "d3c1ec16",
   "metadata": {},
   "outputs": [
    {
     "name": "stdout",
     "output_type": "stream",
     "text": [
      "21.372239988053153\n"
     ]
    }
   ],
   "source": [
    "print(np.sum(M_3 * (np.abs(M_2-M_3) == np.max(np.abs(M_2-M_3)))))"
   ]
  },
  {
   "cell_type": "code",
   "execution_count": 12,
   "metadata": {},
   "outputs": [
    {
     "data": {
      "text/plain": [
       "nan"
      ]
     },
     "execution_count": 12,
     "metadata": {},
     "output_type": "execute_result"
    }
   ],
   "source": [
    "np.inf - np.inf"
   ]
  }
 ],
 "metadata": {
  "kernelspec": {
   "display_name": "Python 3.8.12 64-bit ('miniconda38')",
   "language": "python",
   "name": "python3"
  },
  "language_info": {
   "codemirror_mode": {
    "name": "ipython",
    "version": 3
   },
   "file_extension": ".py",
   "mimetype": "text/x-python",
   "name": "python",
   "nbconvert_exporter": "python",
   "pygments_lexer": "ipython3",
   "version": "3.8.12"
  },
  "orig_nbformat": 4,
  "vscode": {
   "interpreter": {
    "hash": "474a727007314fe946f45bbc9b266c6bb0e4e19682495744a6293558354c7c6e"
   }
  }
 },
 "nbformat": 4,
 "nbformat_minor": 2
}
