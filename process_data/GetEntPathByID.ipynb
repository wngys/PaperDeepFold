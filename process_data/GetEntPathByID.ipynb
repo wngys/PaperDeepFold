{
 "cells": [
  {
   "cell_type": "code",
   "execution_count": null,
   "metadata": {},
   "outputs": [],
   "source": [
    "import numpy as np\n",
    "\n",
    "np.save(\"/home/wngys/lab/DeepFold/protein_infor/IDArray.npy\", IDList)\n",
    "np.save(\"/home/wngys/lab/DeepFold/protein_infor/entPathArray.npy\", fileList)"
   ]
  },
  {
   "cell_type": "code",
   "execution_count": null,
   "metadata": {},
   "outputs": [
    {
     "name": "stdout",
     "output_type": "stream",
     "text": [
      "/home/wngys/scop/scope-2.07-40/y8/d2y8ga_.ent\n"
     ]
    }
   ],
   "source": [
    "# 根据蛋白质ID得到具体文件路径\n",
    "target_id = \"d2y8ga_\"\n",
    "idx = IDList.index(target_id)\n",
    "target_path = fileList[idx]\n",
    "print(target_path)"
   ]
  }
 ],
 "metadata": {
  "kernelspec": {
   "display_name": "Python 3.8.12 64-bit ('miniconda38')",
   "language": "python",
   "name": "python3"
  },
  "language_info": {
   "name": "python",
   "version": "3.8.12"
  },
  "orig_nbformat": 4,
  "vscode": {
   "interpreter": {
    "hash": "474a727007314fe946f45bbc9b266c6bb0e4e19682495744a6293558354c7c6e"
   }
  }
 },
 "nbformat": 4,
 "nbformat_minor": 2
}
