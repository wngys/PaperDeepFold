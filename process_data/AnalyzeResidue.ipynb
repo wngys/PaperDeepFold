{
 "cells": [
  {
   "cell_type": "code",
   "execution_count": 6,
   "metadata": {},
   "outputs": [],
   "source": [
    "def strictly_increasing(L):\n",
    "    return all(x<y for x, y in zip(L, L[1:]))\n",
    "\n",
    "def non_decreasing(L):\n",
    "    return all(x<=y for x, y in zip(L, L[1:]))\n",
    "\n",
    "def increase_one(L):\n",
    "    return all(y-x == 1 for x, y in zip(L, L[1:]))\n",
    "\n",
    "def has_equ(L):\n",
    "    return any(y == x for x, y in zip(L, L[1:]))"
   ]
  },
  {
   "cell_type": "code",
   "execution_count": 16,
   "metadata": {},
   "outputs": [
    {
     "name": "stdout",
     "output_type": "stream",
     "text": [
      "14274\n",
      "1000\n",
      "2000\n",
      "3000\n",
      "4000\n",
      "5000\n",
      "6000\n",
      "7000\n",
      "8000\n",
      "9000\n",
      "10000\n",
      "11000\n",
      "12000\n",
      "13000\n",
      "14000\n"
     ]
    }
   ],
   "source": [
    "# pdb_path = \"/home/wngys/scop/scope-2.07-40/y8/d2y8ga_.ent\"\n",
    "import numpy as np\n",
    "from Bio.PDB import PDBParser\n",
    "import warnings\n",
    "warnings.filterwarnings('ignore')\n",
    "\n",
    "file_list = np.load(\"/home/wngys/lab/DeepFold/protein_infor/entPathArray.npy\", allow_pickle=True)\n",
    "print(len(file_list))\n",
    "\n",
    "parser = PDBParser()\n",
    "\n",
    "errorSet = set()\n",
    "not_inc_oneSet = set()\n",
    "has_eqaSet = set()\n",
    "manyChains = set()\n",
    "\n",
    "for i, pdb_path in enumerate(file_list):\n",
    "    if (i + 1)% 1000 == 0:\n",
    "        print(i+1)\n",
    "\n",
    "    structure = parser.get_structure('structure', pdb_path).get_list()[0]\n",
    "    chain_num = len(structure.get_list())\n",
    "    if chain_num >= 2:\n",
    "        manyChains.add(pdb_path)\n",
    "\n",
    "    for chain in structure:\n",
    "        ids = [r.get_id()[1] for r in chain.get_residues()]\n",
    "        # print(ids)\n",
    "        increase_flag = non_decreasing(ids)\n",
    "        inc_one_flag = increase_one(ids)\n",
    "        has_eqa_flag = has_equ(ids)\n",
    "        # print(increase_flag)\n",
    "        if not increase_flag: # 不满足 任意（平或者递增）\n",
    "            errorSet.add(pdb_path)\n",
    "        if increase_flag and (not inc_one_flag): # 存在 平或者差值大于1\n",
    "            not_inc_oneSet.add(pdb_path)\n",
    "        if increase_flag and has_eqa_flag: # 存在 平\n",
    "            has_eqaSet.add(pdb_path)    "
   ]
  },
  {
   "cell_type": "code",
   "execution_count": 18,
   "metadata": {},
   "outputs": [
    {
     "name": "stdout",
     "output_type": "stream",
     "text": [
      "Error： 12\n",
      "非Error但是不止加一:  3287\n",
      "存在相等序号: 60\n",
      "多条链:  0\n"
     ]
    }
   ],
   "source": [
    "print(\"Error：\", len(errorSet))\n",
    "print(\"非Error但是不止加一: \", len(not_inc_oneSet))\n",
    "print(\"存在相等序号:\" , len(has_eqaSet))\n",
    "print(\"多条链: \", len(manyChains))\n"
   ]
  },
  {
   "cell_type": "code",
   "execution_count": 21,
   "metadata": {},
   "outputs": [],
   "source": [
    "np.save(\"/home/wngys/lab/DeepFold/protein_infor/errorEntPathArrayResError.npy\", list(errorSet))\n",
    "np.save(\"/home/wngys/lab/DeepFold/protein_infor/errorEntPathArrayResIncOver1.npy\", list(not_inc_oneSet))\n",
    "np.save(\"/home/wngys/lab/DeepFold/protein_infor/errorEntPathArrayResHaveEq.npy\", list(has_eqaSet))"
   ]
  },
  {
   "cell_type": "code",
   "execution_count": 22,
   "metadata": {},
   "outputs": [
    {
     "name": "stdout",
     "output_type": "stream",
     "text": [
      "12\n",
      "3287\n",
      "60\n"
     ]
    }
   ],
   "source": [
    "errorList = np.load(\"/home/wngys/lab/DeepFold/protein_infor/errorEntPathArrayResError.npy\", allow_pickle=True).tolist()\n",
    "not_inc_oneList = np.load(\"/home/wngys/lab/DeepFold/protein_infor/errorEntPathArrayResIncOver1.npy\", allow_pickle=True).tolist()\n",
    "has_eqaList = np.load(\"/home/wngys/lab/DeepFold/protein_infor/errorEntPathArrayResHaveEq.npy\", allow_pickle=True).tolist()\n",
    "print(len(errorList))\n",
    "print(len(not_inc_oneList))\n",
    "print(len(has_eqaList))"
   ]
  },
  {
   "cell_type": "code",
   "execution_count": 23,
   "metadata": {},
   "outputs": [
    {
     "name": "stdout",
     "output_type": "stream",
     "text": [
      "<class 'set'>\n",
      "<class 'set'>\n",
      "<class 'set'>\n",
      "<class 'list'>\n",
      "<class 'list'>\n",
      "<class 'list'>\n"
     ]
    }
   ],
   "source": [
    "print(type(errorSet))\n",
    "print(type(not_inc_oneSet))\n",
    "print(type(has_eqaSet))\n",
    "print(type(errorList))\n",
    "print(type(not_inc_oneList))\n",
    "print(type(has_eqaList))"
   ]
  },
  {
   "cell_type": "code",
   "execution_count": null,
   "metadata": {},
   "outputs": [],
   "source": []
  },
  {
   "cell_type": "code",
   "execution_count": null,
   "metadata": {},
   "outputs": [],
   "source": []
  }
 ],
 "metadata": {
  "kernelspec": {
   "display_name": "Python 3.8.12 64-bit ('miniconda38')",
   "language": "python",
   "name": "python3"
  },
  "language_info": {
   "codemirror_mode": {
    "name": "ipython",
    "version": 3
   },
   "file_extension": ".py",
   "mimetype": "text/x-python",
   "name": "python",
   "nbconvert_exporter": "python",
   "pygments_lexer": "ipython3",
   "version": "3.8.12"
  },
  "orig_nbformat": 4,
  "vscode": {
   "interpreter": {
    "hash": "474a727007314fe946f45bbc9b266c6bb0e4e19682495744a6293558354c7c6e"
   }
  }
 },
 "nbformat": 4,
 "nbformat_minor": 2
}
