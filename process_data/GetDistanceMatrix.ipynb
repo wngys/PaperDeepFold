{
 "cells": [
  {
   "cell_type": "code",
   "execution_count": 1,
   "metadata": {},
   "outputs": [],
   "source": [
    "# 读取fileList\n",
    "import numpy as np\n",
    "\n",
    "fileList = np.load(\"/home/wngys/lab/DeepFold/protein_infor/entPathArray.npy\", allow_pickle=True).tolist()"
   ]
  },
  {
   "cell_type": "code",
   "execution_count": null,
   "metadata": {},
   "outputs": [],
   "source": [
    "# # GitHub 原代码 生成距离矩阵\n",
    "# import sys\n",
    "# import os\n",
    "# import numpy\n",
    "# import scipy\n",
    "# import scipy.spatial\n",
    "\n",
    "# from Bio.PDB import PDBParser\n",
    "\n",
    "\n",
    "# def get_distance_matrix(pdb_path):\n",
    "#     parser = PDBParser()\n",
    "#     structure = parser.get_structure('structure', pdb_path).get_list()[0]\n",
    "#     residue_positions = get_residue_positions(structure)\n",
    "#     pdb_dist_mat = scipy.spatial.distance.squareform(scipy.spatial.distance.pdist(residue_positions, 'euclidean'))\n",
    "#     pdb_dist_mat[numpy.isnan(pdb_dist_mat)] = float('inf')\n",
    "#     return pdb_dist_mat\n",
    "\n",
    "\n",
    "# def get_residue_ids(structure):\n",
    "#     ids = [r.get_id()[1] for r in structure.get_residues()]\n",
    "#     return ids\n",
    "\n",
    "\n",
    "# def get_residue_positions(structure):\n",
    "#     residue_ids = get_residue_ids(structure)\n",
    "#     positions = numpy.ones((residue_ids[-1] - residue_ids[0] + 1, 3)) * float('inf')\n",
    "#     for residue in structure.get_residues():\n",
    "#         atoms = residue.get_atoms()\n",
    "#         for a in atoms:\n",
    "#             if a.get_name() == 'CA':\n",
    "#                 positions[residue.get_id()[1] - residue_ids[0]] = a.get_coord()\n",
    "\n",
    "#     return positions"
   ]
  },
  {
   "cell_type": "code",
   "execution_count": 3,
   "metadata": {},
   "outputs": [],
   "source": [
    "# 修改的 GitHub 原代码 生成距离矩阵\n",
    "import sys\n",
    "import os\n",
    "import numpy\n",
    "import scipy\n",
    "import scipy.spatial\n",
    "\n",
    "from Bio.PDB import PDBParser\n",
    "\n",
    "\n",
    "def get_distance_matrix_modified(pdb_path):\n",
    "    parser = PDBParser()\n",
    "    structure = parser.get_structure('structure', pdb_path).get_list()[0]\n",
    "    residue_positions = get_residue_positions(structure)\n",
    "    pdb_dist_mat = scipy.spatial.distance.squareform(scipy.spatial.distance.pdist(residue_positions, 'euclidean'))\n",
    "    pdb_dist_mat[numpy.isnan(pdb_dist_mat)] = float('inf')\n",
    "    return pdb_dist_mat\n",
    "\n",
    "\n",
    "def get_residue_ids(structure):\n",
    "    ids = [r.get_id()[1] for r in structure.get_residues()]\n",
    "    # print(ids)\n",
    "    # print(len(ids))\n",
    "    return ids\n",
    "\n",
    "\n",
    "def get_residue_positions(structure):\n",
    "    residue_ids = get_residue_ids(structure)\n",
    "    positions = numpy.ones((len(residue_ids), 3)) * float('inf')\n",
    "    i = 0\n",
    "    for residue in structure.get_residues():\n",
    "        atoms = residue.get_atoms()\n",
    "        for a in atoms:\n",
    "            if a.get_name() == 'CA':\n",
    "                positions[i] = a.get_coord()\n",
    "                i = i + 1\n",
    "    return positions"
   ]
  },
  {
   "cell_type": "code",
   "execution_count": 5,
   "metadata": {},
   "outputs": [],
   "source": [
    "# # 测试改进后的获取距离矩阵的函数\n",
    "# import warnings\n",
    "# warnings.filterwarnings('ignore')\n",
    "\n",
    "# pdb_path = \"/home/wngys/scop/scope-2.07-40/cm/d3cmco1.ent\"\n",
    "# parser = PDBParser()\n",
    "# structure = parser.get_structure('structure', pdb_path).get_list()[0]\n",
    "\n",
    "# residue_list = get_residue_ids(structure)\n",
    "# residue_positions = get_residue_positions(structure)"
   ]
  },
  {
   "cell_type": "code",
   "execution_count": 2,
   "metadata": {},
   "outputs": [],
   "source": [
    "# 自己解析 ent文件 生成距离矩阵\n",
    "import sys\n",
    "import os\n",
    "import numpy\n",
    "import scipy\n",
    "import scipy.spatial\n",
    "\n",
    "def get_distance_matrix_mine(pdb_path):\n",
    "    CA_positions = []\n",
    "    residue_set = set()\n",
    "    with open(pdb_path, 'r') as f:\n",
    "        while True:\n",
    "            line = f.readline()\n",
    "            if not line:\n",
    "                break\n",
    "            if line[:4] != \"ATOM\":\n",
    "                if line[:6] != \"HETATM\":\n",
    "                    continue\n",
    "            if line[13:15] == \"CA\":\n",
    "                residue_id = line[22:27].strip()\n",
    "                if residue_id not in residue_set:\n",
    "                    position = [float(line[30:38].strip()), float(line[38:46].strip()), float(line[46:54].strip())]\n",
    "                    CA_positions.append(position)\n",
    "                    residue_set.add(residue_id)\n",
    "    pdb_dist_mat = scipy.spatial.distance.squareform(scipy.spatial.distance.pdist(CA_positions, 'euclidean'))\n",
    "    return pdb_dist_mat"
   ]
  },
  {
   "cell_type": "code",
   "execution_count": 3,
   "metadata": {},
   "outputs": [
    {
     "name": "stdout",
     "output_type": "stream",
     "text": [
      "(171, 171)\n"
     ]
    }
   ],
   "source": [
    "# # 测试自己的获取距离矩阵的函数\n",
    "# pdb_path = \"/home/wngys/scop/scope-2.07-40/cm/d3cmco1.ent\"\n",
    "# print(get_distance_matrix_mine(pdb_path).shape)"
   ]
  },
  {
   "cell_type": "code",
   "execution_count": 4,
   "metadata": {},
   "outputs": [
    {
     "name": "stdout",
     "output_type": "stream",
     "text": [
      "1000\n",
      "2000\n",
      "3000\n",
      "4000\n",
      "5000\n",
      "6000\n",
      "7000\n",
      "8000\n",
      "9000\n",
      "10000\n",
      "11000\n",
      "12000\n",
      "13000\n",
      "14000\n"
     ]
    }
   ],
   "source": [
    "# 生成14000多个距离矩阵并保存\n",
    "import warnings\n",
    "warnings.filterwarnings('ignore')\n",
    "import numpy as np\n",
    "\n",
    "errorList = []\n",
    "errorFile = []\n",
    "\n",
    "# save_dir = \"/home/wngys/lab/DeepFold/distance_matrix/distance_matrix_inf/\"\n",
    "save_dir = \"/home/wngys/lab/DeepFold/distance_matrix/distance_matrix_mine/\"\n",
    "# save_dir = \"/home/wngys/lab/DeepFold/distance_matrix/distance_matrix_modified/\"\n",
    "\n",
    "i = 0\n",
    "\n",
    "for file_n in fileList:\n",
    "    i = i + 1\n",
    "    if i % 1000 == 0:\n",
    "        print(i)\n",
    "    \n",
    "    ID = file_n.split(\"/\")[-1].split(\".\")[0]\n",
    "    \n",
    "    try:\n",
    "        # M = get_distance_matrix(file_n)\n",
    "        M = get_distance_matrix_mine(file_n)\n",
    "        # M = get_distance_matrix_modified(file_n)\n",
    "    except:\n",
    "        errorList.append(ID)\n",
    "        errorFile.append(file_n)\n",
    "        print(\"error: \" + ID)\n",
    "    else:\n",
    "        np.save(save_dir+ID+\".npy\", M)\n",
    "        # print(\"done: \" + ID)"
   ]
  },
  {
   "cell_type": "code",
   "execution_count": 5,
   "metadata": {},
   "outputs": [
    {
     "name": "stdout",
     "output_type": "stream",
     "text": [
      "0\n",
      "0\n"
     ]
    }
   ],
   "source": [
    "print(len(errorList))\n",
    "print(len(errorFile))"
   ]
  },
  {
   "cell_type": "code",
   "execution_count": null,
   "metadata": {},
   "outputs": [],
   "source": [
    "# get_distance_matrix_mine、get_distance_matrix_modified未产生报错的文件\n",
    "# np.save(\"/home/wngys/lab/DeepFold/protein_infor/errorIDArrayMine.npy\", errorList)\n",
    "# np.save(\"/home/wngys/lab/DeepFold/protein_infor/errorEntPathArrayMine.npy\", errorFile)"
   ]
  },
  {
   "cell_type": "code",
   "execution_count": 2,
   "metadata": {},
   "outputs": [],
   "source": [
    "errorList = ['d1nria_', 'd3msza1', 'd1ngvb_', 'd1bd7a_', 'd4ax1b_', 'd1nova_']\n",
    "errorFile = ['/home/wngys/scop/scope-2.07-40/nr/d1nria_.ent', \n",
    "'/home/wngys/scop/scope-2.07-40/ms/d3msza1.ent', \n",
    "'/home/wngys/scop/scope-2.07-40/ng/d1ngvb_.ent', \n",
    "'/home/wngys/scop/scope-2.07-40/bd/d1bd7a_.ent', \n",
    "'/home/wngys/scop/scope-2.07-40/ax/d4ax1b_.ent', \n",
    "'/home/wngys/scop/scope-2.07-40/no/d1nova_.ent']\n",
    "\n",
    "np.save(\"/home/wngys/lab/DeepFold/protein_infor/errorIDArrayInf.npy\", errorList)\n",
    "np.save(\"/home/wngys/lab/DeepFold/protein_infor/errorEntPathArrayInf.npy\", errorFile)"
   ]
  },
  {
   "cell_type": "code",
   "execution_count": 6,
   "metadata": {},
   "outputs": [
    {
     "name": "stdout",
     "output_type": "stream",
     "text": [
      "(171, 171)\n",
      "[[ 0.          3.79202242  6.35042054 ... 13.2737778  12.00888013\n",
      "  11.58735557]\n",
      " [ 3.79202242  0.          3.79668843 ... 11.7336577  10.18102657\n",
      "   8.93318862]\n",
      " [ 6.35042054  3.79668843  0.         ... 14.86487524 13.03954696\n",
      "  10.88075328]\n",
      " ...\n",
      " [13.2737778  11.7336577  14.86487524 ...  0.          3.8253341\n",
      "   7.11461679]\n",
      " [12.00888013 10.18102657 13.03954696 ...  3.8253341   0.\n",
      "   3.80227471]\n",
      " [11.58735557  8.93318862 10.88075328 ...  7.11461679  3.80227471\n",
      "   0.        ]]\n"
     ]
    }
   ],
   "source": [
    "# 测试：加载举例矩阵\n",
    "M_2 = np.load(\"/home/wngys/lab/DeepFold/distance_matrix/distance_matrix_mine/d3cmco1.npy\", allow_pickle=True)\n",
    "print(M_2.shape)\n",
    "print(M_2)"
   ]
  }
 ],
 "metadata": {
  "kernelspec": {
   "display_name": "Python 3 (ipykernel)",
   "language": "python",
   "name": "python3"
  },
  "language_info": {
   "codemirror_mode": {
    "name": "ipython",
    "version": 3
   },
   "file_extension": ".py",
   "mimetype": "text/x-python",
   "name": "python",
   "nbconvert_exporter": "python",
   "pygments_lexer": "ipython3",
   "version": "3.8.12"
  },
  "vscode": {
   "interpreter": {
    "hash": "474a727007314fe946f45bbc9b266c6bb0e4e19682495744a6293558354c7c6e"
   }
  }
 },
 "nbformat": 4,
 "nbformat_minor": 2
}
