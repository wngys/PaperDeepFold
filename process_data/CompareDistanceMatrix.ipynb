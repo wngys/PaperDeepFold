{
 "cells": [
  {
   "cell_type": "code",
   "execution_count": null,
   "id": "e79afd0a",
   "metadata": {},
   "outputs": [],
   "source": [
    "# 统计含有inf的距离矩阵的个数\n",
    "import os\n",
    "\n",
    "dir_path = \"/homegys/lab/DeepFold/distance_matrix/distance_matrix_inf/\"\n",
    "# dir_path = \"/homegys/lab/DeepFold/distance_matrix/distance_matrix_mine/\"\n",
    "# dir_path = \"/homegys/lab/DeepFold/distance_matrix/distance_matrix_modified/\"\n",
    "\n",
    "inf_List = []\n",
    "for child_path in os.listdir(dir_path):\n",
    "    child_path = os.path.join(dir_path, child_path)\n",
    "    M_2 = np.load(child_path, allow_pickle=True)\n",
    "    inf_n = numpy.sum(numpy.isinf(M_2))\n",
    "    if inf_n != 0:\n",
    "        # print(child_path, inf_n)\n",
    "        inf_List.append((child_path, inf_n))"
   ]
  },
  {
   "cell_type": "code",
   "execution_count": null,
   "id": "02dbb1f9",
   "metadata": {},
   "outputs": [],
   "source": [
    "print(len(inf_List))\n",
    "print(inf_List[:10])"
   ]
  },
  {
   "cell_type": "code",
   "execution_count": null,
   "id": "7e881abb",
   "metadata": {},
   "outputs": [],
   "source": [
    "# mine和modified的矩阵对比\n",
    "import numpy as np\n",
    "\n",
    "IDList = np.load(\"/home/wngys/lab/DeepFold/protein_infor/IDArray.npy\", allow_pickle=True).tolist()\n",
    "\n",
    "shapeList = []\n",
    "infList = []\n",
    "nanList = []\n",
    "\n",
    "dir_path1 = \"/home/wngys/lab/DeepFold/distance_matrix/distance_matrix_mine/\"\n",
    "# dir_path2 = \"/home/wngys/lab/DeepFold/distance_matrix/distance_matrix_modified/\"\n",
    "dir_path2 = \"/home/wngys/lab/DeepFold/distance_matrix/distance_matrix_inf/\"\n",
    "\n",
    "# mat_id = \"d12asa_.npy\"\n",
    "i = 0\n",
    "for mat_id in IDList:\n",
    "    i = i + 1\n",
    "    if i > 50:\n",
    "        break\n",
    "    dist_mat_path1 = dir_path1 + mat_id\n",
    "    dist_mat_path2 = dir_path2 + mat_id\n",
    "\n",
    "    dist_mat1 = np.load(dist_mat_path1, allow_pickle=True)\n",
    "    dist_mat2 = np.load(dist_mat_path2, allow_pickle=True)\n",
    "\n",
    "    shape_flag = False\n",
    "    inf_flag = False\n",
    "    nan_flag = False\n",
    "\n",
    "    if not ((dist_mat1.shape[0] == dist_mat2.shape[0]) and (dist_mat1.shape[1] == dist_mat2.shape[1])):\n",
    "        print(mat_id, \"shapes are different:\", dist_mat1.shape, \",\", dist_mat2.shape)\n",
    "        shape_flag = True\n",
    "    if (np.sum(np.isinf(dist_mat1)) != 0) or (np.sum(np.isinf(dist_mat2)) != 0):\n",
    "        print(mat_id, \"have inf:\", np.sum(np.isinf(dist_mat1)), \",\", np.sum(np.isinf(dist_mat2)))\n",
    "        inf_flag = True\n",
    "    if (np.sum(np.isnan(dist_mat1)) != 0) or (np.sum(np.isnan(dist_mat2)) != 0):\n",
    "        print(mat_id, \"have nan:\", np.sum(np.isnan(dist_mat1)), \",\", np.sum(np.isnan(dist_mat2)))\n",
    "        nan_flag = True\n",
    "    if not (shape_flag or inf_flag or nan_flag):\n",
    "        diff = np.sum(np.square(dist_mat1 - dist_mat2))\n",
    "        if diff > 0.1:\n",
    "            print(mat_id, \"difference too large:\", diff)"
   ]
  },
  {
   "cell_type": "code",
   "execution_count": null,
   "id": "266ef533",
   "metadata": {},
   "outputs": [],
   "source": []
  }
 ],
 "metadata": {
  "kernelspec": {
   "display_name": "Python 3 (ipykernel)",
   "language": "python",
   "name": "python3"
  },
  "language_info": {
   "codemirror_mode": {
    "name": "ipython",
    "version": 3
   },
   "file_extension": ".py",
   "mimetype": "text/x-python",
   "name": "python",
   "nbconvert_exporter": "python",
   "pygments_lexer": "ipython3",
   "version": "3.8.0"
  }
 },
 "nbformat": 4,
 "nbformat_minor": 5
}
