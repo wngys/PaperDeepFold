{
 "cells": [
  {
   "cell_type": "code",
   "execution_count": 1,
   "id": "e79afd0a",
   "metadata": {},
   "outputs": [],
   "source": [
    "# 统计含有inf的距离矩阵的个数\n",
    "import os\n",
    "import numpy as np\n",
    "\n",
    "dir_path = \"/home/wngys/lab/DeepFold/distance_matrix/distance_matrix_inf/\"  # 3419\n",
    "# dir_path = \"/home/wngys/lab/DeepFold/distance_matrix/distance_matrix_mine/\"  # 0\n",
    "# dir_path = \"/home/wngys/lab/DeepFold/distance_matrix/distance_matrix_modified/\" # 214\n",
    "\n",
    "inf_List = []\n",
    "for child_path in os.listdir(dir_path):\n",
    "    child_path = os.path.join(dir_path, child_path)\n",
    "    M_2 = np.load(child_path, allow_pickle=True)\n",
    "    inf_n = np.sum(np.isinf(M_2))\n",
    "    if inf_n != 0:\n",
    "        # print(child_path, inf_n)\n",
    "        inf_List.append((child_path, inf_n))"
   ]
  },
  {
   "cell_type": "code",
   "execution_count": 3,
   "id": "02dbb1f9",
   "metadata": {},
   "outputs": [
    {
     "name": "stdout",
     "output_type": "stream",
     "text": [
      "0\n",
      "[]\n"
     ]
    }
   ],
   "source": [
    "print(len(inf_List))\n",
    "print(inf_List[:10])"
   ]
  },
  {
   "cell_type": "code",
   "execution_count": 1,
   "id": "7e881abb",
   "metadata": {},
   "outputs": [
    {
     "name": "stdout",
     "output_type": "stream",
     "text": [
      "100\n",
      "200\n",
      "300\n",
      "400\n",
      "500\n",
      "600\n",
      "700\n",
      "800\n",
      "900\n",
      "1000\n",
      "1100\n",
      "1200\n",
      "1300\n",
      "1400\n",
      "1500\n",
      "1600\n",
      "1700\n",
      "1800\n",
      "1900\n",
      "2000\n",
      "2100\n",
      "2200\n",
      "2300\n",
      "2400\n",
      "2500\n",
      "2600\n",
      "2700\n",
      "2800\n",
      "2900\n",
      "3000\n",
      "3100\n",
      "3200\n",
      "3300\n",
      "3400\n",
      "3500\n",
      "3600\n",
      "3700\n",
      "3800\n",
      "3900\n",
      "4000\n",
      "4100\n",
      "4200\n",
      "4300\n",
      "4400\n",
      "4500\n",
      "4600\n",
      "4700\n",
      "4800\n",
      "4900\n",
      "5000\n",
      "5100\n",
      "5200\n",
      "5300\n",
      "5400\n",
      "5500\n",
      "5600\n",
      "5700\n",
      "5800\n",
      "5900\n",
      "6000\n",
      "6100\n",
      "6200\n",
      "6300\n",
      "6400\n",
      "6500\n",
      "6600\n",
      "6700\n",
      "6800\n",
      "6900\n",
      "7000\n",
      "7100\n",
      "7200\n",
      "7300\n",
      "7400\n",
      "7500\n",
      "7600\n",
      "7700\n",
      "7800\n",
      "7900\n",
      "8000\n",
      "8100\n",
      "8200\n",
      "8300\n",
      "8400\n",
      "8500\n",
      "8600\n",
      "8700\n",
      "8800\n",
      "8900\n",
      "9000\n",
      "9100\n",
      "9200\n",
      "9300\n",
      "9400\n",
      "9500\n",
      "9600\n",
      "9700\n",
      "9800\n",
      "9900\n",
      "10000\n",
      "10100\n",
      "10200\n",
      "10300\n",
      "10400\n",
      "10500\n",
      "10600\n",
      "10700\n",
      "10800\n",
      "10900\n",
      "11000\n",
      "11100\n",
      "11200\n",
      "11300\n",
      "11400\n",
      "11500\n",
      "11600\n",
      "11700\n",
      "11800\n",
      "11900\n",
      "12000\n",
      "12100\n",
      "12200\n",
      "12300\n",
      "12400\n",
      "12500\n",
      "12600\n",
      "12700\n",
      "12800\n",
      "12900\n",
      "13000\n",
      "13100\n",
      "13200\n",
      "13300\n",
      "13400\n",
      "13500\n",
      "13600\n",
      "13700\n",
      "13800\n",
      "13900\n",
      "14000\n",
      "14100\n",
      "14200\n"
     ]
    }
   ],
   "source": [
    "# mine和modified的矩阵对比\n",
    "import numpy as np\n",
    "\n",
    "IDList = np.load(\"/home/wngys/lab/DeepFold/protein_infor/IDArray.npy\", allow_pickle=True).tolist()\n",
    "\n",
    "shapeList = []\n",
    "infList = []\n",
    "nanList = []\n",
    "diffList = []\n",
    "\n",
    "dir_path1 = \"/home/wngys/lab/DeepFold/distance_matrix/distance_matrix_mine/\"\n",
    "dir_path2 = \"/home/wngys/lab/DeepFold/distance_matrix/distance_matrix_modified/\"\n",
    "# dir_path2 = \"/home/wngys/lab/DeepFold/distance_matrix/distance_matrix_inf/\"\n",
    "\n",
    "printError = False\n",
    "recordError = True\n",
    "f_w = open(\"/home/wngys/lab/DeepFold/distance_matrix_infor/errorLog.txt\", \"w\")\n",
    "\n",
    "i = 0\n",
    "for mat_id in IDList:\n",
    "    i = i + 1\n",
    "    if i % 100 == 0:\n",
    "        print(i)\n",
    "    # if i > 500:\n",
    "    #     break\n",
    "\n",
    "    dist_mat_path1 = dir_path1 + mat_id + \".npy\"\n",
    "    dist_mat_path2 = dir_path2 + mat_id + \".npy\"\n",
    "\n",
    "    dist_mat1 = np.load(dist_mat_path1, allow_pickle=True)\n",
    "    dist_mat2 = np.load(dist_mat_path2, allow_pickle=True)\n",
    "\n",
    "    shape_flag = False\n",
    "    inf_flag = False\n",
    "    nan_flag = False    \n",
    "\n",
    "    if not ((dist_mat1.shape[0] == dist_mat2.shape[0]) and (dist_mat1.shape[1] == dist_mat2.shape[1])):\n",
    "        if printError:\n",
    "            print(mat_id, \"shapes are different:\", dist_mat1.shape, \",\", dist_mat2.shape)\n",
    "        if recordError:\n",
    "            f_w.write(mat_id + \" shapes are different: \" + str(dist_mat1.shape) + \", \" + str(dist_mat2.shape) + \"\\n\")\n",
    "        shape_flag = True\n",
    "        shapeList.append(mat_id)\n",
    "    \n",
    "    if (np.sum(np.isinf(dist_mat1)) != 0) or (np.sum(np.isinf(dist_mat2)) != 0):\n",
    "        if printError:\n",
    "            print(mat_id, \"have inf:\", np.sum(np.isinf(dist_mat1)), \",\", np.sum(np.isinf(dist_mat2)))\n",
    "        if recordError:\n",
    "            f_w.write(mat_id + \" have inf: \" + str(np.sum(np.isinf(dist_mat1))) + \", \" + str(np.sum(np.isinf(dist_mat2))) + \"\\n\")\n",
    "        inf_flag = True\n",
    "        infList.append(mat_id)\n",
    "    \n",
    "    if (np.sum(np.isnan(dist_mat1)) != 0) or (np.sum(np.isnan(dist_mat2)) != 0):\n",
    "        if printError:\n",
    "            print(mat_id, \"have nan:\", np.sum(np.isnan(dist_mat1)), \",\", np.sum(np.isnan(dist_mat2)))\n",
    "        if recordError:\n",
    "            f_w.write(mat_id + \" have nan: \" + str(np.sum(np.isnan(dist_mat1))) + \", \" + str(np.sum(np.isnan(dist_mat2))) + \"\\n\")\n",
    "        nan_flag = True\n",
    "        nanList.append(mat_id)\n",
    "    \n",
    "    if not (shape_flag or inf_flag or nan_flag):\n",
    "        diff = np.sum(np.abs(dist_mat1 - dist_mat2))\n",
    "        num = dist_mat1.shape[0] * dist_mat1.shape[0]\n",
    "        mean_diff  = diff / num\n",
    "        if mean_diff > 0.1:\n",
    "            if printError:\n",
    "                print(mat_id, \"difference too large:\", diff, \"|\", num, \"|\", mean_diff)\n",
    "            if recordError:\n",
    "                f_w.write(mat_id + \" difference too large: \" + str(diff) + \" | \" + str(num) + \" | \" + str(mean_diff) + \"\\n\")\n",
    "            diffList.append(mat_id)\n",
    "\n",
    "f_w.close()"
   ]
  },
  {
   "cell_type": "code",
   "execution_count": 2,
   "id": "266ef533",
   "metadata": {},
   "outputs": [
    {
     "name": "stdout",
     "output_type": "stream",
     "text": [
      "276\n",
      "214\n",
      "0\n",
      "3\n"
     ]
    }
   ],
   "source": [
    "print(len(shapeList))\n",
    "print(len(infList))\n",
    "print(len(nanList))\n",
    "print(len(diffList))"
   ]
  },
  {
   "cell_type": "code",
   "execution_count": 17,
   "id": "ca6998c8",
   "metadata": {},
   "outputs": [
    {
     "name": "stdout",
     "output_type": "stream",
     "text": [
      "['d1e25a_', 'd2e2ra_', 'd2y8ga_', 'd2c7na1', 'd1b89a_', 'd2ce7a1', 'd1gvnb_', 'd1gvza_', 'd3gv3a_', 'd1gvna_']\n",
      "['d2e2ra_', 'd2y8ga_', 'd2c7na1', 'd1b89a_', 'd2ce7a1', 'd1gvnb_', 'd3gv3a_', 'd1gvna_', 'd1ohua_', 'd1ohea2']\n",
      "['d4hbqa1', 'd1tqga1', 'd4g38a1']\n"
     ]
    }
   ],
   "source": [
    "print(shapeList[:10])\n",
    "print(infList[:10])\n",
    "print(diffList)"
   ]
  },
  {
   "cell_type": "code",
   "execution_count": 3,
   "id": "1c8d5b5d",
   "metadata": {},
   "outputs": [
    {
     "name": "stdout",
     "output_type": "stream",
     "text": [
      "(90, 90)\n",
      "[[ 0.          3.81569666  6.05150039 ... 27.9338945  30.9155966\n",
      "  33.58237212]\n",
      " [ 3.81569666  0.          3.81682564 ... 25.45058323 28.46188476\n",
      "  31.3568833 ]\n",
      " [ 6.05150039  3.81682564  0.         ... 26.10880903 28.79958524\n",
      "  31.88928334]\n",
      " ...\n",
      " [27.9338945  25.45058323 26.10880903 ...  0.          3.7970266\n",
      "   6.49436379]\n",
      " [30.9155966  28.46188476 28.79958524 ...  3.7970266   0.\n",
      "   3.78376453]\n",
      " [33.58237212 31.3568833  31.88928334 ...  6.49436379  3.78376453\n",
      "   0.        ]]\n"
     ]
    }
   ],
   "source": [
    "M_2 = np.load(\"/home/wngys/lab/DeepFold/distance_matrix/distance_matrix_mine/d4hbqa1.npy\", allow_pickle=True)\n",
    "print(M_2.shape)\n",
    "print(M_2)"
   ]
  },
  {
   "cell_type": "code",
   "execution_count": 4,
   "id": "fa77be80",
   "metadata": {},
   "outputs": [
    {
     "name": "stdout",
     "output_type": "stream",
     "text": [
      "(90, 90)\n",
      "[[ 0.          3.80102755  6.48484342 ... 28.30272775 31.37582069\n",
      "  34.06197184]\n",
      " [ 3.80102755  0.          3.81682524 ... 25.45058462 28.46188583\n",
      "  31.35688442]\n",
      " [ 6.48484342  3.81682524  0.         ... 26.10880876 28.79958469\n",
      "  31.88928278]\n",
      " ...\n",
      " [28.30272775 25.45058462 26.10880876 ...  0.          3.79702626\n",
      "   6.49436341]\n",
      " [31.37582069 28.46188583 28.79958469 ...  3.79702626  0.\n",
      "   3.78376435]\n",
      " [34.06197184 31.35688442 31.88928278 ...  6.49436341  3.78376435\n",
      "   0.        ]]\n"
     ]
    }
   ],
   "source": [
    "M_3 = np.load(\"/home/wngys/lab/DeepFold/distance_matrix/distance_matrix_modified/d4hbqa1.npy\", allow_pickle=True)\n",
    "print(M_3.shape)\n",
    "print(M_3)"
   ]
  },
  {
   "cell_type": "code",
   "execution_count": 18,
   "id": "63f75ec1",
   "metadata": {},
   "outputs": [
    {
     "data": {
      "text/plain": [
       "array([[0.00000000e+00, 1.46691094e-02, 4.33343030e-01, ...,\n",
       "        3.68833249e-01, 4.60224094e-01, 4.79599720e-01],\n",
       "       [1.46691094e-02, 0.00000000e+00, 3.99778607e-07, ...,\n",
       "        1.38724725e-06, 1.07565450e-06, 1.12739614e-06],\n",
       "       [4.33343030e-01, 3.99778607e-07, 0.00000000e+00, ...,\n",
       "        2.69955247e-07, 5.54997104e-07, 5.61699338e-07],\n",
       "       ...,\n",
       "       [3.68833249e-01, 1.38724725e-06, 2.69955247e-07, ...,\n",
       "        0.00000000e+00, 3.42960178e-07, 3.81042468e-07],\n",
       "       [4.60224094e-01, 1.07565450e-06, 5.54997104e-07, ...,\n",
       "        3.42960178e-07, 0.00000000e+00, 1.80570202e-07],\n",
       "       [4.79599720e-01, 1.12739614e-06, 5.61699338e-07, ...,\n",
       "        3.81042468e-07, 1.80570202e-07, 0.00000000e+00]])"
      ]
     },
     "execution_count": 18,
     "metadata": {},
     "output_type": "execute_result"
    }
   ],
   "source": [
    "np.abs(M_2-M_3)"
   ]
  },
  {
   "cell_type": "code",
   "execution_count": 16,
   "id": "d8d9fb58",
   "metadata": {},
   "outputs": [
    {
     "data": {
      "text/plain": [
       "5.275202881373677"
      ]
     },
     "execution_count": 16,
     "metadata": {},
     "output_type": "execute_result"
    }
   ],
   "source": [
    "np.max(np.abs(M_2-M_3))"
   ]
  },
  {
   "cell_type": "code",
   "execution_count": 19,
   "id": "7a5fb379",
   "metadata": {},
   "outputs": [
    {
     "data": {
      "text/plain": [
       "array([[False, False, False, ..., False, False, False],\n",
       "       [False, False, False, ..., False, False, False],\n",
       "       [False, False, False, ..., False, False, False],\n",
       "       ...,\n",
       "       [False, False, False, ..., False, False, False],\n",
       "       [False, False, False, ..., False, False, False],\n",
       "       [False, False, False, ..., False, False, False]])"
      ]
     },
     "execution_count": 19,
     "metadata": {},
     "output_type": "execute_result"
    }
   ],
   "source": [
    "np.abs(M_2-M_3) == np.max(np.abs(M_2-M_3))"
   ]
  },
  {
   "cell_type": "code",
   "execution_count": 23,
   "id": "c19c7253",
   "metadata": {},
   "outputs": [
    {
     "data": {
      "text/plain": [
       "array([5.41091711, 5.41091711])"
      ]
     },
     "execution_count": 23,
     "metadata": {},
     "output_type": "execute_result"
    }
   ],
   "source": [
    "M_2[(np.abs(M_2-M_3) == np.max(np.abs(M_2-M_3)))]"
   ]
  },
  {
   "cell_type": "code",
   "execution_count": 21,
   "id": "02c4afb4",
   "metadata": {},
   "outputs": [
    {
     "data": {
      "text/plain": [
       "10.821834225305798"
      ]
     },
     "execution_count": 21,
     "metadata": {},
     "output_type": "execute_result"
    }
   ],
   "source": [
    "np.sum(M_2 * (np.abs(M_2-M_3) == np.max(np.abs(M_2-M_3))))"
   ]
  },
  {
   "cell_type": "code",
   "execution_count": 22,
   "id": "d3c1ec16",
   "metadata": {},
   "outputs": [
    {
     "data": {
      "text/plain": [
       "21.372239988053153"
      ]
     },
     "execution_count": 22,
     "metadata": {},
     "output_type": "execute_result"
    }
   ],
   "source": [
    "np.sum(M_3 * (np.abs(M_2-M_3) == np.max(np.abs(M_2-M_3))))"
   ]
  },
  {
   "cell_type": "code",
   "execution_count": 1,
   "id": "b2bd8166",
   "metadata": {},
   "outputs": [],
   "source": [
    "import numpy as np"
   ]
  },
  {
   "cell_type": "code",
   "execution_count": 2,
   "id": "f9ae3a23",
   "metadata": {},
   "outputs": [],
   "source": [
    "f_w = open(\"errorLog.txt\", \"w\")"
   ]
  },
  {
   "cell_type": "code",
   "execution_count": 5,
   "id": "367f3304",
   "metadata": {},
   "outputs": [],
   "source": [
    "dist_mat1 = np.load(\"/home/wngys/lab/DeepFold/distance_matrix/distance_matrix_modified/d4e29a_.npy\", allow_pickle=True)\n",
    "dist_mat2 = np.load(\"/home/wngys/lab/DeepFold/distance_matrix/distance_matrix_modified/d4e29a_.npy\", allow_pickle=True)"
   ]
  }
 ],
 "metadata": {
  "kernelspec": {
   "display_name": "Python 3.8.12 64-bit ('miniconda38')",
   "language": "python",
   "name": "python3"
  },
  "language_info": {
   "codemirror_mode": {
    "name": "ipython",
    "version": 3
   },
   "file_extension": ".py",
   "mimetype": "text/x-python",
   "name": "python",
   "nbconvert_exporter": "python",
   "pygments_lexer": "ipython3",
   "version": "3.8.12"
  },
  "vscode": {
   "interpreter": {
    "hash": "474a727007314fe946f45bbc9b266c6bb0e4e19682495744a6293558354c7c6e"
   }
  }
 },
 "nbformat": 4,
 "nbformat_minor": 5
}
