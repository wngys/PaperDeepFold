{
 "cells": [
  {
   "cell_type": "code",
   "execution_count": 1,
   "id": "e79afd0a",
   "metadata": {},
   "outputs": [],
   "source": [
    "# 统计含有inf的距离矩阵的个数\n",
    "import os\n",
    "import numpy as np\n",
    "\n",
    "dir_path = \"/home/wngys/lab/DeepFold/distance_matrix/distance_matrix_inf/\"  # 3419\n",
    "# dir_path = \"/home/wngys/lab/DeepFold/distance_matrix/distance_matrix_mine/\"  # 0\n",
    "# dir_path = \"/home/wngys/lab/DeepFold/distance_matrix/distance_matrix_modified/\" # 214\n",
    "\n",
    "inf_List = []\n",
    "for child_path in os.listdir(dir_path):\n",
    "    child_path = os.path.join(dir_path, child_path)\n",
    "    M_2 = np.load(child_path, allow_pickle=True)\n",
    "    inf_n = np.sum(np.isinf(M_2))\n",
    "    if inf_n != 0:\n",
    "        # print(child_path, inf_n)\n",
    "        inf_List.append((child_path, inf_n))"
   ]
  },
  {
   "cell_type": "code",
   "execution_count": 3,
   "id": "02dbb1f9",
   "metadata": {},
   "outputs": [
    {
     "name": "stdout",
     "output_type": "stream",
     "text": [
      "0\n",
      "[]\n"
     ]
    }
   ],
   "source": [
    "print(len(inf_List))\n",
    "print(inf_List[:10])"
   ]
  },
  {
   "cell_type": "code",
   "execution_count": 3,
   "id": "7e881abb",
   "metadata": {},
   "outputs": [
    {
     "name": "stdout",
     "output_type": "stream",
     "text": [
      "100\n",
      "200\n",
      "300\n",
      "400\n",
      "500\n",
      "600\n",
      "700\n",
      "800\n",
      "900\n",
      "1000\n",
      "1100\n",
      "1200\n",
      "1300\n",
      "1400\n",
      "1500\n",
      "1600\n",
      "1700\n",
      "1800\n",
      "1900\n",
      "2000\n",
      "2100\n",
      "2200\n",
      "2300\n",
      "2400\n",
      "2500\n",
      "2600\n",
      "2700\n",
      "2800\n",
      "2900\n",
      "3000\n",
      "3100\n",
      "3200\n",
      "3300\n",
      "3400\n",
      "3500\n",
      "3600\n",
      "3700\n",
      "3800\n",
      "3900\n",
      "4000\n",
      "4100\n",
      "4200\n",
      "4300\n",
      "4400\n",
      "4500\n",
      "4600\n",
      "4700\n",
      "4800\n",
      "4900\n",
      "5000\n",
      "5100\n",
      "5200\n",
      "5300\n",
      "5400\n",
      "5500\n",
      "5600\n",
      "5700\n",
      "5800\n",
      "5900\n",
      "6000\n",
      "6100\n",
      "6200\n",
      "6300\n",
      "6400\n",
      "6500\n",
      "6600\n",
      "6700\n",
      "6800\n",
      "6900\n",
      "7000\n",
      "7100\n",
      "7200\n",
      "7300\n",
      "7400\n",
      "7500\n",
      "7600\n",
      "7700\n",
      "7800\n",
      "7900\n",
      "8000\n",
      "8100\n",
      "8200\n",
      "8300\n",
      "8400\n",
      "8500\n",
      "8600\n",
      "8700\n",
      "8800\n",
      "8900\n",
      "9000\n",
      "9100\n",
      "9200\n",
      "9300\n",
      "9400\n",
      "9500\n",
      "9600\n",
      "9700\n",
      "9800\n",
      "9900\n",
      "10000\n",
      "10100\n",
      "10200\n",
      "10300\n",
      "10400\n",
      "10500\n",
      "10600\n",
      "10700\n",
      "10800\n",
      "10900\n",
      "11000\n",
      "11100\n",
      "11200\n",
      "11300\n",
      "11400\n",
      "11500\n",
      "11600\n",
      "11700\n",
      "11800\n",
      "11900\n",
      "12000\n",
      "12100\n",
      "12200\n",
      "12300\n",
      "12400\n",
      "12500\n",
      "12600\n",
      "12700\n",
      "12800\n",
      "12900\n",
      "13000\n",
      "13100\n",
      "13200\n",
      "13300\n",
      "13400\n",
      "13500\n",
      "13600\n",
      "13700\n",
      "13800\n",
      "13900\n",
      "14000\n",
      "14100\n",
      "14200\n"
     ]
    }
   ],
   "source": [
    "# mine和modified的矩阵对比\n",
    "import numpy as np\n",
    "\n",
    "IDList = np.load(\"/home/wngys/lab/DeepFold/protein_infor/IDArray.npy\", allow_pickle=True).tolist()\n",
    "\n",
    "shapeList = []\n",
    "infList = []\n",
    "nanList = []\n",
    "diffList = []\n",
    "\n",
    "dir_path1 = \"/home/wngys/lab/DeepFold/distance_matrix/distance_matrix_mine/\"\n",
    "dir_path2 = \"/home/wngys/lab/DeepFold/distance_matrix/distance_matrix_modified/\"\n",
    "# dir_path2 = \"/home/wngys/lab/DeepFold/distance_matrix/distance_matrix_inf/\"\n",
    "\n",
    "printError = False\n",
    "recordError = True\n",
    "f_w = open(\"errorLog.txt\", \"w\")\n",
    "\n",
    "i = 0\n",
    "for mat_id in IDList:\n",
    "    i = i + 1\n",
    "    if i % 100 == 0:\n",
    "        print(i)\n",
    "    # if i > 500:\n",
    "    #     break\n",
    "\n",
    "    dist_mat_path1 = dir_path1 + mat_id + \".npy\"\n",
    "    dist_mat_path2 = dir_path2 + mat_id + \".npy\"\n",
    "\n",
    "    dist_mat1 = np.load(dist_mat_path1, allow_pickle=True)\n",
    "    dist_mat2 = np.load(dist_mat_path2, allow_pickle=True)\n",
    "\n",
    "    shape_flag = False\n",
    "    inf_flag = False\n",
    "    nan_flag = False    \n",
    "\n",
    "    if not ((dist_mat1.shape[0] == dist_mat2.shape[0]) and (dist_mat1.shape[1] == dist_mat2.shape[1])):\n",
    "        if printError:\n",
    "            print(mat_id, \"shapes are different:\", dist_mat1.shape, \",\", dist_mat2.shape)\n",
    "        if recordError:\n",
    "            f_w.write(mat_id + \" shapes are different: \" + str(dist_mat1.shape) + \", \" + str(dist_mat2.shape) + \"\\n\")\n",
    "        shape_flag = True\n",
    "        shapeList.append(mat_id)\n",
    "    \n",
    "    if (np.sum(np.isinf(dist_mat1)) != 0) or (np.sum(np.isinf(dist_mat2)) != 0):\n",
    "        if printError:\n",
    "            print(mat_id, \"have inf:\", np.sum(np.isinf(dist_mat1)), \",\", np.sum(np.isinf(dist_mat2)))\n",
    "        if recordError:\n",
    "            f_w.write(mat_id + \" have inf: \" + str(np.sum(np.isinf(dist_mat1))) + \", \" + str(np.sum(np.isinf(dist_mat2))) + \"\\n\")\n",
    "        inf_flag = True\n",
    "        infList.append(mat_id)\n",
    "    \n",
    "    if (np.sum(np.isnan(dist_mat1)) != 0) or (np.sum(np.isnan(dist_mat2)) != 0):\n",
    "        if printError:\n",
    "            print(mat_id, \"have nan:\", np.sum(np.isnan(dist_mat1)), \",\", np.sum(np.isnan(dist_mat2)))\n",
    "        if recordError:\n",
    "            f_w.write(mat_id + \" have nan: \" + str(np.sum(np.isnan(dist_mat1))) + \", \" + str(np.sum(np.isnan(dist_mat2))) + \"\\n\")\n",
    "        nan_flag = True\n",
    "        nanList.append(mat_id)\n",
    "    \n",
    "    if not (shape_flag or inf_flag or nan_flag):\n",
    "        diff = np.sum(np.abs(dist_mat1 - dist_mat2))\n",
    "        num = dist_mat1.shape[0] * dist_mat1.shape[0]\n",
    "        mean_diff  = diff / num\n",
    "        if mean_diff > 0.01:\n",
    "            if printError:\n",
    "                print(mat_id, \"difference too large:\", diff, \"|\", num, \"|\", mean_diff)\n",
    "            if recordError:\n",
    "                f_w.write(mat_id + \" difference too large: \" + str(diff) + \" | \" + str(num) + \" | \" + str(mean_diff) + \"\\n\")\n",
    "            diffList.append(mat_id)\n",
    "\n",
    "f_w.close()"
   ]
  },
  {
   "cell_type": "code",
   "execution_count": 4,
   "id": "266ef533",
   "metadata": {},
   "outputs": [
    {
     "name": "stdout",
     "output_type": "stream",
     "text": [
      "276\n",
      "214\n",
      "0\n",
      "47\n"
     ]
    }
   ],
   "source": [
    "print(len(shapeList))\n",
    "print(len(infList))\n",
    "print(len(nanList))\n",
    "print(len(diffList))"
   ]
  },
  {
   "cell_type": "code",
   "execution_count": 4,
   "id": "1c8d5b5d",
   "metadata": {},
   "outputs": [
    {
     "name": "stdout",
     "output_type": "stream",
     "text": [
      "(234, 234)\n",
      "[[ 0.          3.81842428  6.69031546 ...  5.66822238  5.58428321\n",
      "   8.71125502]\n",
      " [ 3.81842428  0.          3.80289166 ...  4.78912278  5.69511958\n",
      "   9.48468154]\n",
      " [ 6.69031546  3.80289166  0.         ...  7.29401714  6.80197956\n",
      "  10.4277979 ]\n",
      " ...\n",
      " [ 5.66822238  4.78912278  7.29401714 ...  0.          3.80076913\n",
      "   6.43859371]\n",
      " [ 5.58428321  5.69511958  6.80197956 ...  3.80076913  0.\n",
      "   3.82961029]\n",
      " [ 8.71125502  9.48468154 10.4277979  ...  6.43859371  3.82961029\n",
      "   0.        ]]\n"
     ]
    }
   ],
   "source": [
    "M_2 = np.load(\"/home/wngys/lab/DeepFold/distance_matrix/distance_matrix_mine/d4e29a_.npy\", allow_pickle=True)\n",
    "print(M_2.shape)\n",
    "print(M_2)"
   ]
  },
  {
   "cell_type": "code",
   "execution_count": 10,
   "id": "180e437d",
   "metadata": {},
   "outputs": [
    {
     "name": "stdout",
     "output_type": "stream",
     "text": [
      "<class 'str'>\n"
     ]
    },
    {
     "data": {
      "text/plain": [
       "'123(234, 234)'"
      ]
     },
     "execution_count": 10,
     "metadata": {},
     "output_type": "execute_result"
    }
   ],
   "source": [
    "s = \"123\" + str(M_2.shape)\n",
    "print(type(s))\n",
    "s"
   ]
  },
  {
   "cell_type": "code",
   "execution_count": 6,
   "id": "fa77be80",
   "metadata": {},
   "outputs": [
    {
     "name": "stdout",
     "output_type": "stream",
     "text": [
      "(233, 233)\n",
      "[[ 0.          3.81842427  6.69031393 ...  5.66822127  5.58428497\n",
      "   8.71125505]\n",
      " [ 3.81842427  0.          3.80289127 ...  4.78912195  5.69512098\n",
      "   9.48468181]\n",
      " [ 6.69031393  3.80289127  0.         ...  7.29401678  6.80198061\n",
      "  10.42779847]\n",
      " ...\n",
      " [ 5.66822127  4.78912195  7.29401678 ...  0.          3.80076766\n",
      "   6.43859277]\n",
      " [ 5.58428497  5.69512098  6.80198061 ...  3.80076766  0.\n",
      "   3.82960925]\n",
      " [ 8.71125505  9.48468181 10.42779847 ...  6.43859277  3.82960925\n",
      "   0.        ]]\n"
     ]
    }
   ],
   "source": [
    "M_3 = np.load(\"/home/wngys/lab/DeepFold/distance_matrix/distance_matrix_modified/d4e29a_.npy\", allow_pickle=True)\n",
    "print(M_3.shape)\n",
    "print(M_3)"
   ]
  },
  {
   "cell_type": "code",
   "execution_count": 1,
   "id": "b2bd8166",
   "metadata": {},
   "outputs": [],
   "source": [
    "import numpy as np"
   ]
  },
  {
   "cell_type": "code",
   "execution_count": 2,
   "id": "f9ae3a23",
   "metadata": {},
   "outputs": [],
   "source": [
    "f_w = open(\"errorLog.txt\", \"w\")"
   ]
  },
  {
   "cell_type": "code",
   "execution_count": 5,
   "id": "367f3304",
   "metadata": {},
   "outputs": [],
   "source": [
    "dist_mat1 = np.load(\"/home/wngys/lab/DeepFold/distance_matrix/distance_matrix_modified/d4e29a_.npy\", allow_pickle=True)\n",
    "dist_mat2 = np.load(\"/home/wngys/lab/DeepFold/distance_matrix/distance_matrix_modified/d4e29a_.npy\", allow_pickle=True)"
   ]
  }
 ],
 "metadata": {
  "kernelspec": {
   "display_name": "Python 3.8.12 64-bit ('miniconda38')",
   "language": "python",
   "name": "python3"
  },
  "language_info": {
   "codemirror_mode": {
    "name": "ipython",
    "version": 3
   },
   "file_extension": ".py",
   "mimetype": "text/x-python",
   "name": "python",
   "nbconvert_exporter": "python",
   "pygments_lexer": "ipython3",
   "version": "3.8.12"
  },
  "vscode": {
   "interpreter": {
    "hash": "474a727007314fe946f45bbc9b266c6bb0e4e19682495744a6293558354c7c6e"
   }
  }
 },
 "nbformat": 4,
 "nbformat_minor": 5
}
