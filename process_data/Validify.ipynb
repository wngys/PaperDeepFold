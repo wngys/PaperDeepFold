{
 "cells": [
  {
   "cell_type": "code",
   "execution_count": null,
   "id": "d45e427b",
   "metadata": {},
   "outputs": [],
   "source": [
    "# 验证 AB = BA\n",
    "# file_name = \"valid_pair.txt\"\n",
    "file_name = \"/home/wngys/scop/TMalign/tmalign.txt\"\n",
    "# file_name = \"test.txt\"\n",
    "\n",
    "ABdic = {}\n",
    "\n",
    "with open(file_name, \"r\") as f_r:\n",
    "    while True:\n",
    "        lines = f_r.readline()\n",
    "        if not lines:\n",
    "            break\n",
    "        id1 = lines.split('\\t')[0]\n",
    "        id2 = lines.split('\\t')[1]\n",
    "        scor1 = lines.split('\\t')[2]\n",
    "        scor2 = lines.split('\\t')[3]\n",
    "        scor3 = lines.split('\\t')[4]\n",
    "        scor4 = lines.split('\\t')[5]\n",
    "        scor5 = lines.split('\\t')[6]\n",
    "\n",
    "        if id2 + \" \" + id1 in ABdic:\n",
    "            print(id2, id1, ABdic[id2 + \" \" + id1], \"|\",  id1, id2, scor1, scor2, scor3, scor4, scor5)\n",
    "        \n",
    "        ABdic[id1 + \" \" + id2] = scor1 + \" \" + scor2 + \" \" + scor3 + \" \" + scor4 + \" \" + scor5"
   ]
  }
 ],
 "metadata": {
  "kernelspec": {
   "display_name": "Python 3 (ipykernel)",
   "language": "python",
   "name": "python3"
  },
  "language_info": {
   "codemirror_mode": {
    "name": "ipython",
    "version": 3
   },
   "file_extension": ".py",
   "mimetype": "text/x-python",
   "name": "python",
   "nbconvert_exporter": "python",
   "pygments_lexer": "ipython3",
   "version": "3.8.0"
  }
 },
 "nbformat": 4,
 "nbformat_minor": 5
}
