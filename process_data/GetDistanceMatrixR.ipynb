{
 "cells": [
  {
   "cell_type": "code",
   "execution_count": 1,
   "metadata": {},
   "outputs": [],
   "source": [
    "# 获取矩阵每一项的倒数所组成的矩阵\n",
    "import warnings\n",
    "warnings.filterwarnings('ignore')\n",
    "import numpy as np\n",
    "import copy\n",
    "\n",
    "matIDList = np.load(\"/home/wngys/lab/DeepFold/protein_infor/IDArray.npy\", allow_pickle=True).tolist()\n",
    "\n",
    "dir_path1 = \"/home/wngys/lab/DeepFold/distance_matrix/distance_matrix_mine/\"\n",
    "dir_path2 = \"/home/wngys/lab/DeepFold/distance_matrix_r/distance_matrix_mine_r/\"\n",
    "\n",
    "resEndList = []\n",
    "\n",
    "for mat_id in matIDList:\n",
    "    dist_mat_path1 = dir_path1 + mat_id + \".npy\"\n",
    "    dist_mat_path2 = dir_path2 + mat_id + \".npy\"\n",
    "\n",
    "    dist_mat1 = np.load(dist_mat_path1, allow_pickle=True)\n",
    "    dist_mat2 = 1.0 / dist_mat1\n",
    "\n",
    "    inf_position = np.isinf(dist_mat2)\n",
    "    dist_mat2_temp = copy.deepcopy(dist_mat2)\n",
    "    dist_mat2_temp[inf_position] = 0\n",
    "    dist_mat2[inf_position] = np.max(dist_mat2_temp) * 1.2\n",
    "    \n",
    "    np.save(dist_mat_path2, dist_mat2)"
   ]
  },
  {
   "cell_type": "code",
   "execution_count": 4,
   "metadata": {},
   "outputs": [
    {
     "name": "stdout",
     "output_type": "stream",
     "text": [
      "(413, 413)\n",
      "[[ 0.          3.80618838  7.1816952  ... 24.6348408  21.46587305\n",
      "  17.99335494]\n",
      " [ 3.80618838  0.          3.77360385 ... 22.964154   19.92721953\n",
      "  16.69197382]\n",
      " [ 7.1816952   3.77360385  0.         ... 19.81995189 16.92678593\n",
      "  13.94977541]\n",
      " ...\n",
      " [24.6348408  22.964154   19.81995189 ...  0.          3.70305212\n",
      "   6.84151701]\n",
      " [21.46587305 19.92721953 16.92678593 ...  3.70305212  0.\n",
      "   3.77722279]\n",
      " [17.99335494 16.69197382 13.94977541 ...  6.84151701  3.77722279\n",
      "   0.        ]]\n"
     ]
    }
   ],
   "source": [
    "# 测试：加载举例矩阵\n",
    "M_2 = np.load(\"/home/wngys/lab/DeepFold/distance_matrix/distance_matrix_mine/d1a0tp_.npy\", allow_pickle=True)\n",
    "print(M_2.shape)\n",
    "print(M_2)"
   ]
  },
  {
   "cell_type": "code",
   "execution_count": 3,
   "metadata": {},
   "outputs": [
    {
     "name": "stdout",
     "output_type": "stream",
     "text": [
      "(413, 413)\n",
      "[[0.32405701 0.26273003 0.13924289 ... 0.04059292 0.04658557 0.05557607]\n",
      " [0.26273003 0.32405701 0.26499867 ... 0.04354613 0.05018262 0.05990903]\n",
      " [0.13924289 0.26499867 0.32405701 ... 0.05045421 0.05907796 0.07168574]\n",
      " ...\n",
      " [0.04059292 0.04354613 0.05045421 ... 0.32405701 0.27004751 0.14616641]\n",
      " [0.04658557 0.05018262 0.05907796 ... 0.27004751 0.32405701 0.26474478]\n",
      " [0.05557607 0.05990903 0.07168574 ... 0.14616641 0.26474478 0.32405701]]\n"
     ]
    }
   ],
   "source": [
    "M_3 = np.load(\"/home/wngys/lab/DeepFold/distance_matrix_r/distance_matrix_mine_r/d1a0tp_.npy\", allow_pickle=True)\n",
    "print(M_3.shape)\n",
    "print(M_3)"
   ]
  },
  {
   "cell_type": "code",
   "execution_count": null,
   "metadata": {},
   "outputs": [],
   "source": []
  },
  {
   "cell_type": "code",
   "execution_count": null,
   "metadata": {},
   "outputs": [],
   "source": []
  }
 ],
 "metadata": {
  "kernelspec": {
   "display_name": "Python 3.8.12 64-bit ('miniconda38')",
   "language": "python",
   "name": "python3"
  },
  "language_info": {
   "codemirror_mode": {
    "name": "ipython",
    "version": 3
   },
   "file_extension": ".py",
   "mimetype": "text/x-python",
   "name": "python",
   "nbconvert_exporter": "python",
   "pygments_lexer": "ipython3",
   "version": "3.8.12"
  },
  "orig_nbformat": 4,
  "vscode": {
   "interpreter": {
    "hash": "474a727007314fe946f45bbc9b266c6bb0e4e19682495744a6293558354c7c6e"
   }
  }
 },
 "nbformat": 4,
 "nbformat_minor": 2
}
