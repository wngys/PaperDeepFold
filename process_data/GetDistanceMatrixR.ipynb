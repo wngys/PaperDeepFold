{
 "cells": [
  {
   "cell_type": "code",
   "execution_count": 1,
   "metadata": {},
   "outputs": [],
   "source": [
    "# 获取矩阵每一项的倒数所组成的矩阵\n",
    "import warnings\n",
    "warnings.filterwarnings('ignore')\n",
    "import numpy as np\n",
    "import copy\n",
    "\n",
    "matIDList = np.load(\"/home/wngys/lab/DeepFold/protein_infor/IDArray.npy\", allow_pickle=True).tolist()\n",
    "\n",
    "dir_path1 = \"/home/wngys/lab/DeepFold/distance_matrix/distance_matrix_mine/\"\n",
    "dir_path2 = \"/home/wngys/lab/DeepFold/distance_matrix_r/distance_matrix_mine_r/\"\n",
    "\n",
    "for mat_id in matIDList:\n",
    "    dist_mat_path1 = dir_path1 + mat_id + \".npy\"\n",
    "    dist_mat_path2 = dir_path2 + mat_id + \".npy\"\n",
    "\n",
    "    dist_mat1 = np.load(dist_mat_path1, allow_pickle=True)\n",
    "    dist_mat2 = 1.0 / dist_mat1\n",
    "\n",
    "    inf_position = np.isinf(dist_mat2)\n",
    "    dist_mat2_temp = copy.deepcopy(dist_mat2)\n",
    "    dist_mat2_temp[inf_position] = 0\n",
    "    dist_mat2[inf_position] = np.max(dist_mat2_temp) * 1.2\n",
    "    \n",
    "    np.save(dist_mat_path2, dist_mat2)"
   ]
  },
  {
   "cell_type": "code",
   "execution_count": 2,
   "metadata": {},
   "outputs": [
    {
     "name": "stdout",
     "output_type": "stream",
     "text": [
      "(40, 40)\n",
      "[[ 0.          3.82500157  5.87353386 ... 38.69357458 42.46633529\n",
      "  42.95800577]\n",
      " [ 3.82500157  0.          3.83356296 ... 35.65458401 39.44925961\n",
      "  40.16219706]\n",
      " [ 5.87353386  3.83356296  0.         ... 35.4358666  39.16516923\n",
      "  39.82646723]\n",
      " ...\n",
      " [38.69357458 35.65458401 35.4358666  ...  0.          3.83374243\n",
      "   6.0187389 ]\n",
      " [42.46633529 39.44925961 39.16516923 ...  3.83374243  0.\n",
      "   3.84340019]\n",
      " [42.95800577 40.16219706 39.82646723 ...  6.0187389   3.84340019\n",
      "   0.        ]]\n"
     ]
    }
   ],
   "source": [
    "# 测试：加载举例矩阵\n",
    "import numpy as np\n",
    "\n",
    "M_2 = np.load(\"/home/wngys/lab/DeepFold/distance_matrix/distance_matrix_mine/d1a6bb_.npy\", allow_pickle=True)\n",
    "print(M_2.shape)\n",
    "print(M_2)"
   ]
  },
  {
   "cell_type": "code",
   "execution_count": 3,
   "metadata": {},
   "outputs": [
    {
     "name": "stdout",
     "output_type": "stream",
     "text": [
      "(40, 40)\n",
      "[[0.31581921 0.2614378  0.17025525 ... 0.02584408 0.02354806 0.02327855]\n",
      " [0.2614378  0.31581921 0.26085394 ... 0.02804688 0.02534902 0.02489904]\n",
      " [0.17025525 0.26085394 0.31581921 ... 0.02822    0.02553289 0.02510893]\n",
      " ...\n",
      " [0.02584408 0.02804688 0.02822    ... 0.31581921 0.26084173 0.16614776]\n",
      " [0.02354806 0.02534902 0.02553289 ... 0.26084173 0.31581921 0.26018628]\n",
      " [0.02327855 0.02489904 0.02510893 ... 0.16614776 0.26018628 0.31581921]]\n"
     ]
    }
   ],
   "source": [
    "M_3 = np.load(\"/home/wngys/lab/DeepFold/distance_matrix_r/distance_matrix_mine_r/d1a6bb_.npy\", allow_pickle=True)\n",
    "print(M_3.shape)\n",
    "print(M_3)"
   ]
  },
  {
   "cell_type": "code",
   "execution_count": 7,
   "metadata": {},
   "outputs": [
    {
     "name": "stdout",
     "output_type": "stream",
     "text": [
      "torch.Size([1, 40, 40])\n",
      "tensor([[[ 3.3306,  2.5213,  1.1644,  ..., -0.9847, -1.0189, -1.0229],\n",
      "         [ 2.5213,  3.3306,  2.5126,  ..., -0.9520, -0.9921, -0.9988],\n",
      "         [ 1.1644,  2.5126,  3.3306,  ..., -0.9494, -0.9894, -0.9957],\n",
      "         ...,\n",
      "         [-0.9847, -0.9520, -0.9494,  ...,  3.3306,  2.5125,  1.1032],\n",
      "         [-1.0189, -0.9921, -0.9894,  ...,  2.5125,  3.3306,  2.5027],\n",
      "         [-1.0229, -0.9988, -0.9957,  ...,  1.1032,  2.5027,  3.3306]]],\n",
      "       grad_fn=<NativeLayerNormBackward0>)\n"
     ]
    }
   ],
   "source": [
    "import torch\n",
    "import torch.nn as nn\n",
    "M3 = torch.from_numpy(M_3)\n",
    "M3 = M3.unsqueeze(0)\n",
    "print(M3.shape)\n",
    "tfm = nn.LayerNorm((1, 40, 40))\n",
    "M3 = M3.to(torch.float32)\n",
    "print(tfm(M3))"
   ]
  },
  {
   "cell_type": "code",
   "execution_count": 9,
   "metadata": {},
   "outputs": [
    {
     "name": "stdout",
     "output_type": "stream",
     "text": [
      "torch.Size([1, 40, 40])\n",
      "tensor([[[ 4.1226,  2.6311,  0.7609,  ..., -0.5846, -0.5900, -0.5906],\n",
      "         [ 2.6311,  4.1226,  2.6166,  ..., -0.5789, -0.5858, -0.5869],\n",
      "         [ 0.7609,  2.6166,  4.1226,  ..., -0.5785, -0.5853, -0.5864],\n",
      "         ...,\n",
      "         [-0.5846, -0.5789, -0.5785,  ...,  4.1226,  2.6163,  0.6952],\n",
      "         [-0.5900, -0.5858, -0.5853,  ...,  2.6163,  4.1226,  2.6001],\n",
      "         [-0.5906, -0.5869, -0.5864,  ...,  0.6952,  2.6001,  4.1226]]],\n",
      "       grad_fn=<NativeLayerNormBackward0>)\n"
     ]
    }
   ],
   "source": [
    "M4 = torch.from_numpy(M_4)\n",
    "M4 = M4.unsqueeze(0)\n",
    "print(M4.shape)\n",
    "tfm = nn.LayerNorm((1, 40, 40))\n",
    "M4 = M4.to(torch.float32)\n",
    "print(tfm(M4))"
   ]
  },
  {
   "cell_type": "code",
   "execution_count": 1,
   "metadata": {},
   "outputs": [],
   "source": [
    "# K = 3\n",
    "import warnings\n",
    "warnings.filterwarnings('ignore')\n",
    "import numpy as np\n",
    "\n",
    "matIDList = np.load(\"/home/wngys/lab/DeepFold/protein_infor/IDArray.npy\", allow_pickle=True).tolist()\n",
    "\n",
    "dir_path1 = \"/home/wngys/lab/DeepFold/distance_matrix_r/distance_matrix_mine_r/\"\n",
    "dir_path2 = \"/home/wngys/lab/DeepFold/distance_matrix_r/distance_matrix_mine_r_3/\"\n",
    "\n",
    "for mat_id in matIDList:\n",
    "    dist_mat_path1 = dir_path1 + mat_id + \".npy\"\n",
    "    dist_mat_path2 = dir_path2 + mat_id + \".npy\"\n",
    "\n",
    "    dist_mat1 = np.load(dist_mat_path1, allow_pickle=True)\n",
    "\n",
    "    dist_mat1_2 = np.power(dist_mat1, 2)\n",
    "    dist_mat1_4 = np.power(dist_mat1, 4)\n",
    "    dist_mat1_6 = np.power(dist_mat1, 6)\n",
    "\n",
    "    dist_mat2 = np.array([dist_mat1_2, dist_mat1_4, dist_mat1_6])\n",
    "    \n",
    "    np.save(dist_mat_path2, dist_mat2)"
   ]
  },
  {
   "cell_type": "code",
   "execution_count": 2,
   "metadata": {},
   "outputs": [
    {
     "name": "stdout",
     "output_type": "stream",
     "text": [
      "[[0.39941219 0.26029498 0.15251294 ... 0.02737282 0.02699221 0.02523399]\n",
      " [0.26029498 0.39941219 0.25964577 ... 0.02858361 0.02802156 0.02623472]\n",
      " [0.15251294 0.25964577 0.39941219 ... 0.03189105 0.03126016 0.02911989]\n",
      " ...\n",
      " [0.02737282 0.02858361 0.03189105 ... 0.39941219 0.25915944 0.15151004]\n",
      " [0.02699221 0.02802156 0.03126016 ... 0.25915944 0.39941219 0.25900582]\n",
      " [0.02523399 0.02623472 0.02911989 ... 0.15151004 0.25900582 0.39941219]]\n"
     ]
    }
   ],
   "source": [
    "dist_mat1 = np.load(\"/home/wngys/lab/DeepFold/distance_matrix_r/distance_matrix_mine_r/d2pn2a1.npy\", allow_pickle=True)\n",
    "print(dist_mat1)"
   ]
  },
  {
   "cell_type": "code",
   "execution_count": 3,
   "metadata": {},
   "outputs": [
    {
     "name": "stdout",
     "output_type": "stream",
     "text": [
      "[[0.1595301  0.06775348 0.0232602  ... 0.00074927 0.00072858 0.00063675]\n",
      " [0.06775348 0.1595301  0.06741593 ... 0.00081702 0.00078521 0.00068826]\n",
      " [0.0232602  0.06741593 0.1595301  ... 0.00101704 0.0009772  0.00084797]\n",
      " ...\n",
      " [0.00074927 0.00081702 0.00101704 ... 0.1595301  0.06716361 0.02295529]\n",
      " [0.00072858 0.00078521 0.0009772  ... 0.06716361 0.1595301  0.06708401]\n",
      " [0.00063675 0.00068826 0.00084797 ... 0.02295529 0.06708401 0.1595301 ]]\n"
     ]
    }
   ],
   "source": [
    "dist_mat1_2 = np.power(dist_mat1, 2)\n",
    "print(dist_mat1_2)"
   ]
  },
  {
   "cell_type": "code",
   "execution_count": 4,
   "metadata": {},
   "outputs": [
    {
     "name": "stdout",
     "output_type": "stream",
     "text": [
      "[[2.54498513e-02 4.59053373e-03 5.41036797e-04 ... 5.61407594e-07\n",
      "  5.30828080e-07 4.05456133e-07]\n",
      " [4.59053373e-03 2.54498513e-02 4.54490725e-03 ... 6.67525941e-07\n",
      "  6.16551153e-07 4.73702812e-07]\n",
      " [5.41036797e-04 4.54490725e-03 2.54498513e-02 ... 1.03436849e-06\n",
      "  9.54915019e-07 7.19050133e-07]\n",
      " ...\n",
      " [5.61407594e-07 6.67525941e-07 1.03436849e-06 ... 2.54498513e-02\n",
      "  4.51095114e-03 5.26945446e-04]\n",
      " [5.30828080e-07 6.16551153e-07 9.54915019e-07 ... 4.51095114e-03\n",
      "  2.54498513e-02 4.50026496e-03]\n",
      " [4.05456133e-07 4.73702812e-07 7.19050133e-07 ... 5.26945446e-04\n",
      "  4.50026496e-03 2.54498513e-02]]\n"
     ]
    }
   ],
   "source": [
    "dist_mat1_4 = np.power(dist_mat1, 4)\n",
    "print(dist_mat1_4)"
   ]
  },
  {
   "cell_type": "code",
   "execution_count": 5,
   "metadata": {},
   "outputs": [
    {
     "name": "stdout",
     "output_type": "stream",
     "text": [
      "[[4.06001720e-03 3.11024624e-04 1.25846228e-05 ... 4.20646640e-10\n",
      "  3.86750454e-10 2.58175966e-10]\n",
      " [3.11024624e-04 4.06001720e-03 3.06399137e-04 ... 5.45383784e-10\n",
      "  4.84120721e-10 3.26031036e-10]\n",
      " [1.25846228e-05 3.06399137e-04 4.06001720e-03 ... 1.05199318e-09\n",
      "  9.33140601e-10 6.09731675e-10]\n",
      " ...\n",
      " [4.20646640e-10 5.45383784e-10 1.05199318e-09 ... 4.06001720e-03\n",
      "  3.02971785e-04 1.20961868e-05]\n",
      " [3.86750454e-10 4.84120721e-10 9.33140601e-10 ... 3.02971785e-04\n",
      "  4.06001720e-03 3.01895839e-04]\n",
      " [2.58175966e-10 3.26031036e-10 6.09731675e-10 ... 1.20961868e-05\n",
      "  3.01895839e-04 4.06001720e-03]]\n"
     ]
    }
   ],
   "source": [
    "dist_mat1_6 = np.power(dist_mat1, 6)\n",
    "print(dist_mat1_6)"
   ]
  },
  {
   "cell_type": "code",
   "execution_count": 6,
   "metadata": {},
   "outputs": [
    {
     "name": "stdout",
     "output_type": "stream",
     "text": [
      "(3, 132, 132)\n"
     ]
    }
   ],
   "source": [
    "dist_mat2 = np.load(\"/home/wngys/lab/DeepFold/distance_matrix_r/distance_matrix_mine_r_3/d2pn2a1.npy\", allow_pickle=True)\n",
    "print(dist_mat2.shape)"
   ]
  },
  {
   "cell_type": "code",
   "execution_count": 7,
   "metadata": {},
   "outputs": [
    {
     "name": "stdout",
     "output_type": "stream",
     "text": [
      "[[0.1595301  0.06775348 0.0232602  ... 0.00074927 0.00072858 0.00063675]\n",
      " [0.06775348 0.1595301  0.06741593 ... 0.00081702 0.00078521 0.00068826]\n",
      " [0.0232602  0.06741593 0.1595301  ... 0.00101704 0.0009772  0.00084797]\n",
      " ...\n",
      " [0.00074927 0.00081702 0.00101704 ... 0.1595301  0.06716361 0.02295529]\n",
      " [0.00072858 0.00078521 0.0009772  ... 0.06716361 0.1595301  0.06708401]\n",
      " [0.00063675 0.00068826 0.00084797 ... 0.02295529 0.06708401 0.1595301 ]]\n"
     ]
    }
   ],
   "source": [
    "print(dist_mat2[0])"
   ]
  },
  {
   "cell_type": "code",
   "execution_count": 8,
   "metadata": {},
   "outputs": [
    {
     "name": "stdout",
     "output_type": "stream",
     "text": [
      "[[2.54498513e-02 4.59053373e-03 5.41036797e-04 ... 5.61407594e-07\n",
      "  5.30828080e-07 4.05456133e-07]\n",
      " [4.59053373e-03 2.54498513e-02 4.54490725e-03 ... 6.67525941e-07\n",
      "  6.16551153e-07 4.73702812e-07]\n",
      " [5.41036797e-04 4.54490725e-03 2.54498513e-02 ... 1.03436849e-06\n",
      "  9.54915019e-07 7.19050133e-07]\n",
      " ...\n",
      " [5.61407594e-07 6.67525941e-07 1.03436849e-06 ... 2.54498513e-02\n",
      "  4.51095114e-03 5.26945446e-04]\n",
      " [5.30828080e-07 6.16551153e-07 9.54915019e-07 ... 4.51095114e-03\n",
      "  2.54498513e-02 4.50026496e-03]\n",
      " [4.05456133e-07 4.73702812e-07 7.19050133e-07 ... 5.26945446e-04\n",
      "  4.50026496e-03 2.54498513e-02]]\n"
     ]
    }
   ],
   "source": [
    "print(dist_mat2[1])"
   ]
  },
  {
   "cell_type": "code",
   "execution_count": 9,
   "metadata": {},
   "outputs": [
    {
     "name": "stdout",
     "output_type": "stream",
     "text": [
      "[[4.06001720e-03 3.11024624e-04 1.25846228e-05 ... 4.20646640e-10\n",
      "  3.86750454e-10 2.58175966e-10]\n",
      " [3.11024624e-04 4.06001720e-03 3.06399137e-04 ... 5.45383784e-10\n",
      "  4.84120721e-10 3.26031036e-10]\n",
      " [1.25846228e-05 3.06399137e-04 4.06001720e-03 ... 1.05199318e-09\n",
      "  9.33140601e-10 6.09731675e-10]\n",
      " ...\n",
      " [4.20646640e-10 5.45383784e-10 1.05199318e-09 ... 4.06001720e-03\n",
      "  3.02971785e-04 1.20961868e-05]\n",
      " [3.86750454e-10 4.84120721e-10 9.33140601e-10 ... 3.02971785e-04\n",
      "  4.06001720e-03 3.01895839e-04]\n",
      " [2.58175966e-10 3.26031036e-10 6.09731675e-10 ... 1.20961868e-05\n",
      "  3.01895839e-04 4.06001720e-03]]\n"
     ]
    }
   ],
   "source": [
    "print(dist_mat2[2])"
   ]
  }
 ],
 "metadata": {
  "kernelspec": {
   "display_name": "Python 3.8.12 64-bit ('miniconda38')",
   "language": "python",
   "name": "python3"
  },
  "language_info": {
   "codemirror_mode": {
    "name": "ipython",
    "version": 3
   },
   "file_extension": ".py",
   "mimetype": "text/x-python",
   "name": "python",
   "nbconvert_exporter": "python",
   "pygments_lexer": "ipython3",
   "version": "3.8.12"
  },
  "orig_nbformat": 4,
  "vscode": {
   "interpreter": {
    "hash": "474a727007314fe946f45bbc9b266c6bb0e4e19682495744a6293558354c7c6e"
   }
  }
 },
 "nbformat": 4,
 "nbformat_minor": 2
}
