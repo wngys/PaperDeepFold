{
 "cells": [
  {
   "cell_type": "code",
   "execution_count": 1,
   "metadata": {},
   "outputs": [
    {
     "name": "stdout",
     "output_type": "stream",
     "text": [
      "14274\n",
      "['d5u89b_', 'd2ioja1', 'd2a2ra2', 'd1na6a1', 'd5fxda2', 'd2vg0a_', 'd1vj1a1', 'd3cx5f_', 'd1ufwa1', 'd1qcxa_']\n"
     ]
    }
   ],
   "source": [
    "import numpy as np\n",
    "\n",
    "IDSet = set(np.load(\"/home/wngys/lab/DeepFold/protein_infor/IDArray.npy\", allow_pickle=True).tolist())\n",
    "print(len(IDSet))\n",
    "print(list(IDSet)[:10])"
   ]
  },
  {
   "cell_type": "code",
   "execution_count": 2,
   "metadata": {},
   "outputs": [
    {
     "name": "stdout",
     "output_type": "stream",
     "text": [
      "12\n",
      "['/home/wngys/scop/scope-2.07-40/de/d1deua_.ent', '/home/wngys/scop/scope-2.07-40/ng/d1ngvb_.ent', '/home/wngys/scop/scope-2.07-40/bd/d1bd7a_.ent', '/home/wngys/scop/scope-2.07-40/nr/d1nria_.ent', '/home/wngys/scop/scope-2.07-40/eu/d1eu3a1.ent', '/home/wngys/scop/scope-2.07-40/ms/d3msza1.ent', '/home/wngys/scop/scope-2.07-40/pc/d1pcia_.ent', '/home/wngys/scop/scope-2.07-40/mh/d1mh1a_.ent', '/home/wngys/scop/scope-2.07-40/no/d1nova_.ent', '/home/wngys/scop/scope-2.07-40/pv/d1pvta_.ent', '/home/wngys/scop/scope-2.07-40/ax/d4ax1b_.ent', '/home/wngys/scop/scope-2.07-40/dk/d1dkia_.ent']\n"
     ]
    }
   ],
   "source": [
    "errorPathList = np.load(\"/home/wngys/lab/DeepFold/protein_infor/entPathArrayResError.npy\", allow_pickle=True).tolist()\n",
    "print(len(errorPathList))\n",
    "print(errorPathList)"
   ]
  },
  {
   "cell_type": "code",
   "execution_count": 3,
   "metadata": {},
   "outputs": [
    {
     "name": "stdout",
     "output_type": "stream",
     "text": [
      "12\n",
      "{'d1mh1a_', 'd1dkia_', 'd1deua_', 'd1pvta_', 'd1eu3a1', 'd1nova_', 'd1bd7a_', 'd1pcia_', 'd4ax1b_', 'd1nria_', 'd1ngvb_', 'd3msza1'}\n"
     ]
    }
   ],
   "source": [
    "errorIDSet = set([ele.split('/')[-1].split('.')[0] for ele in errorPathList])\n",
    "print(len(errorIDSet))\n",
    "print(errorIDSet)\n"
   ]
  },
  {
   "cell_type": "code",
   "execution_count": 4,
   "metadata": {},
   "outputs": [
    {
     "name": "stdout",
     "output_type": "stream",
     "text": [
      "14262\n"
     ]
    }
   ],
   "source": [
    "validIDSet = IDSet - errorIDSet\n",
    "print(len(validIDSet))"
   ]
  },
  {
   "cell_type": "code",
   "execution_count": 6,
   "metadata": {},
   "outputs": [],
   "source": [
    "# 筛选得到 valid_pair\n",
    "file_name = \"/home/wngys/scop/TMalign/tmalign40.txt\"\n",
    "out_file = \"/home/wngys/lab/DeepFold/pair/valid_pair.txt\"\n",
    "f_out = open(out_file, \"w\")\n",
    "\n",
    "with open(file_name, \"r\") as f_r:\n",
    "    while True:\n",
    "        lines = f_r.readline()\n",
    "        if not lines:\n",
    "            break\n",
    "        id1 = lines.split('\\t')[0]\n",
    "        id2 = lines.split('\\t')[1]\n",
    "\n",
    "        if id1 in validIDSet and id2 in validIDSet:\n",
    "            f_out.write(lines)\n",
    "f_out.close()"
   ]
  },
  {
   "cell_type": "code",
   "execution_count": 17,
   "metadata": {},
   "outputs": [],
   "source": [
    "# 根据valid_pair文件，将align文件左侧一列 按蛋白质类别 分成许多txt\n",
    "file_name = \"/home/wngys/lab/DeepFold/pair/valid_pair.txt\"\n",
    "dir_name = \"/home/wngys/lab/DeepFold/pair/pair_score/\"\n",
    "dic = {}\n",
    "\n",
    "with open(file_name, \"r\") as f_r:\n",
    "    while True:\n",
    "        lines = f_r.readline()\n",
    "        if not lines:\n",
    "            break\n",
    "        id1 = lines.split('\\t')[0]\n",
    "        id2 = lines.split('\\t')[1]\n",
    "        score = lines.split('\\t')[2].split('\\n')[0]\n",
    "        if id1 not in dic:\n",
    "            dic[id1] = []\n",
    "        dic[id1].append((id2, score))\n",
    "\n",
    "for id in dic.keys():\n",
    "    f_name = dir_name + id + \".txt\"\n",
    "    f_out = open(f_name, \"w\")\n",
    "    for ele in dic[id]:\n",
    "        f_out.write(ele[0])\n",
    "        f_out.write('\\t')\n",
    "        f_out.write(ele[1])\n",
    "        f_out.write(\"\\n\")\n",
    "    f_out.close()"
   ]
  },
  {
   "cell_type": "code",
   "execution_count": 1,
   "metadata": {},
   "outputs": [
    {
     "name": "stdout",
     "output_type": "stream",
     "text": [
      "14244\n"
     ]
    }
   ],
   "source": [
    "# 得到valid_set集合(align文件第一列蛋白质集合)\n",
    "file_name = \"/home/wngys/lab/DeepFold/pair/valid_pair.txt\"\n",
    "valid_set = set()\n",
    "with open(file_name, \"r\") as f_r:\n",
    "    while True:\n",
    "        lines = f_r.readline()\n",
    "        if not lines:\n",
    "            break\n",
    "        id1 = lines.split('\\t')[0]\n",
    "        id2 = lines.split('\\t')[1]\n",
    "        valid_set.add(id1)\n",
    "\n",
    "print(len(valid_set))"
   ]
  },
  {
   "cell_type": "code",
   "execution_count": 2,
   "metadata": {},
   "outputs": [
    {
     "name": "stdout",
     "output_type": "stream",
     "text": [
      "14244\n"
     ]
    }
   ],
   "source": [
    "# 验证一下Pair文件夹 文件数目是否等于align文件左侧蛋白质集合 元素数目\n",
    "dir = \"/home/wngys/lab/DeepFold/pair/pair_bool_90\"\n",
    "files_n = os.listdir(dir)\n",
    "print(len(files_n))"
   ]
  },
  {
   "cell_type": "code",
   "execution_count": 5,
   "metadata": {},
   "outputs": [],
   "source": [
    "import numpy as np\n",
    "\n",
    "np.save(\"/home/wngys/lab/DeepFold/protein_infor/leftIDArray.npy\", list(valid_set))"
   ]
  },
  {
   "cell_type": "code",
   "execution_count": 6,
   "metadata": {},
   "outputs": [
    {
     "name": "stdout",
     "output_type": "stream",
     "text": [
      "14244\n"
     ]
    }
   ],
   "source": [
    "ll = np.load(\"/home/wngys/lab/DeepFold/protein_infor/leftIDArray.npy\", allow_pickle=True).tolist()\n",
    "print(len(ll))"
   ]
  },
  {
   "cell_type": "code",
   "execution_count": 21,
   "metadata": {},
   "outputs": [],
   "source": [
    "# 由Pair文件 将第二列TM-score转换为 bool 表示 positive or negtive\n",
    "import os\n",
    "dir_pair = \"/home/wngys/lab/DeepFold/pair/pair_score\"\n",
    "out_dir = \"/home/wngys/lab/DeepFold/pair/pair_bool_90/\"\n",
    "p = 0.9\n",
    "i = 0\n",
    "for file_n in os.listdir(dir_pair):\n",
    "    # if i >= 5:\n",
    "    #     break\n",
    "    file_name = os.path.join(dir_pair, file_n)\n",
    "    Max_score = -1\n",
    "    with open(file_name, \"r\") as f_r:\n",
    "        while True:\n",
    "            lines = f_r.readline()\n",
    "            if not lines:\n",
    "                break\n",
    "            # id2 = lines.split('\\t')[0]\n",
    "            score = lines.split('\\t')[1].split(\"\\n\")[0]\n",
    "            score = float(score)\n",
    "            Max_score = max(score, Max_score)\n",
    "\n",
    "    threshold = Max_score *p\n",
    "    # print(file_n)\n",
    "    # print(f\"Max_score:{Max_score}\")\n",
    "    f_w = open(out_dir + file_n, \"w\")\n",
    "\n",
    "    with open(file_name, \"r\") as f_r:\n",
    "        while True:\n",
    "            lines = f_r.readline()\n",
    "            if not lines:\n",
    "                break\n",
    "            id2 = lines.split('\\t')[0]\n",
    "            score = lines.split('\\t')[1].split(\"\\n\")[0]\n",
    "            score = float(score)\n",
    "            f_w.write(id2)\n",
    "            f_w.write(\"\\t\")\n",
    "\n",
    "            if score >= threshold:\n",
    "                # print(id2, score)\n",
    "                f_w.write(str(1))\n",
    "                f_w.write(\"\\n\")\n",
    "            else:\n",
    "                f_w.write(str(0))\n",
    "                f_w.write(\"\\n\")\n",
    "    f_w.close()"
   ]
  }
 ],
 "metadata": {
  "kernelspec": {
   "display_name": "Python 3 (ipykernel)",
   "language": "python",
   "name": "python3"
  },
  "language_info": {
   "codemirror_mode": {
    "name": "ipython",
    "version": 3
   },
   "file_extension": ".py",
   "mimetype": "text/x-python",
   "name": "python",
   "nbconvert_exporter": "python",
   "pygments_lexer": "ipython3",
   "version": "3.8.12"
  },
  "vscode": {
   "interpreter": {
    "hash": "474a727007314fe946f45bbc9b266c6bb0e4e19682495744a6293558354c7c6e"
   }
  }
 },
 "nbformat": 4,
 "nbformat_minor": 2
}
