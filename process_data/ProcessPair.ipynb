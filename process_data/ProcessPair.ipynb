{
 "cells": [
  {
   "cell_type": "code",
   "execution_count": 1,
   "metadata": {},
   "outputs": [],
   "source": [
    "# 根据valid_pair文件，将align文件左侧一列 按蛋白质类别 分成许多txt\n",
    "file_name = \"/home/wngys/lab/DeepFold/pair/valid_pair.txt\"\n",
    "# file_name = \"pair_/d1b77a2.txt\"\n",
    "dir_name = \"/home/wngys/lab/DeepFold/pair/pair_score/\"\n",
    "dic = {}\n",
    "with open(file_name, \"r\") as f_r:\n",
    "    while True:\n",
    "        lines = f_r.readline()\n",
    "        if not lines:\n",
    "            break\n",
    "        id1 = lines.split('\\t')[0]\n",
    "        id2 = lines.split('\\t')[1]\n",
    "        score = lines.split('\\t')[2].split('\\n')[0]\n",
    "        if id1 not in dic:\n",
    "            dic[id1] = []\n",
    "        dic[id1].append((id2, score))\n",
    "\n",
    "for id in dic.keys():\n",
    "    f_name = dir_name + id + \".txt\"\n",
    "    f_out = open(f_name, \"w\")\n",
    "    for ele in dic[id]:\n",
    "        f_out.write(ele[0])\n",
    "        f_out.write('\\t')\n",
    "        f_out.write(ele[1])\n",
    "        f_out.write(\"\\n\")\n",
    "    f_out.close()"
   ]
  },
  {
   "cell_type": "code",
   "execution_count": null,
   "metadata": {},
   "outputs": [],
   "source": []
  },
  {
   "cell_type": "code",
   "execution_count": null,
   "metadata": {},
   "outputs": [],
   "source": [
    "# 验证一下Pair文件夹 文件数目是否等于align文件左侧蛋白质集合 元素数目\n",
    "dir = \"Pair\"\n",
    "\n",
    "files_n = os.listdir(dir)\n",
    "\n",
    "print(len(files_n))"
   ]
  },
  {
   "cell_type": "code",
   "execution_count": null,
   "metadata": {},
   "outputs": [],
   "source": [
    "# 由Pair文件 将第二列TM-score转换为 bool 表示 positive or negtive\n",
    "dir_pair = \"Pair\"\n",
    "out_dir = \"Pair_bool/\"\n",
    "p = 0.9\n",
    "i = 0\n",
    "for file_n in os.listdir(dir_pair):\n",
    "    # if i >= 5:\n",
    "    #     break\n",
    "    file_name = os.path.join(dir_pair, file_n)\n",
    "    Max_score = -1\n",
    "    with open(file_name, \"r\") as f_r:\n",
    "        while True:\n",
    "            lines = f_r.readline()\n",
    "            if not lines:\n",
    "                break\n",
    "            # id2 = lines.split('\\t')[0]\n",
    "            score = lines.split('\\t')[1].split(\"\\n\")[0]\n",
    "            score = float(score)\n",
    "            Max_score = max(score, Max_score)\n",
    "\n",
    "    threshold = Max_score *p\n",
    "    # print(file_n)\n",
    "    # print(f\"Max_score:{Max_score}\")\n",
    "    f_w = open(out_dir + file_n, \"w\")\n",
    "\n",
    "    with open(file_name, \"r\") as f_r:\n",
    "        while True:\n",
    "            lines = f_r.readline()\n",
    "            if not lines:\n",
    "                break\n",
    "            id2 = lines.split('\\t')[0]\n",
    "            score = lines.split('\\t')[1].split(\"\\n\")[0]\n",
    "            score = float(score)\n",
    "            f_w.write(id2)\n",
    "            f_w.write(\"\\t\")\n",
    "\n",
    "            if score >= threshold:\n",
    "                # print(id2, score)\n",
    "                f_w.write(str(1))\n",
    "                f_w.write(\"\\n\")\n",
    "            else:\n",
    "                f_w.write(str(0))\n",
    "                f_w.write(\"\\n\")\n",
    "    f_w.close()\n",
    "\n",
    "    # i += 1\n",
    "    # print(\"------------------------------------------------\")"
   ]
  }
 ],
 "metadata": {
  "kernelspec": {
   "display_name": "Python 3.8.12 64-bit ('miniconda38')",
   "language": "python",
   "name": "python3"
  },
  "language_info": {
   "codemirror_mode": {
    "name": "ipython",
    "version": 3
   },
   "file_extension": ".py",
   "mimetype": "text/x-python",
   "name": "python",
   "nbconvert_exporter": "python",
   "pygments_lexer": "ipython3",
   "version": "3.8.12"
  },
  "orig_nbformat": 4,
  "vscode": {
   "interpreter": {
    "hash": "474a727007314fe946f45bbc9b266c6bb0e4e19682495744a6293558354c7c6e"
   }
  }
 },
 "nbformat": 4,
 "nbformat_minor": 2
}
