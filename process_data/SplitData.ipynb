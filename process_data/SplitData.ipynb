{
 "cells": [
  {
   "cell_type": "code",
   "execution_count": 9,
   "metadata": {},
   "outputs": [],
   "source": [
    "import numpy as np\n",
    "\n",
    "leftList = np.load(\"/home/wngys/lab/DeepFold/protein_infor/leftIDArray.npy\", allow_pickle=True).tolist()\n",
    "toDeleList = np.load(\"/home/wngys/lab/DeepFold/protein_infor/negLess10IDArray.npy\", allow_pickle=True).tolist()\n",
    "\n",
    "toSelecList = list(set(leftList) - set(toDeleList))"
   ]
  },
  {
   "cell_type": "code",
   "execution_count": 16,
   "metadata": {},
   "outputs": [
    {
     "name": "stdout",
     "output_type": "stream",
     "text": [
      "tensor([ 2943,  5472,  6815,  1476, 13469, 10653, 11751, 11295, 10628,  3844])\n"
     ]
    }
   ],
   "source": [
    "import torch\n",
    "\n",
    "toSelecNum = len(toSelecList) # 14018\n",
    "perm = torch.randperm(toSelecNum)\n",
    "\n",
    "# 训练集 验证集 测试集 比例 6:2:2\n",
    "train_indices = perm[:int(toSelecNum*0.6)]   # 8410\n",
    "valid_indices = perm[int(toSelecNum*0.6):int(toSelecNum*0.8)] # 2804\n",
    "test_indices = perm[int(toSelecNum*0.8):toSelecNum] # 2804\n",
    "\n",
    "print(train_indices[:10])\n",
    "# toSelecTrainList = [toSelecList[i] for i in perm]"
   ]
  },
  {
   "cell_type": "code",
   "execution_count": 12,
   "metadata": {},
   "outputs": [
    {
     "name": "stdout",
     "output_type": "stream",
     "text": [
      "['d4uhca1', 'd1w5sa1', 'd4kqia_', 'd4c08a_', 'd1bb9a_']\n"
     ]
    }
   ],
   "source": [
    "Dir = \"/home/wngys/lab/DeepFold/pair/pair_bool_90\"\n",
    "for id in "
   ]
  }
 ],
 "metadata": {
  "kernelspec": {
   "display_name": "Python 3.8.12 64-bit ('miniconda38')",
   "language": "python",
   "name": "python3"
  },
  "language_info": {
   "codemirror_mode": {
    "name": "ipython",
    "version": 3
   },
   "file_extension": ".py",
   "mimetype": "text/x-python",
   "name": "python",
   "nbconvert_exporter": "python",
   "pygments_lexer": "ipython3",
   "version": "3.8.12"
  },
  "orig_nbformat": 4,
  "vscode": {
   "interpreter": {
    "hash": "474a727007314fe946f45bbc9b266c6bb0e4e19682495744a6293558354c7c6e"
   }
  }
 },
 "nbformat": 4,
 "nbformat_minor": 2
}
