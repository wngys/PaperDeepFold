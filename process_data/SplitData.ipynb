{
 "cells": [
  {
   "cell_type": "code",
   "execution_count": 2,
   "metadata": {},
   "outputs": [],
   "source": [
    "import numpy as np\n",
    "\n",
    "leftList = np.load(\"/home/wngys/lab/DeepFold/protein_infor/leftIDArray.npy\", allow_pickle=True).tolist()\n",
    "toDeleList = np.load(\"/home/wngys/lab/DeepFold/protein_infor/negLess10IDArray.npy\", allow_pickle=True).tolist()\n",
    "\n",
    "toSelecList = list(set(leftList) - set(toDeleList))"
   ]
  },
  {
   "cell_type": "code",
   "execution_count": 4,
   "metadata": {},
   "outputs": [],
   "source": [
    "import torch\n",
    "\n",
    "toSelecNum = len(toSelecList) # 14018\n",
    "perm = torch.randperm(toSelecNum)\n",
    "\n",
    "# 训练集 验证集 测试集 比例 6:2:2\n",
    "train_indices = perm[:int(toSelecNum*0.6)]   # 8410\n",
    "valid_indices = perm[int(toSelecNum*0.6):int(toSelecNum*0.8)] # 2804\n",
    "test_indices = perm[int(toSelecNum*0.8):toSelecNum] # 2804\n",
    "\n",
    "toSelecTrainList = [toSelecList[i] for i in train_indices]\n",
    "toSelecValidList = [toSelecList[i] for i in valid_indices]\n",
    "toSelecTestList = [toSelecList[i] for i in test_indices]\n",
    "\n",
    "np.save(\"/home/wngys/lab/DeepFold/pair/train.npy\", toSelecTrainList)\n",
    "np.save(\"/home/wngys/lab/DeepFold/pair/valid.npy\", toSelecValidList)\n",
    "np.save(\"/home/wngys/lab/DeepFold/pair/test.npy\", toSelecTestList)\n",
    "\n"
   ]
  },
  {
   "cell_type": "code",
   "execution_count": null,
   "metadata": {},
   "outputs": [],
   "source": [
    "toSelecTrainList = np.load(\"/home/wngys/lab/DeepFold/pair/train.npy\", allow_pickle=True)\n",
    "# valid \n",
    "# test"
   ]
  },
  {
   "cell_type": "code",
   "execution_count": 12,
   "metadata": {},
   "outputs": [
    {
     "name": "stdout",
     "output_type": "stream",
     "text": [
      "['d4uhca1', 'd1w5sa1', 'd4kqia_', 'd4c08a_', 'd1bb9a_']\n"
     ]
    }
   ],
   "source": [
    "# 更改数据分布 确保每个batch至少一个正例\n",
    "Dir = \"/home/wngys/lab/DeepFold/pair/pair_bool_90/\"\n",
    "batch_size = 64\n",
    "for id in toSelecTrainList:\n",
    "    posi_data = []\n",
    "    nega_data = []\n",
    "\n",
    "    with open(Dir+id+\".txt\", \"r\") as f_r:\n",
    "        lines = f_r.readline()\n",
    "        if not lines:\n",
    "            break\n",
    "        id2 = lines.split('\\t')[0]\n",
    "        flag = lines.split('\\t')[1].split(\"\\n\")[0]\n",
    "        if flag == '1':\n",
    "            posi_data.append((id2, flag))\n",
    "        else:\n",
    "            nega_data.append((id2, flag))\n",
    "    \n",
    "    posi_num = len(posi_data)\n",
    "    nega_num = len(nega_num)\n",
    "    total_num = posi_num + nega_num\n",
    "\n",
    "    data_list = []\n",
    "\n",
    "    if total_num > batch_size: # 小于就忽略\n",
    "        batch_num = (total_num - 1)/ batch_size + 1\n",
    "        left_num = total_num % batch_size # 没有用到?\n",
    "\n",
    "        posi_num_batch = (posi_num - 1)/ batch_num + 1\n",
    "        posi_left = posi_num % batch_num\n",
    "\n",
    "        # 如果余数不为0 填充正例\n",
    "        posi_data.extend(posi_data[:(batch_num-posi_left)])\n",
    "\n",
    "        nega_cusor = 0\n",
    "        for i in range(batch_num):\n",
    "            data_list.extend(posi_data[i*posi_num_batch:(i+1)*posi_num_batch])\n",
    "            if i < batch_num - 1:\n",
    "                data_list.extend(nega_data[nega_cusor:nega_cusor+(batch_size-posi_num_batch)])\n",
    "                nega_cusor += batch_size-posi_num_batch\n",
    "            else: # 最后一个分支 负例也填不满batch_size\n",
    "                data_list.extend(nega_data[nega_cusor:-1])\n",
    "\n",
    "        # 将data_list 写入新文件夹 \"/home/wngys/lab/DeepFold/pair/train_pair_bool_90\"\n",
    "\n",
    "\n",
    "\n",
    "\n",
    "\n",
    "\n",
    "\n",
    "\n",
    "\n",
    "\n",
    "    "
   ]
  },
  {
   "cell_type": "code",
   "execution_count": null,
   "metadata": {},
   "outputs": [],
   "source": []
  }
 ],
 "metadata": {
  "kernelspec": {
   "display_name": "Python 3.8.12 64-bit ('miniconda38')",
   "language": "python",
   "name": "python3"
  },
  "language_info": {
   "codemirror_mode": {
    "name": "ipython",
    "version": 3
   },
   "file_extension": ".py",
   "mimetype": "text/x-python",
   "name": "python",
   "nbconvert_exporter": "python",
   "pygments_lexer": "ipython3",
   "version": "3.8.12"
  },
  "orig_nbformat": 4,
  "vscode": {
   "interpreter": {
    "hash": "474a727007314fe946f45bbc9b266c6bb0e4e19682495744a6293558354c7c6e"
   }
  }
 },
 "nbformat": 4,
 "nbformat_minor": 2
}
