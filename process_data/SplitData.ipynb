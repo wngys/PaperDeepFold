{
 "cells": [
  {
   "cell_type": "code",
   "execution_count": 2,
   "metadata": {},
   "outputs": [],
   "source": [
    "import numpy as np\n",
    "\n",
    "leftList = np.load(\"/home/wngys/lab/DeepFold/protein_infor/leftIDArray.npy\", allow_pickle=True).tolist()\n",
    "toDeleList = np.load(\"/home/wngys/lab/DeepFold/protein_infor/negLess10IDArray.npy\", allow_pickle=True).tolist()\n",
    "\n",
    "toSelecList = list(set(leftList) - set(toDeleList))"
   ]
  },
  {
   "cell_type": "code",
   "execution_count": 4,
   "metadata": {},
   "outputs": [],
   "source": [
    "import torch\n",
    "import numpy as np\n",
    "\n",
    "toSelecNum = len(toSelecList) # 14018\n",
    "perm = torch.randperm(toSelecNum)\n",
    "\n",
    "# 训练集 验证集 测试集 比例 6:2:2\n",
    "train_indices = perm[:int(toSelecNum*0.6)]   # 8410\n",
    "valid_indices = perm[int(toSelecNum*0.6):int(toSelecNum*0.8)] # 2804\n",
    "test_indices = perm[int(toSelecNum*0.8):toSelecNum] # 2804\n",
    "\n",
    "toSelecTrainList = [toSelecList[i] for i in train_indices]\n",
    "toSelecValidList = [toSelecList[i] for i in valid_indices]\n",
    "toSelecTestList = [toSelecList[i] for i in test_indices]\n",
    "\n",
    "np.save(\"/home/wngys/lab/DeepFold/pair/train.npy\", toSelecTrainList)\n",
    "np.save(\"/home/wngys/lab/DeepFold/pair/valid.npy\", toSelecValidList)\n",
    "np.save(\"/home/wngys/lab/DeepFold/pair/test.npy\", toSelecTestList)\n",
    "\n"
   ]
  },
  {
   "cell_type": "code",
   "execution_count": 2,
   "metadata": {},
   "outputs": [],
   "source": [
    "import numpy as np\n",
    "theSelecTrainList = np.load(\"/home/wngys/lab/DeepFold/pair/train.npy\", allow_pickle=True)\n",
    "# valid \n",
    "# test"
   ]
  },
  {
   "cell_type": "code",
   "execution_count": 3,
   "metadata": {},
   "outputs": [],
   "source": [
    "# 更改数据分布 确保每个batch至少一个正例\n",
    "import math\n",
    "import copy\n",
    "\n",
    "Dir = \"/home/wngys/lab/DeepFold/pair/pair_bool_90/\"\n",
    "newDir = \"/home/wngys/lab/DeepFold/pair/train_pair_bool_90/\"\n",
    "batch_size = 64\n",
    "\n",
    "# print(theSelecTrainList)\n",
    "idx = 0\n",
    "for id in theSelecTrainList:\n",
    "    idx += 1\n",
    "    if idx % 100 == 0:\n",
    "        print(\"idx: \", idx)\n",
    "    posi_data = []\n",
    "    nega_data = []\n",
    "\n",
    "    with open(Dir+id+\".txt\", \"r\") as f_r:\n",
    "        while True:\n",
    "            lines = f_r.readline()\n",
    "            if not lines:\n",
    "                break\n",
    "            # id2 = lines.split('\\t')[0]\n",
    "            flag = lines.split('\\t')[1].split(\"\\n\")[0]\n",
    "            # print(type(flag))\n",
    "            if flag == \"1\":\n",
    "                posi_data.append(lines)\n",
    "            else:\n",
    "                nega_data.append(lines)\n",
    "    \n",
    "    posi_num = len(posi_data)\n",
    "    nega_num = len(nega_data)\n",
    "    total_num = posi_num + nega_num\n",
    "    # print(f\"id:{id} nega_num:{nega_num} posi_num:{posi_num}\")\n",
    "\n",
    "    # data_list = []\n",
    "    # 将data_list 写入新文件夹 \"/home/wngys/lab/DeepFold/pair/train_pair_bool_90\"\n",
    "    f_w = open(newDir+id+\".txt\", \"w\")\n",
    "\n",
    "    if total_num > batch_size: # 小于就忽略\n",
    "        batch_num = math.floor((total_num - 1)/ batch_size) + 1\n",
    "        # print(batch_num,end = ' ')\n",
    "        left_num = total_num % batch_size # 没有用到?\n",
    "        # print(left_num,end=' ')\n",
    "        posi_num_batch = math.floor((posi_num - 1)/ batch_num) + 1\n",
    "        # print(posi_num_batch,end = ' ')\n",
    "        posi_left = posi_num % batch_num\n",
    "        # print(posi_left, end = ' ')\n",
    "        # 如果余数不为0 填充正例\n",
    "        # print(batch_num-posi_left)\n",
    "\n",
    "        if posi_num > batch_num-posi_left:\n",
    "            posi_data.extend(posi_data[:(batch_num-posi_left)])\n",
    "        else:\n",
    "            cnt = 0\n",
    "            tmp_data = copy.deepcopy(posi_data)\n",
    "            while cnt < batch_num - posi_left:\n",
    "                cnt += posi_num\n",
    "                posi_data.extend(tmp_data)\n",
    "                # print(len(tmp_data))\n",
    "\n",
    "        nega_cusor = 0\n",
    "        for i in range(batch_num):\n",
    "            # data_list.extend(posi_data[i*posi_num_batch:(i+1)*posi_num_batch])\n",
    "            for data in posi_data[i*posi_num_batch:(i+1)*posi_num_batch]:\n",
    "                f_w.write(data)\n",
    "            if i < batch_num - 1:\n",
    "                # data_list.extend(nega_data[nega_cusor:nega_cusor+(batch_size-posi_num_batch)])\n",
    "                for data in nega_data[nega_cusor:nega_cusor+(batch_size-posi_num_batch)]:\n",
    "                    f_w.write(data)\n",
    "                nega_cusor += batch_size-posi_num_batch\n",
    "            else: # 最后一个分支 负例也填不满batch_size\n",
    "                if batch_num - posi_left > batch_size - left_num:\n",
    "                    # data_list.extend(nega_data[nega_cusor:nega_cusor+(batch_size-posi_num_batch)]) # 和前面batch处理相同，最后余出的负例不要了\n",
    "                    for data in nega_data[nega_cusor:nega_cusor+(batch_size-posi_num_batch)]:\n",
    "                        f_w.write(data)\n",
    "                else:\n",
    "                    # data_list.extend(nega_data[nega_cusor:])\n",
    "                    for data in nega_data[nega_cusor:]:\n",
    "                        f_w.write(data)\n",
    "\n",
    "    else:\n",
    "        # data_list.extend(posi_data)\n",
    "        # data_list.extend(nega_data)\n",
    "        for data in posi_data:\n",
    "            f_w.write(data)\n",
    "        for data in nega_data:\n",
    "            f_w.write(data)\n",
    "        \n",
    "    f_w.close() "
   ]
  },
  {
   "cell_type": "code",
   "execution_count": 1,
   "metadata": {},
   "outputs": [
    {
     "name": "stdout",
     "output_type": "stream",
     "text": [
      "8410\n"
     ]
    }
   ],
   "source": [
    "import os\n",
    "\n",
    "print(len(os.listdir(\"/home/wngys/lab/DeepFold/pair/train_pair_bool_90\")))"
   ]
  }
 ],
 "metadata": {
  "kernelspec": {
   "display_name": "Python 3.8.12 64-bit ('miniconda38')",
   "language": "python",
   "name": "python3"
  },
  "language_info": {
   "codemirror_mode": {
    "name": "ipython",
    "version": 3
   },
   "file_extension": ".py",
   "mimetype": "text/x-python",
   "name": "python",
   "nbconvert_exporter": "python",
   "pygments_lexer": "ipython3",
   "version": "3.8.12"
  },
  "orig_nbformat": 4,
  "vscode": {
   "interpreter": {
    "hash": "474a727007314fe946f45bbc9b266c6bb0e4e19682495744a6293558354c7c6e"
   }
  }
 },
 "nbformat": 4,
 "nbformat_minor": 2
}
