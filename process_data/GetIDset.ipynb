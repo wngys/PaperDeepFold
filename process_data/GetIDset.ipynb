{
 "cells": [
  {
   "cell_type": "code",
   "execution_count": 2,
   "metadata": {},
   "outputs": [],
   "source": [
    "#得到原始IDList, fileList (遍历scop-2.07-40文件夹)\n",
    "#结合errorList 做差集得到 IDList\n",
    "import os\n",
    "from pathlib import Path\n",
    "\n",
    "dir_path = \"/home/wngys/scop/scope-2.07-40\"\n",
    "\n",
    "IDList = []\n",
    "fileList = []\n",
    "\n",
    "for child_path in os.listdir(dir_path):\n",
    "    child_path = os.path.join(dir_path, child_path)\n",
    "    files = sorted([os.path.join(child_path, f_path) for f_path in os.listdir(child_path) if f_path.endswith(\".ent\")])\n",
    "    for f_path in os.listdir(child_path):\n",
    "        if f_path.endswith(\".ent\"):\n",
    "            IDList.append(f_path.split('.')[0])\n",
    "            fileList.append(os.path.join(child_path, f_path))\n",
    "            \n",
    "IDset = set(IDList)"
   ]
  },
  {
   "cell_type": "code",
   "execution_count": null,
   "metadata": {},
   "outputs": [],
   "source": [
    "import numpy as np\n",
    "\n",
    "np.save(\"/home/wngys/lab/DeepFold/protein_infor/IDArray.npy\", IDList)"
   ]
  },
  {
   "cell_type": "code",
   "execution_count": null,
   "metadata": {},
   "outputs": [],
   "source": [
    "# 分析align40文件 第一列集合与第二列集合 交集与并集\n",
    "\n",
    "file_name = \"/home/wngys/scop/TMalign/tmalign40.txt\"\n",
    "set1 = set()\n",
    "set2 = set()\n",
    "with open(file_name, \"r\") as f_r:\n",
    "    while True:\n",
    "        lines = f_r.readline()\n",
    "        if not lines:\n",
    "            break\n",
    "        id1 = lines.split('\\t')[0]\n",
    "        id2 = lines.split('\\t')[1]\n",
    "        # id3 = lines.split('\\t')[2]\n",
    "        set1.add(id1)\n",
    "        set2.add(id2)\n",
    "\n",
    "print(len(set1))\n",
    "print(len(set2))\n",
    "\n",
    "set3 = set.union(set1, set2)\n",
    "set4 = set.intersection(set1, set2)\n",
    "\n",
    "print(len(set3))\n",
    "print(len(set4))"
   ]
  }
 ],
 "metadata": {
  "kernelspec": {
   "display_name": "Python 3 (ipykernel)",
   "language": "python",
   "name": "python3"
  },
  "language_info": {
   "codemirror_mode": {
    "name": "ipython",
    "version": 3
   },
   "file_extension": ".py",
   "mimetype": "text/x-python",
   "name": "python",
   "nbconvert_exporter": "python",
   "pygments_lexer": "ipython3",
   "version": "3.8.0"
  },
  "vscode": {
   "interpreter": {
    "hash": "474a727007314fe946f45bbc9b266c6bb0e4e19682495744a6293558354c7c6e"
   }
  }
 },
 "nbformat": 4,
 "nbformat_minor": 2
}
