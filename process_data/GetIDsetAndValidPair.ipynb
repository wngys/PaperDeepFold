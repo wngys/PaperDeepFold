{
 "cells": [
  {
   "cell_type": "code",
   "execution_count": 1,
   "metadata": {},
   "outputs": [],
   "source": [
    "#得到原始IDList, fileList (遍历scop-2.07-40文件夹)\n",
    "#结合errorList 做差集得到 IDList\n",
    "import os\n",
    "from pathlib import Path\n",
    "\n",
    "dir_path = \"/home/wngys/scop/scope-2.07-40\"\n",
    "\n",
    "IDList = []\n",
    "fileList = []\n",
    "\n",
    "for child_path in os.listdir(dir_path):\n",
    "    child_path = os.path.join(dir_path, child_path)\n",
    "    files = sorted([os.path.join(child_path, f_path) for f_path in os.listdir(child_path) if f_path.endswith(\".ent\")])\n",
    "    for f_path in os.listdir(child_path):\n",
    "        if f_path.endswith(\".ent\"):\n",
    "            IDList.append(f_path.split('.')[0])\n",
    "            fileList.append(os.path.join(child_path, f_path))\n",
    "            \n",
    "IDset = set(IDList)"
   ]
  },
  {
   "cell_type": "code",
   "execution_count": 2,
   "metadata": {},
   "outputs": [],
   "source": [
    "import numpy as np\n",
    "\n",
    "np.save(\"/home/wngys/lab/DeepFold/protein_infor/IDArray.npy\", IDList)\n",
    "np.save(\"/home/wngys/lab/DeepFold/protein_infor/entPathArray.npy\", fileList)"
   ]
  },
  {
   "cell_type": "code",
   "execution_count": null,
   "metadata": {},
   "outputs": [],
   "source": [
    "# 根据蛋白质ID得到具体文件路径\n",
    "idx = IDList.index(\"d3m2pa1\")\n",
    "print(fileList[idx])"
   ]
  },
  {
   "cell_type": "code",
   "execution_count": null,
   "metadata": {},
   "outputs": [],
   "source": [
    "#分析align40文件 第一列集合与第二列集合 交集与并集\n",
    "\n",
    "file_name = \"/home/wngys/scop/TMalign/tmalign40.txt\"\n",
    "# file_name = \"1.txt\"\n",
    "set1 = set()\n",
    "set2 = set()\n",
    "with open(file_name, \"r\") as f_r:\n",
    "    while True:\n",
    "        lines = f_r.readline()\n",
    "        if not lines:\n",
    "            break\n",
    "        id1 = lines.split('\\t')[0]\n",
    "        id2 = lines.split('\\t')[1]\n",
    "        # id3 = lines.split('\\t')[2]\n",
    "        set1.add(id1)\n",
    "        set2.add(id2)\n",
    "\n",
    "print(len(set1))\n",
    "print(len(set2))\n",
    "\n",
    "set3 = set.union(set1, set2)\n",
    "set4 = set.intersection(set1, set2)\n",
    "\n",
    "print(len(set3))\n",
    "print(len(set4))"
   ]
  },
  {
   "cell_type": "code",
   "execution_count": null,
   "metadata": {},
   "outputs": [],
   "source": [
    "# 筛选得到 valid_pair\n",
    "\n",
    "file_name = \"/home/wngys/scop/TMalign/tmalign40.txt\"\n",
    "out_file = \"valid_pair.txt\"\n",
    "f_out = open(out_file, \"w\")\n",
    "# file_name = \"1.txt\"\n",
    "\n",
    "with open(file_name, \"r\") as f_r:\n",
    "    while True:\n",
    "        lines = f_r.readline()\n",
    "        if not lines:\n",
    "            break\n",
    "        id1 = lines.split('\\t')[0]\n",
    "        id2 = lines.split('\\t')[1]\n",
    "\n",
    "        if id1 in IDset and id2 in IDset:\n",
    "            f_out.write(lines)\n",
    "f_out.close()"
   ]
  },
  {
   "cell_type": "code",
   "execution_count": null,
   "metadata": {},
   "outputs": [
    {
     "name": "stdout",
     "output_type": "stream",
     "text": [
      "14256\n"
     ]
    }
   ],
   "source": [
    "# 得到valid_set集合(align文件第一列蛋白质集合)\n",
    "file_name = \"valid_pair.txt\"\n",
    "valid_set = set()\n",
    "with open(file_name, \"r\") as f_r:\n",
    "    while True:\n",
    "        lines = f_r.readline()\n",
    "        if not lines:\n",
    "            break\n",
    "        id1 = lines.split('\\t')[0]\n",
    "        id2 = lines.split('\\t')[1]\n",
    "        valid_set.add(id1)\n",
    "\n",
    "print(len(valid_set))"
   ]
  },
  {
   "cell_type": "code",
   "execution_count": null,
   "metadata": {},
   "outputs": [],
   "source": [
    "# valid_set 由valid_pair的第一列或第二列集合操作得到\n",
    "print(len(IDset - valid_set))"
   ]
  },
  {
   "cell_type": "code",
   "execution_count": null,
   "metadata": {},
   "outputs": [],
   "source": [
    "print(len((IDset & set1) - set2))\n",
    "print(len((IDset & set2) - set1))\n",
    "print(len(IDset & set1 & set2))"
   ]
  },
  {
   "cell_type": "code",
   "execution_count": null,
   "metadata": {},
   "outputs": [],
   "source": [
    "print(len(set.intersection(IDset, set4)))\n",
    "print(len(set.union(IDset, set4)))"
   ]
  },
  {
   "cell_type": "code",
   "execution_count": null,
   "metadata": {},
   "outputs": [],
   "source": [
    "# 根据valid_pair文件，将align文件左侧一列 按蛋白质类别 分成许多txt\n",
    "file_name = \"valid_pair.txt\"\n",
    "# file_name = \"pair_/d1b77a2.txt\"\n",
    "dir_name = \"Pair/\"\n",
    "dic = {}\n",
    "with open(file_name, \"r\") as f_r:\n",
    "    while True:\n",
    "        lines = f_r.readline()\n",
    "        if not lines:\n",
    "            break\n",
    "        id1 = lines.split('\\t')[0]\n",
    "        id2 = lines.split('\\t')[1]\n",
    "        score = lines.split('\\t')[2].split('\\n')[0]\n",
    "        if id1 not in dic:\n",
    "            dic[id1] = []\n",
    "        dic[id1].append((id2, score))\n",
    "\n",
    "for id in dic.keys():\n",
    "    f_name = dir_name + id + \".txt\"\n",
    "    f_out = open(f_name, \"w\")\n",
    "    for ele in dic[id]:\n",
    "        f_out.write(ele[0])\n",
    "        f_out.write('\\t')\n",
    "        f_out.write(ele[1])\n",
    "        f_out.write(\"\\n\")\n",
    "    f_out.close()"
   ]
  },
  {
   "cell_type": "code",
   "execution_count": null,
   "metadata": {},
   "outputs": [],
   "source": [
    "# 验证一下Pair文件夹 文件数目是否等于align文件左侧蛋白质集合 元素数目\n",
    "dir = \"Pair\"\n",
    "\n",
    "files_n = os.listdir(dir)\n",
    "\n",
    "print(len(files_n))"
   ]
  },
  {
   "cell_type": "code",
   "execution_count": null,
   "metadata": {},
   "outputs": [],
   "source": [
    "# 由Pair文件 将第二列TM-score转换为 bool 表示 positive or negtive\n",
    "dir_pair = \"Pair\"\n",
    "out_dir = \"Pair_bool/\"\n",
    "p = 0.9\n",
    "i = 0\n",
    "for file_n in os.listdir(dir_pair):\n",
    "    # if i >= 5:\n",
    "    #     break\n",
    "    file_name = os.path.join(dir_pair, file_n)\n",
    "    Max_score = -1\n",
    "    with open(file_name, \"r\") as f_r:\n",
    "        while True:\n",
    "            lines = f_r.readline()\n",
    "            if not lines:\n",
    "                break\n",
    "            # id2 = lines.split('\\t')[0]\n",
    "            score = lines.split('\\t')[1].split(\"\\n\")[0]\n",
    "            score = float(score)\n",
    "            Max_score = max(score, Max_score)\n",
    "\n",
    "    threshold = Max_score *p\n",
    "    # print(file_n)\n",
    "    # print(f\"Max_score:{Max_score}\")\n",
    "    f_w = open(out_dir + file_n, \"w\")\n",
    "\n",
    "    with open(file_name, \"r\") as f_r:\n",
    "        while True:\n",
    "            lines = f_r.readline()\n",
    "            if not lines:\n",
    "                break\n",
    "            id2 = lines.split('\\t')[0]\n",
    "            score = lines.split('\\t')[1].split(\"\\n\")[0]\n",
    "            score = float(score)\n",
    "            f_w.write(id2)\n",
    "            f_w.write(\"\\t\")\n",
    "\n",
    "            if score >= threshold:\n",
    "                # print(id2, score)\n",
    "                f_w.write(str(1))\n",
    "                f_w.write(\"\\n\")\n",
    "            else:\n",
    "                f_w.write(str(0))\n",
    "                f_w.write(\"\\n\")\n",
    "    f_w.close()\n",
    "\n",
    "    # i += 1\n",
    "    # print(\"------------------------------------------------\")"
   ]
  }
 ],
 "metadata": {
  "kernelspec": {
   "display_name": "Python 3 (ipykernel)",
   "language": "python",
   "name": "python3"
  },
  "language_info": {
   "codemirror_mode": {
    "name": "ipython",
    "version": 3
   },
   "file_extension": ".py",
   "mimetype": "text/x-python",
   "name": "python",
   "nbconvert_exporter": "python",
   "pygments_lexer": "ipython3",
   "version": "3.8.12"
  },
  "vscode": {
   "interpreter": {
    "hash": "474a727007314fe946f45bbc9b266c6bb0e4e19682495744a6293558354c7c6e"
   }
  }
 },
 "nbformat": 4,
 "nbformat_minor": 2
}
