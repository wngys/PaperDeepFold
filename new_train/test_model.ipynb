{
 "cells": [
  {
   "cell_type": "code",
   "execution_count": 1,
   "metadata": {},
   "outputs": [],
   "source": [
    "#/home/wngys/lab/DeepFold/Code\n",
    "import numpy as np\n",
    "import random\n",
    "\n",
    "import torch\n",
    "import torch.nn as nn\n",
    "import torch.nn.functional as F\n",
    "from torch.utils.data import Dataset\n",
    "from torch.utils.data import DataLoader\n",
    "import torchvision.transforms as T\n",
    "from model import *\n",
    "\n",
    "import os"
   ]
  },
  {
   "cell_type": "code",
   "execution_count": 2,
   "metadata": {},
   "outputs": [],
   "source": [
    "# --------------------------------------------------------------------------------------------- #\n",
    "# 设置显卡\n",
    "os.environ[\"CUDA_DEVICE_ORDER\"] = \"PCI_BUS_ID\"\n",
    "os.environ[\"CUDA_VISIBLE_DEVICES\"] = \"0, 1, 2, 3\"\n",
    "device_ids = [0, 1, 2, 3]"
   ]
  },
  {
   "cell_type": "code",
   "execution_count": 3,
   "metadata": {},
   "outputs": [],
   "source": [
    "# --------------------------------------------------------------------------------------------- #\n",
    "# 加载模型的参数进行测试\n",
    "# model_path = \"/home/wngys/lab/DeepFold/new_model/new_model_2/model_17.pt\"\n",
    "# model_path = \"/home/wngys/lab/DeepFold/model/model_lossF/best_model.pt\"\n",
    "# model_path = \"/home/wngys/lab/DeepFold/new_model/new_model/best_model.pt\"\n",
    "model_path = \"/home/wngys/lab/DeepFold/new_model/new_model_3/model_9.pt\"\n",
    "\n",
    "chkp = torch.load(model_path)\n",
    "\n",
    "device = torch.device(\"cuda\" if torch.cuda.is_available() else \"cpu\")\n",
    "# DFold_model = DeepFold(in_channel = 1)\n",
    "DFold_model = DeepFold(in_channel = 3)\n",
    "DFold_model = nn.DataParallel(DFold_model, device_ids).to(device)\n",
    "# DFold_model.load_state_dict(chkp)\n",
    "DFold_model.load_state_dict(chkp[\"model_param\"])"
   ]
  },
  {
   "cell_type": "code",
   "execution_count": 4,
   "metadata": {},
   "outputs": [],
   "source": [
    "# --------------------------------------------------------------------------------------------- #\n",
    "# 自定义Dataset：加载蛋白质id、距离矩阵、标签\n",
    "class allMatrixLabelDataset(Dataset):\n",
    "    def __init__(self, matrix_dir, transform=None):\n",
    "        IDListPath = \"/home/wngys/lab/DeepFold/protein_infor/IDArray.npy\"\n",
    "        self.IDlist = np.load(IDListPath, allow_pickle=True).tolist()\n",
    "        self.matrix_dir = matrix_dir\n",
    "        self.transform = transform\n",
    "\n",
    "    def __len__(self):\n",
    "        return len(self.IDlist)\n",
    "\n",
    "    def __getitem__(self, idx):\n",
    "        id = self.IDlist[idx]\n",
    "        matrix_path = self.matrix_dir + id + \".npy\"\n",
    "        matrix = torch.from_numpy(np.load(matrix_path, allow_pickle=True)).to(torch.float)\n",
    "        # matrix = torch.from_numpy(np.expand_dims(np.load(matrix_path, allow_pickle=True), 0)).to(torch.float)\n",
    "        if self.transform:\n",
    "            matrix = self.transform(matrix)\n",
    "        return id, matrix"
   ]
  },
  {
   "cell_type": "code",
   "execution_count": 5,
   "metadata": {},
   "outputs": [],
   "source": [
    "# all_matrix_dir = \"/home/wngys/lab/DeepFold/distance_matrix_r/distance_matrix_mine_r/\"\n",
    "all_matrix_dir = \"/home/wngys/lab/DeepFold/distance_matrix_r/distance_matrix_mine_r_3/\"\n",
    "transform = T.Compose([\n",
    "    T.Resize((256, 256)),\n",
    "    # T.Normalize(mean=[0.0660], std=[0.0467])\n",
    "    T.Normalize(mean=[0.0068, 0.0003, 2.3069e-05], std=[0.0140, 0.0015, 0.0002])\n",
    "])"
   ]
  },
  {
   "cell_type": "code",
   "execution_count": 6,
   "metadata": {},
   "outputs": [],
   "source": [
    "BATCH_SIZE = 64\n",
    "all_dataset = allMatrixLabelDataset(all_matrix_dir, transform)\n",
    "all_dataloader = DataLoader(all_dataset, BATCH_SIZE, shuffle=False, num_workers=2, pin_memory=True)"
   ]
  },
  {
   "cell_type": "code",
   "execution_count": 7,
   "metadata": {},
   "outputs": [],
   "source": [
    "vector_dict = {}\n",
    "\n",
    "DFold_model.eval()\n",
    "\n",
    "for ids, matrices in all_dataloader:\n",
    "    matrices = matrices.to(device)\n",
    "    with torch.no_grad():\n",
    "        vectors = DFold_model(matrices)\n",
    "    for idx in range(len(ids)):\n",
    "        vector_dict[ids[idx]] = vectors[idx:idx+1]"
   ]
  },
  {
   "cell_type": "code",
   "execution_count": 8,
   "metadata": {},
   "outputs": [
    {
     "name": "stdout",
     "output_type": "stream",
     "text": [
      "14274\n"
     ]
    }
   ],
   "source": [
    "all_ids = list(vector_dict.keys())\n",
    "print(len(all_ids))"
   ]
  },
  {
   "cell_type": "code",
   "execution_count": 9,
   "metadata": {},
   "outputs": [],
   "source": [
    "def by_simi(t):\n",
    "    return t[1]"
   ]
  },
  {
   "cell_type": "code",
   "execution_count": 10,
   "metadata": {},
   "outputs": [],
   "source": [
    "K = 10"
   ]
  },
  {
   "cell_type": "code",
   "execution_count": 11,
   "metadata": {},
   "outputs": [],
   "source": [
    "def getTruePairSetByID(protein_id):\n",
    "    pair_dir = \"/home/wngys/lab/DeepFold/pair/pair_bool_90/\"\n",
    "    pair_path = pair_dir + protein_id + \".txt\"\n",
    "    true_pair_list = []\n",
    "    with open(pair_path, \"r\") as f_r:\n",
    "        while True:\n",
    "            lines = f_r.readline()\n",
    "            if not lines:\n",
    "                break\n",
    "            id= lines.split('\\t')[0]\n",
    "            label = lines.split('\\t')[1].split(\"\\n\")[0]\n",
    "            if label == '1':\n",
    "                true_pair_list.append(id)\n",
    "    true_pair_set = set(true_pair_list)\n",
    "    return true_pair_set"
   ]
  },
  {
   "cell_type": "code",
   "execution_count": 12,
   "metadata": {},
   "outputs": [],
   "source": [
    "testIDList = np.load(\"/home/wngys/lab/DeepFold/pair/test.npy\", allow_pickle=True).tolist()\n",
    "random.shuffle(testIDList)\n",
    "testIDList = testIDList[:100]"
   ]
  },
  {
   "cell_type": "code",
   "execution_count": 13,
   "metadata": {},
   "outputs": [],
   "source": [
    "validIDList = np.load(\"/home/wngys/lab/DeepFold/pair/valid.npy\", allow_pickle=True).tolist()\n",
    "random.shuffle(validIDList)\n",
    "validIDList = validIDList[:100]"
   ]
  },
  {
   "cell_type": "code",
   "execution_count": 14,
   "metadata": {},
   "outputs": [],
   "source": [
    "# query_list = testIDList\n",
    "query_list = validIDList\n"
   ]
  },
  {
   "cell_type": "code",
   "execution_count": 15,
   "metadata": {},
   "outputs": [],
   "source": [
    "cntShot = 0\n",
    "\n",
    "for query_id in query_list:\n",
    "    # print(query_id)\n",
    "    \n",
    "    query_vector = vector_dict[query_id]\n",
    "\n",
    "    id_simi_list = []\n",
    "    for id in all_ids:\n",
    "        vector = vector_dict[id]\n",
    "        cos_simi = F.cosine_similarity(query_vector, vector, dim=1).tolist()[0]\n",
    "        id_simi_list.append((id, cos_simi))\n",
    "    id_simi_list = sorted(id_simi_list, key=by_simi, reverse=True)\n",
    "\n",
    "    top_K_id_list = []\n",
    "    for idx in range(K+1):\n",
    "        top_K_id_list.append(id_simi_list[idx][0])\n",
    "    top_K_id_set = set(top_K_id_list)\n",
    "\n",
    "    true_pair_id_set = getTruePairSetByID(query_id)\n",
    "    shot_set = top_K_id_set & true_pair_id_set\n",
    "    if len(shot_set)>0:\n",
    "        cntShot += 1\n",
    "        # print(query_id, \"shot.\")\n",
    "    \n",
    "    # print(top_K_id_set)\n",
    "    # print(true_pair_id_set)\n",
    "    # print(shot_set)"
   ]
  },
  {
   "cell_type": "code",
   "execution_count": 16,
   "metadata": {},
   "outputs": [
    {
     "name": "stdout",
     "output_type": "stream",
     "text": [
      "0.31 31 100\n"
     ]
    }
   ],
   "source": [
    "acc = cntShot / len(query_list)\n",
    "print(acc, cntShot, len(query_list))"
   ]
  },
  {
   "cell_type": "code",
   "execution_count": null,
   "metadata": {},
   "outputs": [],
   "source": []
  }
 ],
 "metadata": {
  "kernelspec": {
   "display_name": "Python 3.8.12 64-bit ('miniconda38')",
   "language": "python",
   "name": "python3"
  },
  "language_info": {
   "codemirror_mode": {
    "name": "ipython",
    "version": 3
   },
   "file_extension": ".py",
   "mimetype": "text/x-python",
   "name": "python",
   "nbconvert_exporter": "python",
   "pygments_lexer": "ipython3",
   "version": "3.8.12"
  },
  "orig_nbformat": 4,
  "vscode": {
   "interpreter": {
    "hash": "474a727007314fe946f45bbc9b266c6bb0e4e19682495744a6293558354c7c6e"
   }
  }
 },
 "nbformat": 4,
 "nbformat_minor": 2
}
