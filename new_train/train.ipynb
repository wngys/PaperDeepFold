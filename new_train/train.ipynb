{
 "cells": [
  {
   "cell_type": "code",
   "execution_count": 1,
   "metadata": {},
   "outputs": [],
   "source": [
    "#/home/wngys/lab/DeepFold/Code\n",
    "import numpy as np\n",
    "import random\n",
    "\n",
    "import torch\n",
    "import torch.nn as nn\n",
    "import torch.nn.functional as F\n",
    "from torch.utils.data import Dataset\n",
    "from torch.utils.data import DataLoader\n",
    "import torchvision.transforms as T\n",
    "from model import *\n",
    "\n",
    "import os"
   ]
  },
  {
   "cell_type": "code",
   "execution_count": 2,
   "metadata": {},
   "outputs": [],
   "source": [
    "# --------------------------------------------------------------------------------------------- #\n",
    "# 设置显卡\n",
    "os.environ[\"CUDA_DEVICE_ORDER\"] = \"PCI_BUS_ID\"\n",
    "os.environ[\"CUDA_VISIBLE_DEVICES\"] = \"0, 5, 6, 7\"\n",
    "device_ids = [0, 1, 2, 3]"
   ]
  },
  {
   "cell_type": "code",
   "execution_count": 3,
   "metadata": {},
   "outputs": [
    {
     "data": {
      "text/plain": [
       "<All keys matched successfully>"
      ]
     },
     "execution_count": 3,
     "metadata": {},
     "output_type": "execute_result"
    }
   ],
   "source": [
    "# --------------------------------------------------------------------------------------------- #\n",
    "# 测试：加载训练过的模型接着训练\n",
    "chkp = torch.load(\"/home/wngys/lab/DeepFold/new_model/new_model/model_2.pt\")\n",
    "\n",
    "device = torch.device(\"cuda\" if torch.cuda.is_available() else \"cpu\")\n",
    "DFold_model = DeepFold(in_channel = 1)\n",
    "DFold_model = nn.DataParallel(DFold_model, device_ids).to(device)\n",
    "DFold_model.load_state_dict(chkp[\"model_param\"])"
   ]
  },
  {
   "cell_type": "code",
   "execution_count": 4,
   "metadata": {},
   "outputs": [],
   "source": [
    "# --------------------------------------------------------------------------------------------- #\n",
    "# 自定义Dataset：加载蛋白质id、距离矩阵、标签\n",
    "class MatrixLabelDataset(Dataset):\n",
    "    def __init__(self, protein_id, pair_dir, matrix_dir, transform=None):\n",
    "        self.protein_id = protein_id\n",
    "        self.matrix_dir = matrix_dir\n",
    "        self.transform = transform\n",
    "        pair_path = pair_dir + protein_id + \".txt\"\n",
    "        self.id_label_list = self.get_id_label_list(pair_path)\n",
    "\n",
    "    def __len__(self):\n",
    "        return len(self.id_label_list)\n",
    "\n",
    "    def __getitem__(self, idx):\n",
    "        id = self.id_label_list[idx][0]\n",
    "        label = self.id_label_list[idx][1]\n",
    "        matrix_path = self.matrix_dir + id + \".npy\"\n",
    "        matrix = torch.from_numpy(np.expand_dims(np.load(matrix_path, allow_pickle=True), 0)).to(torch.float)\n",
    "        if self.transform:\n",
    "            matrix = self.transform(matrix)\n",
    "        return id, matrix, label\n",
    "    \n",
    "    def get_id_label_list(self, pair_path):\n",
    "        id_label_list = []\n",
    "        with open(pair_path, \"r\") as f_r:\n",
    "            while True:\n",
    "                lines = f_r.readline()\n",
    "                if not lines:\n",
    "                    break\n",
    "                id= lines.split('\\t')[0]\n",
    "                label = lines.split('\\t')[1].split(\"\\n\")[0]\n",
    "                id_label_list.append((id, label))\n",
    "        return id_label_list"
   ]
  },
  {
   "cell_type": "code",
   "execution_count": 5,
   "metadata": {},
   "outputs": [],
   "source": [
    "# --------------------------------------------------------------------------------------------- #\n",
    "# 计算loss\n",
    "def MaxMarginLoss(vectors):\n",
    "    query_vector = vectors[:1]\n",
    "    pos_vectors = vectors[1:7]\n",
    "    neg_vectors = vectors[7:]\n",
    "\n",
    "    query_vector_6 = query_vector.repeat(6, 1)\n",
    "    query_vector_57 = query_vector.repeat(57, 1)\n",
    "\n",
    "    pos_cos_simi = F.cosine_similarity(query_vector_6, pos_vectors, dim=1).view(6, 1)\n",
    "    neg_cos_simi = F.cosine_similarity(query_vector_57, neg_vectors, dim=1).view(1, 57)\n",
    "\n",
    "    m = 0.1\n",
    "    diff = neg_cos_simi - pos_cos_simi + m\n",
    "    loss = torch.sum(diff[diff>=0])\n",
    "    # print(loss)\n",
    "    \n",
    "    return loss"
   ]
  },
  {
   "cell_type": "code",
   "execution_count": 6,
   "metadata": {},
   "outputs": [],
   "source": [
    "# --------------------------------------------------------------------------------------------- #\n",
    "def by_simi(t):\n",
    "    return t[2]"
   ]
  },
  {
   "cell_type": "code",
   "execution_count": 7,
   "metadata": {},
   "outputs": [],
   "source": [
    "# --------------------------------------------------------------------------------------------- #\n",
    "# 模型在训练过程中，测试在验证集上的准确率acc\n",
    "def ModelOnValidSet():\n",
    "    DFold_model.eval()\n",
    "    K = 10\n",
    "    valid_pair_dir = \"/home/wngys/lab/DeepFold/pair/pair_bool_90/\"\n",
    "    valid_matrix_dir = \"/home/wngys/lab/DeepFold/distance_matrix_r/distance_matrix_mine_r/\"\n",
    "    \n",
    "    cntShot = 0\n",
    "    for idx, protein_id in enumerate(validIDlist):\n",
    "        # print(protein_id)\n",
    "        query_matrix_path = valid_matrix_dir + protein_id + \".npy\"\n",
    "        query_matrix = torch.unsqueeze(torch.from_numpy(np.expand_dims(np.load(query_matrix_path, allow_pickle=True), 0)).to(torch.float), 0)\n",
    "        query_matrix = transform(query_matrix)\n",
    "        query_matrix = query_matrix.to(device)\n",
    "        query_vector = DFold_model(query_matrix)\n",
    "        \n",
    "        valid_dataset = MatrixLabelDataset(protein_id, valid_pair_dir, valid_matrix_dir, transform)\n",
    "        valid_dataloader = DataLoader(valid_dataset, BATCH_SIZE, shuffle=False, num_workers=2, pin_memory=True)\n",
    "        \n",
    "        id_label_simi_list = []\n",
    "\n",
    "        for ids, matrices, labels in valid_dataloader:\n",
    "            bs = len(ids) # batch size\n",
    "            matrices = matrices.to(device)\n",
    "            vectors = DFold_model(matrices)\n",
    "            query_vector_bs = query_vector.repeat(bs, 1)\n",
    "            cos_simi = F.cosine_similarity(query_vector_bs, vectors, dim=1)\n",
    "\n",
    "            for i in range(bs):\n",
    "                id_label_simi_list.append((ids[i], labels[i], cos_simi[i].tolist()))\n",
    "\n",
    "        id_label_simi_list = sorted(id_label_simi_list, key=by_simi, reverse=True)\n",
    "\n",
    "        shot = False\n",
    "        for t in id_label_simi_list[:K]:\n",
    "            if t[1] == '1':\n",
    "                shot = True\n",
    "                break\n",
    "        if shot:\n",
    "            cntShot += 1\n",
    "\n",
    "    acc = cntShot / len(validIDlist)\n",
    "    print(\"Valid acc:\", acc, \"| shot:\", cntShot, \"| total:\", len(validIDlist))\n",
    "    return (acc, cntShot, len(validIDlist))"
   ]
  },
  {
   "cell_type": "code",
   "execution_count": 8,
   "metadata": {},
   "outputs": [],
   "source": [
    "# --------------------------------------------------------------------------------------------- #\n",
    "# 模型在训练过程中，测试在训练集上的准确率acc\n",
    "def ModelOnTrainSet():\n",
    "    DFold_model.eval()\n",
    "    K = 10\n",
    "    train_pair_dir = \"/home/wngys/lab/DeepFold/pair/pair_bool_90/\"\n",
    "    train_matrix_dir = \"/home/wngys/lab/DeepFold/distance_matrix_r/distance_matrix_mine_r/\"\n",
    "    \n",
    "    cntShot = 0\n",
    "    for idx, protein_id in enumerate(trainIDlist[:100]):\n",
    "        # print(protein_id)\n",
    "        query_matrix_path = train_matrix_dir + protein_id + \".npy\"\n",
    "        query_matrix = torch.unsqueeze(torch.from_numpy(np.expand_dims(np.load(query_matrix_path, allow_pickle=True), 0)).to(torch.float), 0)\n",
    "        query_matrix = transform(query_matrix)\n",
    "        query_matrix = query_matrix.to(device)\n",
    "        query_vector = DFold_model(query_matrix)\n",
    "        \n",
    "        train_dataset = MatrixLabelDataset(protein_id, train_pair_dir, train_matrix_dir, transform)\n",
    "        train_dataloader = DataLoader(train_dataset, BATCH_SIZE, shuffle=False, num_workers=2, pin_memory=True)\n",
    "        \n",
    "        id_label_simi_list = []\n",
    "\n",
    "        for ids, matrices, labels in train_dataloader:\n",
    "            bs = len(ids) # batch size\n",
    "            matrices = matrices.to(device)\n",
    "            vectors = DFold_model(matrices)\n",
    "            query_vector_bs = query_vector.repeat(bs, 1)\n",
    "            cos_simi = F.cosine_similarity(query_vector_bs, vectors, dim=1)\n",
    "\n",
    "            for i in range(bs):\n",
    "                id_label_simi_list.append((ids[i], labels[i], cos_simi[i].tolist()))\n",
    "\n",
    "        id_label_simi_list = sorted(id_label_simi_list, key=by_simi, reverse=True)\n",
    "\n",
    "        shot = False\n",
    "        for t in id_label_simi_list[:K]:\n",
    "            if t[1] == '1':\n",
    "                shot = True\n",
    "                break\n",
    "        if shot:\n",
    "            cntShot += 1\n",
    "\n",
    "    acc = cntShot / len(trainIDlist[:100])\n",
    "    print(\"Train acc:\", acc, \"| shot:\", cntShot, \"| total:\", len(trainIDlist[:100]))\n",
    "    return (acc, cntShot, len(trainIDlist[:100]))"
   ]
  },
  {
   "cell_type": "code",
   "execution_count": 13,
   "metadata": {},
   "outputs": [
    {
     "name": "stdout",
     "output_type": "stream",
     "text": [
      "Train acc: 0.78 | shot: 78 | total: 100\n"
     ]
    },
    {
     "data": {
      "text/plain": [
       "(0.78, 78, 100)"
      ]
     },
     "execution_count": 13,
     "metadata": {},
     "output_type": "execute_result"
    }
   ],
   "source": [
    "ModelOnTrainSet()"
   ]
  },
  {
   "cell_type": "code",
   "execution_count": 16,
   "metadata": {},
   "outputs": [
    {
     "name": "stdout",
     "output_type": "stream",
     "text": [
      "Valid acc: 0.73 | shot: 73 | total: 100\n"
     ]
    },
    {
     "data": {
      "text/plain": [
       "(0.73, 73, 100)"
      ]
     },
     "execution_count": 16,
     "metadata": {},
     "output_type": "execute_result"
    }
   ],
   "source": [
    "ModelOnValidSet()"
   ]
  },
  {
   "cell_type": "code",
   "execution_count": 8,
   "metadata": {},
   "outputs": [],
   "source": [
    "# --------------------------------------------------------------------------------------------- #\n",
    "# 训练一个未被训练过的模型\n",
    "device = torch.device(\"cuda\" if torch.cuda.is_available() else \"cpu\")\n",
    "DFold_model = DeepFold(in_channel = 1)\n",
    "DFold_model = nn.DataParallel(DFold_model, device_ids).to(device)"
   ]
  },
  {
   "cell_type": "code",
   "execution_count": 12,
   "metadata": {},
   "outputs": [],
   "source": [
    "START_EPOCH = 0\n",
    "EPOCH = 10\n",
    "BATCH_SIZE = 64"
   ]
  },
  {
   "cell_type": "code",
   "execution_count": 15,
   "metadata": {},
   "outputs": [],
   "source": [
    "trainIDlist = np.load(\"/home/wngys/lab/DeepFold/pair/train.npy\", allow_pickle=True)\n",
    "# random.shuffle(trainIDlist)\n",
    "trainIDlist = trainIDlist[:400]\n",
    "# validIDlist = np.load(\"/home/wngys/lab/DeepFold/pair/valid.npy\", allow_pickle=True)\n",
    "# random.shuffle(validIDlist)\n",
    "# validIDlist = validIDlist[:100]\n",
    "validIDlist = chkp['valid_id_list']"
   ]
  },
  {
   "cell_type": "code",
   "execution_count": 10,
   "metadata": {},
   "outputs": [],
   "source": [
    "train_pair_dir = \"/home/wngys/lab/DeepFold/pair/new_train_pair_bool_90/\"\n",
    "train_matrix_dir = \"/home/wngys/lab/DeepFold/distance_matrix_r/distance_matrix_mine_r/\"\n",
    "transform = T.Compose([\n",
    "    T.Resize((256, 256)),\n",
    "    T.Normalize(mean=[0.0660], std=[0.0467])\n",
    "])\n",
    "optimizer = torch.optim.SGD(DFold_model.parameters(), lr = 1e-2, momentum=0.9)"
   ]
  },
  {
   "cell_type": "code",
   "execution_count": 12,
   "metadata": {},
   "outputs": [
    {
     "name": "stdout",
     "output_type": "stream",
     "text": [
      "Epoch: 0 | idx: 0 | id: d5azpa_ | last batch loss: 39.852821350097656\n",
      "Train acc: 0.61 | shot: 61 | total: 100\n",
      "Valid acc: 0.6 | shot: 60 | total: 100\n",
      "Epoch: 0 | idx: 1 | id: d1xrsa_ | last batch loss: 31.024084091186523\n",
      "Epoch: 0 | idx: 2 | id: d1u8sa2 | last batch loss: 16.157451629638672\n",
      "Epoch: 0 | idx: 3 | id: d1f81a_ | last batch loss: 15.918352127075195\n",
      "Epoch: 0 | idx: 4 | id: d3lhla_ | last batch loss: 11.380094528198242\n",
      "Epoch: 0 | idx: 5 | id: d1vcaa2 | last batch loss: 15.257631301879883\n",
      "Epoch: 0 | idx: 6 | id: d2cpha1 | last batch loss: 11.957173347473145\n",
      "Epoch: 0 | idx: 7 | id: d1vaja1 | last batch loss: 43.931297302246094\n",
      "Epoch: 0 | idx: 8 | id: d2q9qb2 | last batch loss: 43.82976531982422\n",
      "Epoch: 0 | idx: 9 | id: d1uzka1 | last batch loss: 18.757997512817383\n",
      "Epoch: 0 | idx: 10 | id: d1ngka_ | last batch loss: 16.36570930480957\n",
      "Epoch: 0 | idx: 11 | id: d2dj0a1 | last batch loss: 16.466266632080078\n",
      "Epoch: 0 | idx: 12 | id: d1nkpa1 | last batch loss: 13.507769584655762\n",
      "Epoch: 0 | idx: 13 | id: d3s9ka1 | last batch loss: 7.547784328460693\n",
      "Epoch: 0 | idx: 14 | id: d1sdsa_ | last batch loss: 8.950922012329102\n",
      "Epoch: 0 | idx: 15 | id: d4dvqa_ | last batch loss: 1.2514991760253906\n",
      "Epoch: 0 | idx: 16 | id: d1rdua_ | last batch loss: 6.928991317749023\n",
      "Epoch: 0 | idx: 17 | id: d3ezqa1 | last batch loss: 15.569771766662598\n",
      "Epoch: 0 | idx: 18 | id: d2doaa1 | last batch loss: 14.463425636291504\n",
      "Epoch: 0 | idx: 19 | id: d4wu0a_ | last batch loss: 5.743076324462891\n",
      "Epoch: 0 | idx: 20 | id: d1t0ha_ | last batch loss: 16.643428802490234\n",
      "Epoch: 0 | idx: 21 | id: d1y0jb2 | last batch loss: 11.686336517333984\n",
      "Epoch: 0 | idx: 22 | id: d2d8xa2 | last batch loss: 11.960100173950195\n",
      "Epoch: 0 | idx: 23 | id: d2cqma1 | last batch loss: 34.700950622558594\n",
      "Epoch: 0 | idx: 24 | id: d2c6qa1 | last batch loss: 8.450559616088867\n",
      "Epoch: 0 | idx: 25 | id: d4fkea3 | last batch loss: 14.784156799316406\n",
      "Epoch: 0 | idx: 26 | id: d2anra2 | last batch loss: 10.271961212158203\n",
      "Epoch: 0 | idx: 27 | id: d1z54a1 | last batch loss: 3.1951045989990234\n",
      "Epoch: 0 | idx: 28 | id: d5ay7a_ | last batch loss: 49.01953887939453\n"
     ]
    },
    {
     "ename": "KeyboardInterrupt",
     "evalue": "",
     "output_type": "error",
     "traceback": [
      "\u001b[0;31m---------------------------------------------------------------------------\u001b[0m",
      "\u001b[0;31mKeyboardInterrupt\u001b[0m                         Traceback (most recent call last)",
      "\u001b[1;32m/home/wngys/lab/DeepFold/Code/new_train/train.ipynb Cell 14\u001b[0m in \u001b[0;36m<cell line: 4>\u001b[0;34m()\u001b[0m\n\u001b[1;32m     <a href='vscode-notebook-cell://ssh-remote%2B7b22686f73744e616d65223a22534455536572766572227d/home/wngys/lab/DeepFold/Code/new_train/train.ipynb#W5sdnNjb2RlLXJlbW90ZQ%3D%3D?line=10'>11</a>\u001b[0m matrices \u001b[39m=\u001b[39m matrices\u001b[39m.\u001b[39mto(device)\n\u001b[1;32m     <a href='vscode-notebook-cell://ssh-remote%2B7b22686f73744e616d65223a22534455536572766572227d/home/wngys/lab/DeepFold/Code/new_train/train.ipynb#W5sdnNjb2RlLXJlbW90ZQ%3D%3D?line=11'>12</a>\u001b[0m vectors \u001b[39m=\u001b[39m DFold_model(matrices)\n\u001b[0;32m---> <a href='vscode-notebook-cell://ssh-remote%2B7b22686f73744e616d65223a22534455536572766572227d/home/wngys/lab/DeepFold/Code/new_train/train.ipynb#W5sdnNjb2RlLXJlbW90ZQ%3D%3D?line=12'>13</a>\u001b[0m loss \u001b[39m=\u001b[39m MaxMarginLoss(vectors)\n\u001b[1;32m     <a href='vscode-notebook-cell://ssh-remote%2B7b22686f73744e616d65223a22534455536572766572227d/home/wngys/lab/DeepFold/Code/new_train/train.ipynb#W5sdnNjb2RlLXJlbW90ZQ%3D%3D?line=13'>14</a>\u001b[0m optimizer\u001b[39m.\u001b[39mzero_grad()\n\u001b[1;32m     <a href='vscode-notebook-cell://ssh-remote%2B7b22686f73744e616d65223a22534455536572766572227d/home/wngys/lab/DeepFold/Code/new_train/train.ipynb#W5sdnNjb2RlLXJlbW90ZQ%3D%3D?line=14'>15</a>\u001b[0m loss\u001b[39m.\u001b[39mbackward()\n",
      "\u001b[1;32m/home/wngys/lab/DeepFold/Code/new_train/train.ipynb Cell 14\u001b[0m in \u001b[0;36mMaxMarginLoss\u001b[0;34m(vectors)\u001b[0m\n\u001b[1;32m     <a href='vscode-notebook-cell://ssh-remote%2B7b22686f73744e616d65223a22534455536572766572227d/home/wngys/lab/DeepFold/Code/new_train/train.ipynb#W5sdnNjb2RlLXJlbW90ZQ%3D%3D?line=12'>13</a>\u001b[0m m \u001b[39m=\u001b[39m \u001b[39m0.1\u001b[39m\n\u001b[1;32m     <a href='vscode-notebook-cell://ssh-remote%2B7b22686f73744e616d65223a22534455536572766572227d/home/wngys/lab/DeepFold/Code/new_train/train.ipynb#W5sdnNjb2RlLXJlbW90ZQ%3D%3D?line=13'>14</a>\u001b[0m diff \u001b[39m=\u001b[39m neg_cos_simi \u001b[39m-\u001b[39m pos_cos_simi \u001b[39m+\u001b[39m m\n\u001b[0;32m---> <a href='vscode-notebook-cell://ssh-remote%2B7b22686f73744e616d65223a22534455536572766572227d/home/wngys/lab/DeepFold/Code/new_train/train.ipynb#W5sdnNjb2RlLXJlbW90ZQ%3D%3D?line=14'>15</a>\u001b[0m loss \u001b[39m=\u001b[39m torch\u001b[39m.\u001b[39msum(diff[diff\u001b[39m>\u001b[39;49m\u001b[39m=\u001b[39;49m\u001b[39m0\u001b[39;49m])\n\u001b[1;32m     <a href='vscode-notebook-cell://ssh-remote%2B7b22686f73744e616d65223a22534455536572766572227d/home/wngys/lab/DeepFold/Code/new_train/train.ipynb#W5sdnNjb2RlLXJlbW90ZQ%3D%3D?line=15'>16</a>\u001b[0m \u001b[39m# print(loss)\u001b[39;00m\n\u001b[1;32m     <a href='vscode-notebook-cell://ssh-remote%2B7b22686f73744e616d65223a22534455536572766572227d/home/wngys/lab/DeepFold/Code/new_train/train.ipynb#W5sdnNjb2RlLXJlbW90ZQ%3D%3D?line=17'>18</a>\u001b[0m \u001b[39mreturn\u001b[39;00m loss\n",
      "\u001b[0;31mKeyboardInterrupt\u001b[0m: "
     ]
    }
   ],
   "source": [
    "train_acc_list = []\n",
    "valid_acc_list = []\n",
    "\n",
    "for epoch in range(START_EPOCH, EPOCH):\n",
    "    for idx, protein_id in enumerate(trainIDlist):\n",
    "        # print(protein_id)\n",
    "        DFold_model.train()\n",
    "        train_dataset = MatrixLabelDataset(protein_id, train_pair_dir, train_matrix_dir, transform)\n",
    "        train_dataloader = DataLoader(train_dataset, BATCH_SIZE, shuffle=False, num_workers=2, pin_memory=True)\n",
    "        for ids, matrices, labels in train_dataloader:\n",
    "            matrices = matrices.to(device)\n",
    "            vectors = DFold_model(matrices)\n",
    "            loss = MaxMarginLoss(vectors)\n",
    "            optimizer.zero_grad()\n",
    "            loss.backward()\n",
    "            optimizer.step()\n",
    "            # print(loss)\n",
    "        \n",
    "        if idx % 1 == 0:\n",
    "            print(\"Epoch:\", epoch, \"| idx:\", idx, \"| id:\", protein_id, \"| last batch loss:\", loss.tolist())\n",
    "        \n",
    "        if idx % 200 == 0:\n",
    "            train_t = ModelOnTrainSet()\n",
    "            valid_t = ModelOnValidSet()\n",
    "            train_acc_list.append(train_t)\n",
    "            valid_acc_list.append(valid_t)\n",
    "\n",
    "    chkp = {\n",
    "        \"epoch\": epoch,\n",
    "        \"model_param\": DFold_model.state_dict(),\n",
    "        \"optim_param\": optimizer.state_dict(),\n",
    "        \"train_acc\": train_acc_list,\n",
    "        \"valid_acc\": valid_acc_list,\n",
    "        \"valid_id_list\": validIDlist\n",
    "    }\n",
    "    torch.save(chkp, \"/home/wngys/lab/DeepFold/new_model/new_model/\" + f\"model_{epoch}.pt\")"
   ]
  },
  {
   "cell_type": "code",
   "execution_count": 17,
   "metadata": {},
   "outputs": [
    {
     "name": "stdout",
     "output_type": "stream",
     "text": [
      "[(0.61, 61, 100), (0.68, 68, 100), (0.71, 71, 100), (0.75, 75, 100), (0.71, 71, 100), (0.77, 77, 100)]\n"
     ]
    }
   ],
   "source": [
    "print(chkp['train_acc'])"
   ]
  },
  {
   "cell_type": "code",
   "execution_count": 18,
   "metadata": {},
   "outputs": [
    {
     "name": "stdout",
     "output_type": "stream",
     "text": [
      "[(0.63, 63, 100), (0.68, 68, 100), (0.76, 76, 100), (0.71, 71, 100), (0.75, 75, 100), (0.74, 74, 100)]\n"
     ]
    }
   ],
   "source": [
    "print(chkp['valid_acc'])"
   ]
  },
  {
   "cell_type": "code",
   "execution_count": 19,
   "metadata": {},
   "outputs": [
    {
     "name": "stdout",
     "output_type": "stream",
     "text": [
      "dict_keys(['epoch', 'model_param', 'optim_param', 'train_acc', 'valid_acc', 'valid_id_list'])\n"
     ]
    }
   ],
   "source": [
    "print(chkp.keys())"
   ]
  }
 ],
 "metadata": {
  "kernelspec": {
   "display_name": "Python 3.8.12 64-bit ('miniconda38')",
   "language": "python",
   "name": "python3"
  },
  "language_info": {
   "codemirror_mode": {
    "name": "ipython",
    "version": 3
   },
   "file_extension": ".py",
   "mimetype": "text/x-python",
   "name": "python",
   "nbconvert_exporter": "python",
   "pygments_lexer": "ipython3",
   "version": "3.8.12"
  },
  "orig_nbformat": 4,
  "vscode": {
   "interpreter": {
    "hash": "474a727007314fe946f45bbc9b266c6bb0e4e19682495744a6293558354c7c6e"
   }
  }
 },
 "nbformat": 4,
 "nbformat_minor": 2
}
