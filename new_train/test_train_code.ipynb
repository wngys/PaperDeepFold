{
 "cells": [
  {
   "cell_type": "code",
   "execution_count": 2,
   "metadata": {},
   "outputs": [],
   "source": [
    "# 训练过程\n",
    "#/home/wngys/lab/DeepFold/Code\n",
    "import random\n",
    "from torch.utils import data\n",
    "from model import *\n",
    "from data import *\n",
    "from torch.utils.data import DataLoader\n",
    "from torch import cosine_similarity\n",
    "import torch.nn.functional as F\n",
    "import numpy as np\n",
    "import torch\n",
    "import torch.nn as nn"
   ]
  },
  {
   "cell_type": "code",
   "execution_count": 4,
   "metadata": {},
   "outputs": [],
   "source": [
    "# # 获取id对应的distance_matrix\n",
    "def get_feature(dict_data, id, tfm):\n",
    "    feature = torch.from_numpy(dict_data[id])\n",
    "    feature = feature.to(torch.float)\n",
    "    feature = tfm(feature)\n",
    "    feature = feature.unsqueeze(0)\n",
    "    return feature"
   ]
  },
  {
   "cell_type": "code",
   "execution_count": 5,
   "metadata": {},
   "outputs": [],
   "source": [
    "class Max_margin_loss(nn.Module):\n",
    "    def __init__(self, K, m) -> None:\n",
    "        super().__init__()\n",
    "        self.K = K\n",
    "        self.m = m\n",
    "   \n",
    "    def forward(self, fingerpvec1, fingerpvec2, label):\n",
    "        posi_vec_list = []\n",
    "        nega_vec_list = []\n",
    "        for number_inbatch in range(fingerpvec2.shape[0]):\n",
    "            if label[number_inbatch] == 0:\n",
    "                nega_vec_list.append(fingerpvec2[number_inbatch])\n",
    "            elif label[number_inbatch] == 1:\n",
    "                posi_vec_list.append(fingerpvec2[number_inbatch])\n",
    "            else:\n",
    "                print(\"ERROR\")\n",
    "\n",
    "        posi_cos_smi_list = []\n",
    "        nega_cos_smi_list = []\n",
    "        for posi_vec in posi_vec_list:\n",
    "            # print(\"posi_vec: \", posi_vec.shape)\n",
    "            posi_cos_smi_list.append(F.cosine_similarity(fingerpvec1, posi_vec, dim = 0))\n",
    "        for nega_vec in nega_vec_list:\n",
    "            nega_cos_smi_list.append(F.cosine_similarity(fingerpvec1, nega_vec, dim = 0))\n",
    "\n",
    "        posi_cos_smi_list.sort() # 升序排序 选最小\n",
    "        nega_cos_smi_list.sort(reverse=True) # 降序排序 选最大\n",
    "        posi_cos = posi_cos_smi_list[0] # 只选取一个正例\n",
    "        loss = 0\n",
    "        for i in range(self.K):\n",
    "            nega_cos = nega_cos_smi_list[i]\n",
    "            loss += max(0, nega_cos - posi_cos + self.m)\n",
    "        return loss"
   ]
  },
  {
   "cell_type": "code",
   "execution_count": 6,
   "metadata": {},
   "outputs": [],
   "source": [
    "def valid_data(best_acc, valid_acc_ls, validIDlist, DFold_model, K=5):\n",
    "        \n",
    "    DFold_model.eval()\n",
    "    acc_num = 0\n",
    "    for id in validIDlist:\n",
    "        feature1 = get_feature(dict_data, id, train_tfm)\n",
    "        feature1 = feature1.to(device)\n",
    "\n",
    "        id_list = get_id_list(valid_pair_dir + id +\".txt\")\n",
    "        train_ds = Train_set(dict_data, id_list, train_tfm)\n",
    "        train_dl = DataLoader(train_ds, batch_size, shuffle=True, num_workers=2, pin_memory=True)\n",
    "\n",
    "        topKList = []\n",
    "        for feature2, label in train_dl:\n",
    "            with torch.no_grad():\n",
    "                fingerpvec1 = DFold_model(feature1)\n",
    "            feature2 = feature2.to(device)\n",
    "            label = label.to(device)\n",
    "            fingerBatch = fingerpvec1\n",
    "            for b_i in range(feature2.shape[0] - 1):\n",
    "                fingerBatch = torch.cat((fingerBatch,fingerpvec1), dim = 0)\n",
    "            with torch.no_grad():\n",
    "                fingerpvec2 = DFold_model(feature2)\n",
    "\n",
    "            cos_smi_batch = F.cosine_similarity(fingerBatch, fingerpvec2, dim=-1)\n",
    "            for cos_smi_idx in range(cos_smi_batch.shape[0]):\n",
    "                if(len(topKList) < K):\n",
    "                    topKList.append((cos_smi_batch[cos_smi_idx], label[cos_smi_idx]))\n",
    "                else:\n",
    "                    min_value = min(topKList)\n",
    "                    if (cos_smi_batch[cos_smi_idx], label[cos_smi_idx]) > min_value:\n",
    "                        min_idx = topKList.index(min_value)\n",
    "                        topKList[min_idx] = (cos_smi_batch[cos_smi_idx], label[cos_smi_idx])\n",
    "        acc_flag = False\n",
    "        for _, label in topKList:\n",
    "            if label == 1:\n",
    "                acc_flag = True\n",
    "        if acc_flag:\n",
    "            acc_num += 1\n",
    "\n",
    "    acc = acc_num / len(validIDlist)\n",
    "    valid_acc_ls.append(acc)\n",
    "    print(f\"Epoch: {epoch} | acc_num: {acc_num} | total_num: {len(validIDlist)} | acc: {acc_num / len(validIDlist):.4f}\")\n",
    "    if acc > best_acc:\n",
    "        best_acc = acc\n",
    "        torch.save(DFold_model.state_dict(), \"/home/wngys/lab/DeepFold/model/best_model.pt\")\n",
    "        print(f\"saving best model with acc: {best_acc:.4f}\")    \n",
    "    DFold_model.train()\n",
    "    return best_acc"
   ]
  },
  {
   "cell_type": "code",
   "execution_count": 7,
   "metadata": {},
   "outputs": [],
   "source": [
    "device = torch.device(\"cuda\" if torch.cuda.is_available() else \"cpu\")\n",
    "\n",
    "DFold_model = DeepFold(in_channel = 3)\n",
    "DFold_model.to(device)\n",
    "\n",
    "train_tfm = build_transform(in_channel = 3)\n",
    "optimizer = torch.optim.SGD(DFold_model.parameters(), lr = 1e-3)\n",
    "lossF = Max_margin_loss(K = 10, m = 0.1)\n",
    "\n",
    "total_epochs = 10\n",
    "batch_size = 64\n",
    "\n",
    "train_loss_ls = []\n",
    "valid_acc_ls = []\n",
    "\n",
    "resume_dir = None\n",
    "# resume_dir = \"/home/wngys/lab/DeepFold/model/model_5.pt\"\n",
    "if resume_dir is not None:\n",
    "    chkp = torch.load(\"/home/wngys/lab/DeepFold/model/model_5.pt\")\n",
    "    st_epoch = chkp[\"epoch\"]\n",
    "    best_acc = chkp[\"best_acc\"]\n",
    "    train_loss_ls.extend(chkp[\"train_loss_ls\"])\n",
    "    valid_acc_ls.extend(chkp[\"valid_acc_ls\"])\n",
    "    DFold_model.load_state_dict(chkp[\"model_param\"])\n",
    "    optimizer.load_state_dict(chkp[\"optim_param\"])\n",
    "else:\n",
    "    st_epoch = 0\n",
    "    best_acc = 0\n",
    "\n",
    "\n",
    "pair_dir = \"/home/wngys/lab/DeepFold/pair/train_pair_bool_90/\"  \n",
    "valid_pair_dir = \"/home/wngys/lab/DeepFold/pair/pair_bool_90/\"\n",
    "\n",
    "trainIDlist = np.load(\"/home/wngys/lab/DeepFold/pair/train.npy\", allow_pickle=True)\n",
    "validIDlist = np.load(\"/home/wngys/lab/DeepFold/pair/valid.npy\", allow_pickle=True)\n",
    "random.shuffle(validIDlist)\n",
    "validIDlist = validIDlist[:100]\n",
    "\n",
    "dict_data = np.load(\"/home/wngys/lab/DeepFold/distance_matrix_r/matrix_data.npy\", allow_pickle=True).tolist()\n"
   ]
  },
  {
   "cell_type": "code",
   "execution_count": 8,
   "metadata": {},
   "outputs": [],
   "source": [
    "DFold_model.train()\n",
    "total_train_loss = 0"
   ]
  },
  {
   "cell_type": "code",
   "execution_count": 9,
   "metadata": {},
   "outputs": [],
   "source": [
    "random.shuffle(trainIDlist)"
   ]
  },
  {
   "cell_type": "code",
   "execution_count": 10,
   "metadata": {},
   "outputs": [
    {
     "name": "stdout",
     "output_type": "stream",
     "text": [
      "0 d2gf5a2\n"
     ]
    }
   ],
   "source": [
    "id_idx = None\n",
    "id = None\n",
    "for id_idx_, id_ in enumerate(trainIDlist[:800]):\n",
    "    id_idx = id_idx_\n",
    "    id = id_\n",
    "    print(id_idx, id)\n",
    "    break"
   ]
  },
  {
   "cell_type": "code",
   "execution_count": 12,
   "metadata": {},
   "outputs": [
    {
     "name": "stdout",
     "output_type": "stream",
     "text": [
      "0 d2gf5a2\n"
     ]
    }
   ],
   "source": [
    "print(id_idx, id)"
   ]
  },
  {
   "cell_type": "code",
   "execution_count": 13,
   "metadata": {},
   "outputs": [],
   "source": [
    "feature1 = get_feature(dict_data, id, train_tfm)\n",
    "feature1 = feature1.to(device)"
   ]
  },
  {
   "cell_type": "code",
   "execution_count": 15,
   "metadata": {},
   "outputs": [
    {
     "name": "stdout",
     "output_type": "stream",
     "text": [
      "torch.Size([1, 3, 256, 256])\n"
     ]
    }
   ],
   "source": [
    "print(feature1.shape)"
   ]
  },
  {
   "cell_type": "code",
   "execution_count": null,
   "metadata": {},
   "outputs": [],
   "source": [
    "id_list = get_id_list(pair_dir + id +\".txt\")\n",
    "train_ds = Train_set(dict_data, id_list, train_tfm)\n",
    "train_dl = DataLoader(train_ds, batch_size, shuffle=False, num_workers=2, pin_memory=True)"
   ]
  },
  {
   "cell_type": "code",
   "execution_count": null,
   "metadata": {},
   "outputs": [],
   "source": []
  },
  {
   "cell_type": "code",
   "execution_count": null,
   "metadata": {},
   "outputs": [],
   "source": []
  },
  {
   "cell_type": "code",
   "execution_count": 4,
   "metadata": {},
   "outputs": [
    {
     "name": "stdout",
     "output_type": "stream",
     "text": [
      "dict_keys(['epoch', 'model_param', 'optim_param', 'train_acc', 'valid_acc', 'valid_id_list'])\n"
     ]
    }
   ],
   "source": [
    "import torch\n",
    "\n",
    "chkp = torch.load(\"/home/wngys/lab/DeepFold/new_model/new_model/model_2.pt\")\n",
    "print(chkp.keys())"
   ]
  },
  {
   "cell_type": "code",
   "execution_count": 5,
   "metadata": {},
   "outputs": [
    {
     "name": "stdout",
     "output_type": "stream",
     "text": [
      "[(0.61, 61, 100), (0.68, 68, 100), (0.71, 71, 100), (0.75, 75, 100), (0.71, 71, 100), (0.77, 77, 100)]\n"
     ]
    }
   ],
   "source": [
    "print(chkp['train_acc'])"
   ]
  },
  {
   "cell_type": "code",
   "execution_count": 6,
   "metadata": {},
   "outputs": [
    {
     "name": "stdout",
     "output_type": "stream",
     "text": [
      "[(0.63, 63, 100), (0.68, 68, 100), (0.76, 76, 100), (0.71, 71, 100), (0.75, 75, 100), (0.74, 74, 100)]\n"
     ]
    }
   ],
   "source": [
    "print(chkp['valid_acc'])"
   ]
  },
  {
   "cell_type": "code",
   "execution_count": null,
   "metadata": {},
   "outputs": [],
   "source": []
  }
 ],
 "metadata": {
  "kernelspec": {
   "display_name": "Python 3.8.12 64-bit ('miniconda38')",
   "language": "python",
   "name": "python3"
  },
  "language_info": {
   "codemirror_mode": {
    "name": "ipython",
    "version": 3
   },
   "file_extension": ".py",
   "mimetype": "text/x-python",
   "name": "python",
   "nbconvert_exporter": "python",
   "pygments_lexer": "ipython3",
   "version": "3.8.12"
  },
  "orig_nbformat": 4,
  "vscode": {
   "interpreter": {
    "hash": "474a727007314fe946f45bbc9b266c6bb0e4e19682495744a6293558354c7c6e"
   }
  }
 },
 "nbformat": 4,
 "nbformat_minor": 2
}
