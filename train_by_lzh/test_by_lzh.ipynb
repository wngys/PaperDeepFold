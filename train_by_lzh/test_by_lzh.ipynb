{
 "cells": [
  {
   "cell_type": "code",
   "execution_count": null,
   "metadata": {},
   "outputs": [],
   "source": [
    "import os\n",
    "from torch.utils.data import Dataset\n",
    "import numpy as np\n",
    "\n",
    "class MatrixDataset(Dataset):\n",
    "    def __init__(self, protein_id, transform=None):\n",
    "        self.pair_bool_path = \"/home/wngys/lab/DeepFold/pair/train_pair_bool_90/\" + protein_id + \".txt\"\n",
    "        self.matrix_ids_labels = self.get_ids_labels(self.pair_bool_path)\n",
    "        self.matrix_dir = \"/home/wngys/lab/DeepFold/distance_matrix_r/distance_matrix_mine_r_3/\"\n",
    "        self.transform = transform\n",
    "\n",
    "    def __len__(self):\n",
    "        return len(self.matrix_ids_labels)\n",
    "\n",
    "    def __getitem__(self, idx):\n",
    "        matrix_path = self.matrix_dir + self.matrix_ids_labels[idx, 0] + \".npy\"\n",
    "        matrix = np.load(matrix_path, allow_pickle=True)\n",
    "        label = self.matrix_ids_labels[idx, 1]\n",
    "        if self.transform:\n",
    "            matrix = self.transform(matrix)\n",
    "        return matrix, label\n",
    "    \n",
    "    def get_ids_labels(pair_bool_path):\n",
    "        pass"
   ]
  },
  {
   "cell_type": "code",
   "execution_count": 6,
   "metadata": {},
   "outputs": [],
   "source": [
    "pair_bool_dir = \"/home/wngys/lab/DeepFold/pair/train_pair_bool_90/d1a3aa_.txt\""
   ]
  },
  {
   "cell_type": "code",
   "execution_count": 7,
   "metadata": {},
   "outputs": [],
   "source": [
    "pos_ids = []\n",
    "neg_ids = []\n",
    "\n",
    "with open(pair_bool_dir, 'r') as f:\n",
    "    while True:\n",
    "        line = f.readline()\n",
    "        if not line:\n",
    "            break\n",
    "        line_split = line.split()\n",
    "        if line_split[1] == '0':\n",
    "            neg_ids.append(line_split[0])\n",
    "        elif line_split[1] == '1':\n",
    "            pos_ids.append(line_split[0])"
   ]
  },
  {
   "cell_type": "code",
   "execution_count": 11,
   "metadata": {},
   "outputs": [
    {
     "name": "stdout",
     "output_type": "stream",
     "text": [
      "17\n",
      "1023\n"
     ]
    }
   ],
   "source": [
    "print(len(pos_ids))\n",
    "print(len(neg_ids))"
   ]
  },
  {
   "cell_type": "code",
   "execution_count": null,
   "metadata": {},
   "outputs": [],
   "source": []
  },
  {
   "cell_type": "code",
   "execution_count": null,
   "metadata": {},
   "outputs": [],
   "source": []
  }
 ],
 "metadata": {
  "kernelspec": {
   "display_name": "Python 3.8.12 64-bit ('miniconda38')",
   "language": "python",
   "name": "python3"
  },
  "language_info": {
   "codemirror_mode": {
    "name": "ipython",
    "version": 3
   },
   "file_extension": ".py",
   "mimetype": "text/x-python",
   "name": "python",
   "nbconvert_exporter": "python",
   "pygments_lexer": "ipython3",
   "version": "3.8.12"
  },
  "orig_nbformat": 4,
  "vscode": {
   "interpreter": {
    "hash": "474a727007314fe946f45bbc9b266c6bb0e4e19682495744a6293558354c7c6e"
   }
  }
 },
 "nbformat": 4,
 "nbformat_minor": 2
}
