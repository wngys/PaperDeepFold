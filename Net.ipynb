{
 "cells": [
  {
   "cell_type": "code",
   "execution_count": 21,
   "metadata": {},
   "outputs": [
    {
     "name": "stdout",
     "output_type": "stream",
     "text": [
      "torch.Size([2])\n"
     ]
    }
   ],
   "source": [
    "import torch\n",
    "import torch.nn as nn\n",
    "kernel_List = [12, 4, 4, 4, 4, 4]\n",
    "channel_List = [128, 256, 512, 512, 512, 400]\n",
    "\n",
    "class ConvBlock(nn.Module):\n",
    "    def __init__(self, in_channel, out_channel, kernel_sz, padding, stride = 2) -> None:\n",
    "        super().__init__()\n",
    "        self.conv = nn.Conv2d(in_channel, out_channel, kernel_sz, stride, padding)\n",
    "        self.bn = nn.BatchNorm2d(out_channel)\n",
    "        self.relu = nn.ReLU()\n",
    "        self.dropout = nn.Dropout()\n",
    "    def forward(self, x):\n",
    "        x = self.relu(self.bn(self.conv(x)))\n",
    "        x = self.dropout(x)\n",
    "        return x\n",
    "\n",
    "def get_convBlocks(in_channel):\n",
    "    layerNum = len(kernel_List)\n",
    "    blocks = []\n",
    "    blocks.append(ConvBlock(in_channel, channel_List[0], kernel_List[0], int(kernel_List[0] / 2 - 1)))\n",
    "    for i in range(1, layerNum):\n",
    "        blocks.append(ConvBlock(channel_List[i-1], channel_List[i], kernel_List[i], int(kernel_List[i] / 2 - 1)))\n",
    "    return blocks\n",
    "\n",
    "class DeepFold(nn.Module):\n",
    "    def __init__(self, in_channel) -> None:\n",
    "        super().__init__()\n",
    "        self.convLayer = nn.Sequential(*get_convBlocks(in_channel))\n",
    "    \n",
    "    # [batch_size, 3, 256, 256]\n",
    "    def forward(self, x):\n",
    "        # [batch_size, 400, 4, 4]\n",
    "        x = self.convLayer(x)\n",
    "        # [batch_size, 400, 4]\n",
    "        x = torch.diagonal(x, dim1=2, dim2=3)\n",
    "        # [batch_size, 400]\n",
    "        x = torch.mean(x, dim= 2)\n",
    "\n",
    "        normValue = torch.norm(x, dim = 1) # norm_value [batch_size]\n",
    "        # print(normValue.shape)\n",
    "        # [400, batch_size]  除法要求最后一维要和norm_value维度匹配\n",
    "        x = x.permute(1, 0)\n",
    "        # [400, batch_size] 已经正则化\n",
    "        x = torch.div(x, normValue)\n",
    "\n",
    "        # [batch_size, 400]\n",
    "        x = x.permute(1, 0)\n",
    "        return x\n",
    "\n",
    "    # def hook(self, layer: nn.Module, input: torch.tensor, output)\n",
    "\n",
    "# outputList = []\n",
    "# def hook(self, layer: nn.Module,  output: torch.tensor):\n",
    "#     outputList.append(output)\n",
    "\n",
    "x = torch.rand(2, 3, 256, 256)\n",
    "\n",
    "model = DeepFold(3)\n",
    "\n",
    "# for layer in model.convLayer:\n",
    "#     layer.register_forward_hook(hook)\n",
    "\n",
    "y = model(x)\n",
    "\n",
    "print(torch.norm(y, dim = 1).shape)\n",
    "\n",
    "# for ele in outputList:\n",
    "#     print(ele.shape)\n",
    "\n",
    "# print(model)\n",
    "# print(help(model))\n",
    "# print(len(list(model.named_modules())))\n",
    "# for name,_ in model.convLayer.named_modules():\n",
    "#     print(name)\n",
    "#     print('-'*60)\n",
    "\n",
    "# √\n",
    "# print(x.shape)\n",
    "# for layer in model.convLayer:\n",
    "#     x = layer(x)\n",
    "#     print(x.shape)\n",
    "#     print('-'*60)\n"
   ]
  },
  {
   "cell_type": "code",
   "execution_count": 17,
   "metadata": {},
   "outputs": [
    {
     "name": "stdout",
     "output_type": "stream",
     "text": [
      "torch.float32\n",
      "tensor([ 5., 13.,  5.])\n",
      "tensor([[ 3.,  5.,  3.],\n",
      "        [ 4., 12.,  4.]])\n",
      "tensor([[0.6000, 0.3846, 0.6000],\n",
      "        [0.8000, 0.9231, 0.8000]])\n",
      "tensor([[0.6000, 0.8000],\n",
      "        [0.3846, 0.9231],\n",
      "        [0.6000, 0.8000]])\n",
      "tensor([1., 1., 1.])\n"
     ]
    }
   ],
   "source": [
    "import torch\n",
    "x = torch.tensor(\n",
    "    [[3, 4],\n",
    "    [5, 12],\n",
    "    [3, 4]],dtype=torch.float32)\n",
    "print(x.dtype)\n",
    "\n",
    "normV = torch.norm(x, dim = 1)\n",
    "print(normV)\n",
    "x = x.permute(1, 0)\n",
    "print(x)\n",
    "res = torch.div(x, normV)\n",
    "print(res)\n",
    "res = res.permute(1, 0)\n",
    "print(res)\n",
    "normV2 = torch.norm(res, dim = 1)\n",
    "print(normV2)"
   ]
  },
  {
   "cell_type": "code",
   "execution_count": 65,
   "metadata": {},
   "outputs": [],
   "source": [
    "def funcy(x: torch.tensor, k:int):\n",
    "    return x**(-2*k)"
   ]
  },
  {
   "cell_type": "code",
   "execution_count": 85,
   "metadata": {},
   "outputs": [],
   "source": [
    "class Pretfm(torch.nn.Module):\n",
    "    def __init__(self, in_channel) -> None:\n",
    "        super().__init__()\n",
    "        self.in_channel = in_channel\n",
    "\n",
    "    def forward(self, x: torch.tensor):\n",
    "\n",
    "        y = torch.rand(self.in_channel, 256, 256)\n",
    "\n",
    "        for i in range(1, self.in_channel+1):\n",
    "            y[i-1] = funcy(x, i)\n",
    "        x = y\n",
    "        return x"
   ]
  },
  {
   "cell_type": "code",
   "execution_count": 94,
   "metadata": {},
   "outputs": [],
   "source": [
    "in_channel = 3\n",
    "import torchvision.transforms as T\n",
    "train_tfm = T.Compose(\n",
    "    [\n",
    "        T.Resize((256, 256)),\n",
    "        # 取逆矩阵 扩充channel\n",
    "        # Pretfm(in_channel),\n",
    "        #是否需要数据增强 保留一个问号\n",
    "        # 层归一化\n",
    "        # nn.LayerNorm((in_channel, 256, 256))\n",
    "    ]\n",
    ")\n",
    "# t = nn.LayerNorm((in_channel, 256, 256))\n",
    "# # x = torch.rand(1, 188, 188)\n",
    "# x = torch.tensor([[[1,1],\n",
    "#                     [2,2]\n",
    "#                     ]\n",
    "#                     ], dtype=torch.float32)\n",
    "# output = train_tfm(x)\n",
    "# print(output)\n",
    "# # print(output.shape)\n",
    "# print(t(output))"
   ]
  },
  {
   "cell_type": "code",
   "execution_count": 95,
   "metadata": {},
   "outputs": [],
   "source": [
    "import numpy as np\n",
    "class Train_set(torch.utils.data.Dataset):\n",
    "\n",
    "    def __init__(self, dir, id_list, tfm) -> None:\n",
    "        super().__init__()\n",
    "        \n",
    "        self.tensor_list = []\n",
    "        for id, label in id_list:\n",
    "            # 在蛋白质数据库文件查找 id.npy\n",
    "            feature = torch.from_numpy(np.load(dir+id+\".npy\", allow_pickle=True))\n",
    "            feature = torch.unsqueeze(feature, 0)\n",
    "            self.tensor_list.append((feature,\n",
    "                                        label)\n",
    "                                        )\n",
    "        self.tfm = tfm\n",
    "\n",
    "    def __getitem__(self, idx :int):\n",
    "        y = self.tensor_list[idx][0]\n",
    "        y = self.tfm(y)\n",
    "        label = self.tensor_list[idx][1]\n",
    "        return y, label\n",
    "\n",
    "    def __len__(self):\n",
    "        return len(self.tensor_list)\n"
   ]
  },
  {
   "cell_type": "code",
   "execution_count": 99,
   "metadata": {},
   "outputs": [
    {
     "name": "stdout",
     "output_type": "stream",
     "text": [
      "[('d1a0pa2', '0'), ('d2a0ua1', '0'), ('d3a04a_', '0'), ('d5a0ya1', '0'), ('d5a0ya2', '0'), ('d1a1ia1', '0'), ('d1a1va2', '0'), ('d2a14a1', '0'), ('d2a19a2', '0'), ('d2a1jb1', '0')]\n",
      "torch.Size([1, 256, 256])\n"
     ]
    }
   ],
   "source": [
    "dir = \"../distance_matrix/distance_matrix_inf/\"\n",
    "id_path = \"../pair/pair_bool/d1a0aa_.txt\"\n",
    "id_list = []\n",
    "\n",
    "with open(id_path, \"r\") as f_r:\n",
    "    while True:\n",
    "        lines = f_r.readline()\n",
    "        if not lines:\n",
    "            break\n",
    "        line = lines.split('\\n')[0].split('\\t')\n",
    "        id_list.append((line[0], line[1]))\n",
    "\n",
    "# print(len(id_list))\n",
    "\n",
    "dataset = Train_set(dir, id_list[:10], train_tfm)\n",
    "print(id_list[:10])\n",
    "print(dataset[0][0].shape)\n",
    "\n"
   ]
  },
  {
   "cell_type": "code",
   "execution_count": 100,
   "metadata": {},
   "outputs": [
    {
     "name": "stdout",
     "output_type": "stream",
     "text": [
      "(182, 182)\n"
     ]
    }
   ],
   "source": [
    "data = np.load(\"../distance_matrix/distance_matrix_inf/d1a0pa2.npy\", allow_pickle=True)\n",
    "print(data.shape)"
   ]
  },
  {
   "cell_type": "code",
   "execution_count": null,
   "metadata": {},
   "outputs": [],
   "source": [
    "# 训练过程\n",
    "#/home/wngys/lab/DeepFold/Code\n",
    "\n"
   ]
  }
 ],
 "metadata": {
  "kernelspec": {
   "display_name": "Python 3.8.12 64-bit ('miniconda38')",
   "language": "python",
   "name": "python3"
  },
  "language_info": {
   "codemirror_mode": {
    "name": "ipython",
    "version": 3
   },
   "file_extension": ".py",
   "mimetype": "text/x-python",
   "name": "python",
   "nbconvert_exporter": "python",
   "pygments_lexer": "ipython3",
   "version": "3.8.12"
  },
  "orig_nbformat": 4,
  "vscode": {
   "interpreter": {
    "hash": "474a727007314fe946f45bbc9b266c6bb0e4e19682495744a6293558354c7c6e"
   }
  }
 },
 "nbformat": 4,
 "nbformat_minor": 2
}
